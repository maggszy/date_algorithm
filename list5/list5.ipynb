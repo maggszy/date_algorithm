{
 "cells": [
  {
   "cell_type": "markdown",
   "metadata": {},
   "source": [
    "\n",
    " #  <span style=\"color:#D47FAC;\"> <center>LIST 5 </center> </span>\n",
    "\n",
    "Authors: _Jakubik Małgorzata, Szymkowiak Magdalena_"
   ]
  },
  {
   "cell_type": "markdown",
   "metadata": {},
   "source": [
    "## <span style=\"color:#D47FAC;\">TASK 1</span> "
   ]
  },
  {
   "cell_type": "markdown",
   "metadata": {},
   "source": [
    "W zadaniu pierwszym przeprowadzamy analizę eksperymentalną złożoności obliczeniowej rozwiązywania układów równań metodą Cramera. Będziemy mierzyć czas wykonania funkcji dla poszczególnych rozmiarów macierzy (liczba niewiadomych w równaniu). Na dane wejściowe i wyjściowe nałożymy logarytm, aby otrzymać zależność liniową. $$ n^a = y \\\\ alnn=lny $$ Szukamy wartości parametru a, czyli w tym wypadku współczynnika kierunkowego prostej."
   ]
  },
  {
   "cell_type": "code",
   "execution_count": 2,
   "metadata": {},
   "outputs": [],
   "source": [
    "import numpy as np\n",
    "from scipy import linalg\n",
    "from scipy import stats\n",
    "import time, random\n",
    "import matplotlib.pyplot as plt\n",
    "from scipy.optimize import curve_fit"
   ]
  },
  {
   "cell_type": "code",
   "execution_count": 3,
   "metadata": {},
   "outputs": [],
   "source": [
    "def cramer_matrix(n):\n",
    "    \"\"\"\n",
    "    Funkcja rozwiązuje cramerowski układ równań.\n",
    "    @param n: rozmiar macierzy\n",
    "    \"\"\"\n",
    "    a = np.array([[random.randint(-50, 50) for _ in range(n)] for _ in range(n)])\n",
    "    b = np.array([random.randint(-50, 50) for _ in range(n)])\n",
    "    return linalg.solve(a, b)"
   ]
  },
  {
   "cell_type": "code",
   "execution_count": 4,
   "metadata": {},
   "outputs": [],
   "source": [
    "def time_check(n):\n",
    "    \"\"\"\n",
    "    Mierzy czas działania funkci 'cramer_matrix' w zależnośći od wielkości macierz.\n",
    "    @param: rozmiar macierzy\n",
    "    \"\"\"\n",
    "    t0 = time.time()\n",
    "    cramer_matrix(n)\n",
    "    t1 = time.time()\n",
    "\n",
    "    return t1 - t0"
   ]
  },
  {
   "cell_type": "code",
   "execution_count": 7,
   "metadata": {},
   "outputs": [],
   "source": [
    "def log_plot(min=500, max=8000, step=400):\n",
    "    \"\"\"\n",
    "    Funkcja rysuje wykres złożoności obliczeniowej funkcji 'cramer_matrix' oraz jej przybliżenie \n",
    "    @param min: minimalna wartość argumentów\n",
    "    @param max: maksymalna wartość argumentów\n",
    "    @param step: krok z jakim idziemy od minimalnej wartości do maksymalnej\n",
    "    \"\"\"\n",
    "    x = [i for i in range(min, max, step)]\n",
    "    times = [time_check(i) for i in x]\n",
    "\n",
    "    slope = stats.linregress(np.log(x), np.log(times))[0]\n",
    "\n",
    "    plt.plot(x, times, '.', label='Dane')\n",
    "    plt.loglog(x, times, label='Wsp kierunkowy = %4f' % slope)\n",
    "\n",
    "    plt.xlabel(\"Wielkość macierzy\")\n",
    "    plt.ylabel(\"Czas wykonania operacji\")\n",
    "    plt.title(\"Wykres czasu w zależności od wielkości macierzy w skali logarytmicznej\")\n",
    "    plt.grid()\n",
    "    plt.legend(loc='upper left')\n",
    "    plt.show()"
   ]
  },
  {
   "cell_type": "code",
   "execution_count": 8,
   "metadata": {},
   "outputs": [
    {
     "data": {
      "image/png": "[encoded data removed]",
      "text/plain": [
       "<Figure size 432x288 with 1 Axes>"
      ]
     },
     "metadata": {
      "needs_background": "light"
     },
     "output_type": "display_data"
    }
   ],
   "source": [
    "log_plot()"
   ]
  },
  {
   "cell_type": "markdown",
   "metadata": {},
   "source": [
    "Ponieważ współczynnik kierunkowy prostej jest w przybliżeniu równy 2 otrzymujemy, że dla $ 8000 \\approx 2^{13} $ złożoność obliczeniowa możemy oszacować jako $ O(n^2) $."
   ]
  },
  {
   "cell_type": "markdown",
   "metadata": {},
   "source": [
    "W funkcji array_time sprawdzamy czas wykonania funkcji dla macierzy o wielkości równej kolejnym potęgom liczby 2."
   ]
  },
  {
   "cell_type": "code",
   "execution_count": 378,
   "metadata": {},
   "outputs": [],
   "source": [
    "def array_time(num): #amount of powers\n",
    "    times=[]\n",
    "    for i in range(num):\n",
    "        times.append(time_check(2**i))\n",
    "    log_times=[np.log(j) for j in times]\n",
    "    return times, log_times"
   ]
  },
  {
   "cell_type": "code",
   "execution_count": 379,
   "metadata": {},
   "outputs": [
    {
     "name": "stdout",
     "output_type": "stream",
     "text": [
      "[0.0009865760803222656, 0.0, 0.0010020732879638672, 0.0010020732879638672, 0.0009970664978027344, 0.00400233268737793, 0.00699615478515625, 0.022001266479492188, 0.10500741004943848, 0.3900308609008789, 1.4171056747436523, 5.5123560428619385, 24.24829077720642, 102.25353717803955, 600.3324239253998]\n"
     ]
    },
    {
     "name": "stderr",
     "output_type": "stream",
     "text": [
      "<ipython-input-378-7cf774d32b7a>:5: RuntimeWarning: divide by zero encountered in log\n",
      "  log_times=[np.log(j) for j in times]\n"
     ]
    }
   ],
   "source": [
    "a=print(array_time(15)[0])"
   ]
  },
  {
   "cell_type": "code",
   "execution_count": null,
   "metadata": {},
   "outputs": [],
   "source": [
    "b=print(array_time(15)[1])"
   ]
  },
  {
   "cell_type": "code",
   "execution_count": null,
   "metadata": {},
   "outputs": [],
   "source": [
    "for i in range(11):\n",
    "    print(2**i ---> a[i])"
   ]
  },
  {
   "cell_type": "markdown",
   "metadata": {},
   "source": [
    "## <span style=\"color:#D47FAC;\">TASK 2</span> "
   ]
  },
  {
   "cell_type": "markdown",
   "metadata": {},
   "source": [
    "Wieża z Hanoi to gra polegająca na przeniesieniu wieży z jednego słupka na inny, przy pomocy trzeciego, dodatkowego. Wieża składa się z kilku krążków, o różnych średnicach. Przenoszenie krążków ma dwie zasady: można za jednym razem przenieść jeden krążek i nie można wkładać krążka o większej średnicy na krążek o mniejszej średnicy."
   ]
  },
  {
   "cell_type": "markdown",
   "metadata": {},
   "source": [
    "Zagadnienie wieży z Hanoi rozwiązałyśmy za pomocą rekurencji. Napisałyśmy do tego dwie pomocnicze funkcje: moveDisc, Hanoi. Funkcja `moveTower` zawiera algorytm rozwiązujący wieżę Hanoi. Użyłyśmy także klasy `Stack()`, której napisanie było zadaniem na poprzedniej liście. "
   ]
  },
  {
   "cell_type": "code",
   "execution_count": 91,
   "metadata": {},
   "outputs": [],
   "source": [
    "from helpy import Stack"
   ]
  },
  {
   "cell_type": "code",
   "execution_count": 334,
   "metadata": {},
   "outputs": [],
   "source": [
    "def moveDisc(src_p,dest_p,extra_p):\n",
    "    \"\"\"\n",
    "    Funkcja pomocnicza, przenosi krążki z jednego słupka na docelowy słupek.\n",
    "    @param src_p: źródłowy słupek, z którego zabieramy krążek\n",
    "    @param dest_p: słupek na który przenosimy krążek\n",
    "    @param extra_p: pomocniczy słupek\n",
    "    \"\"\"\n",
    "    dest_p[1].push(src_p[1].pop())\n",
    "    print(\"moving disc from\",src_p[0],\"to\",dest_p[0])\n",
    "    print(src_p[0],\"=\",src_p[1], extra_p[0],\"=\",extra_p[1], dest_p[0],\"=\",dest_p[1])"
   ]
  },
  {
   "cell_type": "code",
   "execution_count": 335,
   "metadata": {},
   "outputs": [],
   "source": [
    "def moveTower(nDiscs,src_p,extra_p,dest_p):\n",
    "    \"\"\"\n",
    "    Rozwiązuje zagadnienie wieży Hanoi, za pomocą rekurencji.\n",
    "    @param nDiscs: ilość krążków do przeniesienia\n",
    "    @param src_p: źródłowy słupek, z którego zabieramy krążek\n",
    "    @param dest_p: słupek na który przenosimy krążek\n",
    "    @param extra_p: pomocniczy słupek\n",
    "    \"\"\"\n",
    "    if nDiscs==0:\n",
    "        return \"Your Tower of Hanoi is empty!\"\n",
    "    elif nDiscs == 1:\n",
    "        moveDisc(src_p, dest_p,extra_p)\n",
    "    else:\n",
    "        moveTower(nDiscs-1, src_p,dest_p, extra_p)\n",
    "        moveDisc(src_p, dest_p,extra_p)\n",
    "        moveTower(nDiscs-1, extra_p, src_p, dest_p)"
   ]
  },
  {
   "cell_type": "code",
   "execution_count": 336,
   "metadata": {},
   "outputs": [],
   "source": [
    "def Hanoi(nDiscs,src,extra,dest):\n",
    "    \"\"\"\n",
    "    Funkcja wywołuje algorytm wieży z Hanoi.\n",
    "    @param nDiscs: ilość krążków do przeniesienia\n",
    "    @param src: nazwa źródłowego słupeka, z którego zabieramy krążek\n",
    "    @param dest: nazwa słupka na który przenosimy krążek\n",
    "    @param extra: nazwa pomocniczego słupka\n",
    "    @return: kroki jakie należy wykonać oraz prezentacja zapełnienia słupków na poszczególnych etapach\n",
    "    \"\"\"\n",
    "    src_p= (src,Stack()) #(nazwa słupka,zawartość)\n",
    "    extra_p=(extra,Stack())\n",
    "    dest_p=(dest,Stack())\n",
    "    \n",
    "    for i in range(nDiscs):\n",
    "        src_p[1].push(nDiscs-i)\n",
    "        \n",
    "    return moveTower(nDiscs,src_p,extra_p,dest_p)"
   ]
  },
  {
   "cell_type": "code",
   "execution_count": 339,
   "metadata": {},
   "outputs": [
    {
     "name": "stdout",
     "output_type": "stream",
     "text": [
      "moving disc from A to B\n",
      "A = [2] C = [] B = [1]\n",
      "moving disc from A to C\n",
      "A = [] B = [1] C = [2]\n",
      "moving disc from B to C\n",
      "B = [] A = [] C = [2, 1]\n"
     ]
    }
   ],
   "source": [
    "Hanoi(2,\"A\",\"B\",\"C\")"
   ]
  },
  {
   "cell_type": "code",
   "execution_count": 341,
   "metadata": {},
   "outputs": [
    {
     "name": "stdout",
     "output_type": "stream",
     "text": [
      "moving disc from A to L\n",
      "A = [4, 3, 2] E = [] L = [1]\n",
      "moving disc from A to E\n",
      "A = [4, 3] L = [1] E = [2]\n",
      "moving disc from L to E\n",
      "L = [] A = [4, 3] E = [2, 1]\n",
      "moving disc from A to L\n",
      "A = [4] E = [2, 1] L = [3]\n",
      "moving disc from E to A\n",
      "E = [2] L = [3] A = [4, 1]\n",
      "moving disc from E to L\n",
      "E = [] A = [4, 1] L = [3, 2]\n",
      "moving disc from A to L\n",
      "A = [4] E = [] L = [3, 2, 1]\n",
      "moving disc from A to E\n",
      "A = [] L = [3, 2, 1] E = [4]\n",
      "moving disc from L to E\n",
      "L = [3, 2] A = [] E = [4, 1]\n",
      "moving disc from L to A\n",
      "L = [3] E = [4, 1] A = [2]\n",
      "moving disc from E to A\n",
      "E = [4] L = [3] A = [2, 1]\n",
      "moving disc from L to E\n",
      "L = [] A = [2, 1] E = [4, 3]\n",
      "moving disc from A to L\n",
      "A = [2] E = [4, 3] L = [1]\n",
      "moving disc from A to E\n",
      "A = [] L = [1] E = [4, 3, 2]\n",
      "moving disc from L to E\n",
      "L = [] A = [] E = [4, 3, 2, 1]\n"
     ]
    }
   ],
   "source": [
    "Hanoi(4,\"A\",\"L\",\"E\")"
   ]
  },
  {
   "cell_type": "markdown",
   "metadata": {},
   "source": [
    "Złożoność obliczeniowa wzrasta niezwykle szybko w miarę zwiększania ilości krążków w wieży."
   ]
  },
  {
   "cell_type": "markdown",
   "metadata": {},
   "source": [
    "## <span style=\"color:#D47FAC;\">TASK 3</span> "
   ]
  },
  {
   "cell_type": "markdown",
   "metadata": {},
   "source": [
    "Krzywa Hilberta jest krzywą, która wypełnia całkowicie płaszczyznę."
   ]
  },
  {
   "cell_type": "code",
   "execution_count": 342,
   "metadata": {},
   "outputs": [],
   "source": [
    "from turtle import *"
   ]
  },
  {
   "cell_type": "code",
   "execution_count": 351,
   "metadata": {},
   "outputs": [],
   "source": [
    "def hilbert_curve(rank, step, angle=90):\n",
    "    \"\"\"\n",
    "    Algorytm rysujący krzywą Hilberta.\n",
    "    \"\"\"\n",
    "    if rank <= 0:\n",
    "        return\n",
    "\n",
    "    left(angle)\n",
    "    hilbert_curve(rank-1, step, -angle)\n",
    "\n",
    "    forward(step)\n",
    "    right(angle)\n",
    "    hilbert_curve(rank-1, step, angle)\n",
    "\n",
    "    forward(step)\n",
    "    hilbert_curve(rank-1, step, angle)\n",
    "\n",
    "    right(angle)\n",
    "    forward(step)\n",
    "    hilbert_curve(rank-1, step, -angle)\n",
    "\n",
    "    left(angle)"
   ]
  },
  {
   "cell_type": "code",
   "execution_count": 352,
   "metadata": {},
   "outputs": [],
   "source": [
    "def draw_hilbert_curve(rank=4, step=10):\n",
    "    \"\"\"\n",
    "    Rysuje krzywą Hilberta.\n",
    "    \"\"\"\n",
    "    if not (isinstance(rank, int) and isinstance(step, int)):\n",
    "        raise TypeError(\"Wrong input\")\n",
    "\n",
    "    screen = Screen()\n",
    "\n",
    "    speed('fastest')\n",
    "    title(\"Hilbert Curve\")\n",
    "\n",
    "    hilbert_curve(rank, step)\n",
    "\n",
    "    screen.exitonclick()"
   ]
  },
  {
   "cell_type": "code",
   "execution_count": 349,
   "metadata": {},
   "outputs": [],
   "source": [
    "draw_hilbert_curve()"
   ]
  },
  {
   "cell_type": "markdown",
   "metadata": {},
   "source": [
    "<img src=\"hilbert.PNG\">"
   ]
  },
  {
   "cell_type": "markdown",
   "metadata": {},
   "source": [
    "## <span style=\"color:#D47FAC;\">TASK 4</span> "
   ]
  },
  {
   "cell_type": "markdown",
   "metadata": {},
   "source": [
    "Krzywa Kocha jest krzywą fraktalną. Krzywa ta jest nieskończenie długa i mieści się w skończonej powierzchni. Jesteśmy zatem w stanie narysować aby jej pewne przybliżenie. \n",
    "Rysowanie jej polega na podzieleniu odcinka *l* na 3 równe części. W miejsce środkowej wstawiane są dwa odcinki długości $\\frac{1}{3}l$, nachylone względem niej pod kątem 60°. Tą czynność powtrarzamy."
   ]
  },
  {
   "cell_type": "code",
   "execution_count": 357,
   "metadata": {},
   "outputs": [],
   "source": [
    "def koch_curve(rank, length_step, angle=60):\n",
    "    \"\"\"\n",
    "    Rekurencyjny algorytm rysujący krzywą Kocha.\n",
    "    \"\"\"\n",
    "    if rank == 0:\n",
    "        forward(length_step)\n",
    "        return\n",
    "    koch_curve(rank - 1, length_step/3)\n",
    "    left(angle)\n",
    "    koch_curve(rank - 1, length_step/3)\n",
    "    right(180-angle)\n",
    "    koch_curve(rank - 1, length_step/3)\n",
    "    left(angle)\n",
    "    koch_curve(rank - 1, length_step/3)"
   ]
  },
  {
   "cell_type": "code",
   "execution_count": 358,
   "metadata": {},
   "outputs": [],
   "source": [
    "def draw_koch_curve(rank=3, length_step=300):\n",
    "    \"\"\"\n",
    "    Rysuje krzywą Kocha.\n",
    "    \"\"\"\n",
    "    screen = Screen()\n",
    "\n",
    "    speed('fastest')\n",
    "    title(\"Koch Curve\")\n",
    "\n",
    "    penup()\n",
    "    backward(length_step/2)\n",
    "    pendown()\n",
    "\n",
    "    koch_curve(rank, length_step)\n",
    "\n",
    "    screen.exitonclick()"
   ]
  },
  {
   "cell_type": "code",
   "execution_count": 364,
   "metadata": {},
   "outputs": [],
   "source": [
    " draw_koch_curve()"
   ]
  },
  {
   "cell_type": "markdown",
   "metadata": {},
   "source": [
    "<img src=\"pics/koch_curve.PNG\">"
   ]
  },
  {
   "cell_type": "markdown",
   "metadata": {},
   "source": [
    "Połączenie 3 krzycyh Kocha daje nam kształt płatka śniegu."
   ]
  },
  {
   "cell_type": "code",
   "execution_count": 359,
   "metadata": {},
   "outputs": [],
   "source": [
    "def draw_koch_snowflake(rank=4, length_step=300):\n",
    "    \"\"\"\n",
    "    Rysuje krzywą zwaną płatkiem Kocha.\n",
    "    \"\"\"\n",
    "    screen = Screen()\n",
    "\n",
    "    speed('fastest')\n",
    "    title(\"Koch Snowflake\")\n",
    "\n",
    "    penup()\n",
    "    backward(length_step / 2)\n",
    "    pendown()\n",
    "\n",
    "    for i in range(rank-1):\n",
    "        koch_curve(rank, length_step)\n",
    "        right(120)\n",
    "\n",
    "    screen.exitonclick()"
   ]
  },
  {
   "cell_type": "code",
   "execution_count": 360,
   "metadata": {},
   "outputs": [],
   "source": [
    "draw_koch_snowflake()"
   ]
  },
  {
   "cell_type": "markdown",
   "metadata": {},
   "source": [
    "<img src=\"snowflake.PNG\">"
   ]
  },
  {
   "cell_type": "markdown",
   "metadata": {},
   "source": [
    "#### <span style=\"color:#D47FAC;\"> <center> Link to our code: https://github.com/maggszy/date_algorithm/tree/main/list5</center> </span>"
   ]
  }
 ],
 "metadata": {
  "kernelspec": {
   "display_name": "Python 3 (ipykernel)",
   "language": "python",
   "name": "python3"
  },
  "language_info": {
   "codemirror_mode": {
    "name": "ipython",
    "version": 3
   },
   "file_extension": ".py",
   "mimetype": "text/x-python",
   "name": "python",
   "nbconvert_exporter": "python",
   "pygments_lexer": "ipython3",
   "version": "3.9.7"
  }
 },
 "nbformat": 4,
 "nbformat_minor": 4
}
