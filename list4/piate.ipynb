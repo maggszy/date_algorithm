{
 "cells": [
  {
   "cell_type": "code",
   "execution_count": 298,
   "id": "19825639",
   "metadata": {},
   "outputs": [],
   "source": [
    "class Node:\n",
    "\n",
    "    def __init__(self, init_data):\n",
    "        self.data = init_data\n",
    "        self.next = None\n",
    "\n",
    "    def get_data(self):\n",
    "        return self.data\n",
    "\n",
    "    def get_next(self):\n",
    "        return self.next\n",
    "\n",
    "    def set_data(self, new_data):\n",
    "        self.data = new_data\n",
    "\n",
    "    def set_next(self, new_next):\n",
    "        self.next = new_next\n",
    "\n",
    "\n",
    "class UnorderedList(object):\n",
    "\n",
    "    def __init__(self):\n",
    "        self.head = None\n",
    "\n",
    "    def is_empty(self):\n",
    "        return self.head == None\n",
    "\n",
    "    def __str__(self):\n",
    "        current = self.head\n",
    "        li = []\n",
    "        while current != None:\n",
    "            li.append(current.get_data())\n",
    "            current = current.get_next()\n",
    "        s = (\"elements in the list are [\" + ', '.join(['{}'] * len(li)) + \"]\")\n",
    "        return s.format(*li)\n",
    "\n",
    "    def add(self, item):\n",
    "        temp = Node(item)\n",
    "        temp.set_next(self.head)\n",
    "        self.head = temp\n",
    "\n",
    "    def size(self):\n",
    "        current = self.head\n",
    "        count = 0\n",
    "        while current != None:\n",
    "            count = count + 1\n",
    "            current = current.get_next()\n",
    "        return count\n",
    "\n",
    "    def search(self, item):\n",
    "        current = self.head\n",
    "        found = False\n",
    "        while current != None and not found:\n",
    "            if current.get_data() == item:\n",
    "                found = True\n",
    "            else:\n",
    "                current = current.get_next()\n",
    "        return found\n",
    "\n",
    "    def remove(self, item):\n",
    "        current = self.head\n",
    "        previous = None\n",
    "        found = False\n",
    "        if self.is_empty():\n",
    "            print(\"List already empty\")\n",
    "            return\n",
    "        while not found:\n",
    "            if current.getData() == item:\n",
    "                found = True\n",
    "            else:\n",
    "                previous = current\n",
    "                current = current.getNext()\n",
    "                if current == None:\n",
    "                    print(\"Item not found\")\n",
    "                    return\n",
    "\n",
    "        if previous == None:  # jeśli usuwamy pierwszy element\n",
    "            self.head = current.getNext()\n",
    "        else:\n",
    "            previous.setNext(current.getNext())\n",
    "\n",
    "    def append(self, item):\n",
    "        \"\"\"\n",
    "        Metoda dodająca element na koniec listy.\n",
    "        Przyjmuje jako argument obiekt, który ma zostać dodany.\n",
    "        Niczego nie zwraca.\n",
    "        \"\"\"\n",
    "        current = self.head\n",
    "        previous = None\n",
    "        temp = Node(item)\n",
    "\n",
    "        if not self.is_empty():\n",
    "\n",
    "            while current != None:\n",
    "                previous = current\n",
    "                current = current.get_next()\n",
    "\n",
    "            previous.set_next(temp)\n",
    "\n",
    "        else:\n",
    "            self.add(item)\n",
    "\n",
    "    def index(self, item):\n",
    "        \"\"\"\n",
    "        Metoda podaje miejsce na liście,\n",
    "        na którym znajduje się określony element -\n",
    "        element pod self.head ma indeks 0.\n",
    "        Przyjmuje jako argument element,\n",
    "        którego pozycja ma zostać określona.\n",
    "        Zwraca pozycję elementu na liście lub None w przypadku,\n",
    "        gdy wskazanego elementu na liście nie ma.\n",
    "        \"\"\"\n",
    "        index = 0\n",
    "        current = self.head\n",
    "        found = False\n",
    "\n",
    "        while current != None and not found:\n",
    "            if current.get_data() == item:\n",
    "                found = True\n",
    "                return index\n",
    "            else:\n",
    "                current = current.get_next()\n",
    "                index += 1\n",
    "\n",
    "    def insert(self, pos, item):\n",
    "        \"\"\"\n",
    "        Metoda umieszcza na wskazanej pozycji zadany element.\n",
    "        Przyjmuje jako argumenty pozycję,\n",
    "        na której ma umiescić element oraz ten element.\n",
    "        Niczego nie zwraca.\n",
    "        Rzuca wyjątkiem IndexError w przypadku,\n",
    "        gdy nie jest możliwe umieszczenie elementu\n",
    "        na zadanej pozycji (np. na 5. miejsce w 3-elementowej liście).\n",
    "        \"\"\"\n",
    "        current = self.head\n",
    "        previous = None\n",
    "        temp = Node(item)\n",
    "        index = 0\n",
    "\n",
    "        if pos > self.size() or pos < -self.size() - 1:\n",
    "            raise IndexError(\"Wrong position!\")\n",
    "\n",
    "        else:\n",
    "            if pos < 0:\n",
    "                pos += self.size() + 1\n",
    "\n",
    "            if pos == 0:\n",
    "                self.add(item)\n",
    "\n",
    "            else:\n",
    "                while current != None and index < pos:\n",
    "                    previous = current\n",
    "                    current = current.get_next()\n",
    "                    index += 1\n",
    "\n",
    "                previous.set_next(temp)\n",
    "                temp.set_next(current)\n",
    "\n",
    "    def pop(self, pos=-1):\n",
    "        \"\"\"\n",
    "        Metoda usuwa z listy element na zadaniej pozycji.\n",
    "        Przyjmuje jako opcjonalny argument pozycję,\n",
    "        z której ma zostać usunięty element.\n",
    "        Jeśli pozycja nie zostanie podana,\n",
    "        metoda usuwa (odłącza) ostatni element z listy.\n",
    "        Zwraca wartość usuniętego elementu.\n",
    "        Rzuca wyjątkiem IndexError w przypadku,\n",
    "        gdy usunięcie elementu z danej pozycji jest niemożliwe.\n",
    "        \"\"\"\n",
    "        current = self.head\n",
    "        previous = None\n",
    "        index = 0\n",
    "\n",
    "        if self.is_empty():\n",
    "            raise IndexError(\"Data structure already empty!\")\n",
    "        elif pos >= self.size() or pos < -self.size():\n",
    "            raise IndexError(\"Wrong position!\")\n",
    "\n",
    "        else:\n",
    "            if pos < 0:\n",
    "                pos += self.size()\n",
    "\n",
    "            if self.size() == 1:\n",
    "                self.head = None\n",
    "                return current.get_data()\n",
    "            else:\n",
    "                while current != None and index < pos:\n",
    "                    previous = current\n",
    "                    current = current.get_next()\n",
    "                    index += 1\n",
    "\n",
    "                if previous == None:  # jeśli usuwamy pierwszy element\n",
    "                    self.head = current.get_next()\n",
    "                    return current.get_data()\n",
    "                else:\n",
    "                    previous.set_next(current.get_next())\n",
    "                    return current.get_data()\n",
    "\n",
    "    def peek(self):\n",
    "        \"\"\"\n",
    "        Metoda podaje wartość elementu na końcu listy\n",
    "        nie ściągajac go.\n",
    "        Nie pobiera argumentów.\n",
    "        Jeśli lsta jest pusta, rzuca wyjątkiem IndexError.\n",
    "        \"\"\"\n",
    "        current = self.head\n",
    "        previous = None\n",
    "\n",
    "        if not self.is_empty():\n",
    "\n",
    "            while current != None:\n",
    "                previous = current\n",
    "                current = current.get_next()\n",
    "\n",
    "            return previous.get_data()\n",
    "\n",
    "        else:\n",
    "            raise IndexError(\"Data structure is empty!\")\n",
    "        "
   ]
  },
  {
   "cell_type": "code",
   "execution_count": 301,
   "id": "588f2a22",
   "metadata": {},
   "outputs": [],
   "source": [
    "mylist = UnorderedList()\n",
    "mylist.add(31)\n",
    "mylist.add(77)\n",
    "mylist.add(17)\n",
    "mylist.add(93)\n",
    "mylist.add(26)\n",
    "mylist.add(54)"
   ]
  },
  {
   "cell_type": "code",
   "execution_count": 302,
   "id": "7abff743",
   "metadata": {},
   "outputs": [
    {
     "name": "stdout",
     "output_type": "stream",
     "text": [
      "elements in the list are [54, 26, 93, 17, 77, 31]\n"
     ]
    }
   ],
   "source": [
    "print(mylist)"
   ]
  },
  {
   "cell_type": "code",
   "execution_count": 303,
   "id": "0ff007d3",
   "metadata": {},
   "outputs": [
    {
     "name": "stdout",
     "output_type": "stream",
     "text": [
      "elements in the list are [54, 26, 93, 17, 77, 31, 4]\n"
     ]
    }
   ],
   "source": [
    "mylist.append(4)\n",
    "print(mylist)"
   ]
  },
  {
   "cell_type": "code",
   "execution_count": 304,
   "id": "f0112f94",
   "metadata": {},
   "outputs": [
    {
     "name": "stdout",
     "output_type": "stream",
     "text": [
      "None\n"
     ]
    }
   ],
   "source": [
    "print(mylist.index(9))"
   ]
  },
  {
   "cell_type": "code",
   "execution_count": 305,
   "id": "1e218494",
   "metadata": {},
   "outputs": [],
   "source": [
    "mylist.insert(2, 88)"
   ]
  },
  {
   "cell_type": "code",
   "execution_count": 306,
   "id": "5f85ec96",
   "metadata": {},
   "outputs": [],
   "source": [
    "mylist.insert(-1, 4)"
   ]
  },
  {
   "cell_type": "code",
   "execution_count": 307,
   "id": "7216a035",
   "metadata": {},
   "outputs": [
    {
     "name": "stdout",
     "output_type": "stream",
     "text": [
      "elements in the list are [54, 26, 88, 93, 17, 77, 31, 4, 4]\n"
     ]
    }
   ],
   "source": [
    "print(mylist)"
   ]
  },
  {
   "cell_type": "code",
   "execution_count": 308,
   "id": "c59661af",
   "metadata": {},
   "outputs": [
    {
     "ename": "AttributeError",
     "evalue": "'Node' object has no attribute 'getData'",
     "output_type": "error",
     "traceback": [
      "\u001b[1;31m---------------------------------------------------------------------------\u001b[0m",
      "\u001b[1;31mAttributeError\u001b[0m                            Traceback (most recent call last)",
      "\u001b[1;32m~\\AppData\\Local\\Temp/ipykernel_17200/950970067.py\u001b[0m in \u001b[0;36m<module>\u001b[1;34m\u001b[0m\n\u001b[1;32m----> 1\u001b[1;33m \u001b[0mmylist\u001b[0m\u001b[1;33m.\u001b[0m\u001b[0mremove\u001b[0m\u001b[1;33m(\u001b[0m\u001b[1;36m4\u001b[0m\u001b[1;33m)\u001b[0m\u001b[1;33m\u001b[0m\u001b[1;33m\u001b[0m\u001b[0m\n\u001b[0m",
      "\u001b[1;32m~\\AppData\\Local\\Temp/ipykernel_17200/1869200899.py\u001b[0m in \u001b[0;36mremove\u001b[1;34m(self, item)\u001b[0m\n\u001b[0;32m     66\u001b[0m             \u001b[1;32mreturn\u001b[0m\u001b[1;33m\u001b[0m\u001b[1;33m\u001b[0m\u001b[0m\n\u001b[0;32m     67\u001b[0m         \u001b[1;32mwhile\u001b[0m \u001b[1;32mnot\u001b[0m \u001b[0mfound\u001b[0m\u001b[1;33m:\u001b[0m\u001b[1;33m\u001b[0m\u001b[1;33m\u001b[0m\u001b[0m\n\u001b[1;32m---> 68\u001b[1;33m             \u001b[1;32mif\u001b[0m \u001b[0mcurrent\u001b[0m\u001b[1;33m.\u001b[0m\u001b[0mgetData\u001b[0m\u001b[1;33m(\u001b[0m\u001b[1;33m)\u001b[0m \u001b[1;33m==\u001b[0m \u001b[0mitem\u001b[0m\u001b[1;33m:\u001b[0m\u001b[1;33m\u001b[0m\u001b[1;33m\u001b[0m\u001b[0m\n\u001b[0m\u001b[0;32m     69\u001b[0m                 \u001b[0mfound\u001b[0m \u001b[1;33m=\u001b[0m \u001b[1;32mTrue\u001b[0m\u001b[1;33m\u001b[0m\u001b[1;33m\u001b[0m\u001b[0m\n\u001b[0;32m     70\u001b[0m             \u001b[1;32melse\u001b[0m\u001b[1;33m:\u001b[0m\u001b[1;33m\u001b[0m\u001b[1;33m\u001b[0m\u001b[0m\n",
      "\u001b[1;31mAttributeError\u001b[0m: 'Node' object has no attribute 'getData'"
     ]
    }
   ],
   "source": [
    "mylist.remove(4)"
   ]
  },
  {
   "cell_type": "code",
   "execution_count": 309,
   "id": "51ecc8b5",
   "metadata": {},
   "outputs": [
    {
     "name": "stdout",
     "output_type": "stream",
     "text": [
      "elements in the list are [54, 26, 88, 93, 17, 77, 31, 4, 4]\n"
     ]
    }
   ],
   "source": [
    "print(mylist)"
   ]
  },
  {
   "cell_type": "code",
   "execution_count": 310,
   "id": "1d581c9a",
   "metadata": {},
   "outputs": [],
   "source": [
    "mylist.insert(-3, 0)"
   ]
  },
  {
   "cell_type": "code",
   "execution_count": 311,
   "id": "9c76cc6c",
   "metadata": {},
   "outputs": [
    {
     "name": "stdout",
     "output_type": "stream",
     "text": [
      "elements in the list are [54, 26, 88, 93, 17, 77, 31, 0, 4, 4]\n"
     ]
    }
   ],
   "source": [
    "print(mylist)"
   ]
  },
  {
   "cell_type": "code",
   "execution_count": 312,
   "id": "b61c833c",
   "metadata": {},
   "outputs": [
    {
     "name": "stdout",
     "output_type": "stream",
     "text": [
      "-4\n"
     ]
    }
   ],
   "source": [
    "print(mylist.index(31) - mylist.size())"
   ]
  },
  {
   "cell_type": "code",
   "execution_count": 313,
   "id": "7410c048",
   "metadata": {},
   "outputs": [
    {
     "data": {
      "text/plain": [
       "17"
      ]
     },
     "execution_count": 313,
     "metadata": {},
     "output_type": "execute_result"
    }
   ],
   "source": [
    "mylist.pop(-6)"
   ]
  },
  {
   "cell_type": "code",
   "execution_count": 314,
   "id": "6fd39db4",
   "metadata": {},
   "outputs": [
    {
     "name": "stdout",
     "output_type": "stream",
     "text": [
      "elements in the list are [54, 26, 88, 93, 77, 31, 0, 4, 4]\n"
     ]
    }
   ],
   "source": [
    "print(mylist)"
   ]
  },
  {
   "cell_type": "code",
   "execution_count": 315,
   "id": "e0ef1686",
   "metadata": {},
   "outputs": [
    {
     "data": {
      "text/plain": [
       "77"
      ]
     },
     "execution_count": 315,
     "metadata": {},
     "output_type": "execute_result"
    }
   ],
   "source": [
    "mylist.pop(4)"
   ]
  },
  {
   "cell_type": "code",
   "execution_count": 316,
   "id": "22578b3b",
   "metadata": {},
   "outputs": [
    {
     "name": "stdout",
     "output_type": "stream",
     "text": [
      "elements in the list are [54, 26, 88, 93, 31, 0, 4, 4]\n"
     ]
    }
   ],
   "source": [
    "print(mylist)"
   ]
  },
  {
   "cell_type": "code",
   "execution_count": 317,
   "id": "1bc7eb17",
   "metadata": {},
   "outputs": [
    {
     "data": {
      "text/plain": [
       "4"
      ]
     },
     "execution_count": 317,
     "metadata": {},
     "output_type": "execute_result"
    }
   ],
   "source": [
    "mylist.peek()"
   ]
  },
  {
   "cell_type": "code",
   "execution_count": null,
   "id": "f2dff348",
   "metadata": {},
   "outputs": [],
   "source": []
  },
  {
   "cell_type": "code",
   "execution_count": null,
   "id": "1d5a01f8",
   "metadata": {},
   "outputs": [],
   "source": []
  },
  {
   "cell_type": "code",
   "execution_count": 26,
   "id": "eb258768",
   "metadata": {},
   "outputs": [
    {
     "name": "stdout",
     "output_type": "stream",
     "text": [
      "elements in the list are []\n"
     ]
    }
   ],
   "source": [
    "myl = UnorderedList()\n",
    "print(myl)"
   ]
  },
  {
   "cell_type": "code",
   "execution_count": 27,
   "id": "6a2ca26f",
   "metadata": {},
   "outputs": [
    {
     "name": "stdout",
     "output_type": "stream",
     "text": [
      "elements in the list are [4]\n"
     ]
    }
   ],
   "source": [
    "myl.append(4)\n",
    "print(myl)"
   ]
  },
  {
   "cell_type": "code",
   "execution_count": null,
   "id": "c069869f",
   "metadata": {},
   "outputs": [],
   "source": []
  },
  {
   "cell_type": "code",
   "execution_count": null,
   "id": "6f38c0f8",
   "metadata": {},
   "outputs": [],
   "source": []
  },
  {
   "cell_type": "code",
   "execution_count": null,
   "id": "a9880f87",
   "metadata": {},
   "outputs": [],
   "source": []
  },
  {
   "cell_type": "code",
   "execution_count": null,
   "id": "6b5b1d08",
   "metadata": {},
   "outputs": [],
   "source": [
    "####LISTA Pythonowa####"
   ]
  },
  {
   "cell_type": "code",
   "execution_count": 237,
   "id": "c8422c4c",
   "metadata": {},
   "outputs": [],
   "source": [
    "l = [0, 0, 54, 26, 88, 93, 17, 77, 31, 4, 4]"
   ]
  },
  {
   "cell_type": "code",
   "execution_count": 240,
   "id": "1c4dc3cc",
   "metadata": {},
   "outputs": [],
   "source": [
    "l.insert(-1,0)"
   ]
  },
  {
   "cell_type": "code",
   "execution_count": 241,
   "id": "bcd7b24e",
   "metadata": {},
   "outputs": [
    {
     "name": "stdout",
     "output_type": "stream",
     "text": [
      "[0, 0, 54, 26, 88, 93, 17, 77, 0, 31, 4, 0, 4]\n"
     ]
    }
   ],
   "source": [
    "print(l)"
   ]
  },
  {
   "cell_type": "code",
   "execution_count": 242,
   "id": "1fae0186",
   "metadata": {},
   "outputs": [
    {
     "name": "stdout",
     "output_type": "stream",
     "text": [
      "4\n"
     ]
    }
   ],
   "source": [
    "print(l[-1])"
   ]
  }
 ],
 "metadata": {
  "kernelspec": {
   "display_name": "Python 3 (ipykernel)",
   "language": "python",
   "name": "python3"
  },
  "language_info": {
   "codemirror_mode": {
    "name": "ipython",
    "version": 3
   },
   "file_extension": ".py",
   "mimetype": "text/x-python",
   "name": "python",
   "nbconvert_exporter": "python",
   "pygments_lexer": "ipython3",
   "version": "3.9.7"
  }
 },
 "nbformat": 4,
 "nbformat_minor": 5
}
