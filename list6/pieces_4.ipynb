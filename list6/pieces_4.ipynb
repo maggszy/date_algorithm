{
 "cells": [
  {
   "cell_type": "code",
   "execution_count": 2,
   "metadata": {},
   "outputs": [],
   "source": [
    "import operator\n",
    "import string\n",
    "import time\n",
    "from typing import Any, List, Optional, Tuple, Union"
   ]
  },
  {
   "cell_type": "code",
   "execution_count": 33,
   "metadata": {},
   "outputs": [],
   "source": [
    "operators = ['+', '-', '*', '/', '^']\n",
    "functions = ['sin(', 'cos(', 'ln(', 'exp(', 'sqrt(']   # takes one argument\n",
    "brackets = [\"(\", \")\"]\n",
    "\n",
    "letters = set(string.ascii_lowercase).union(set(string.ascii_uppercase)).union({\"pi\"})"
   ]
  },
  {
   "cell_type": "code",
   "execution_count": 34,
   "metadata": {},
   "outputs": [],
   "source": [
    "\n",
    "\n",
    "def parsing(expression):\n",
    "    expr_list = list(expression)\n",
    "    elems = []\n",
    "    funcs = set(operators + functions + brackets)\n",
    "    for chars in sorted(funcs.union(letters), key=len, reverse=True):\n",
    "        find = True\n",
    "        chars_len = len(chars)\n",
    "        while find:\n",
    "            try:\n",
    "                occur_ind = \"\".join(expr_list).index(chars)\n",
    "                expr_list[occur_ind: occur_ind + chars_len] = [\" \"] * chars_len\n",
    "                elems.append([occur_ind, chars])\n",
    "            except ValueError:\n",
    "                find = False\n",
    "\n",
    "    nums = \"\".join(expr_list).split()\n",
    "\n",
    "    for num in nums:\n",
    "        occur_ind = \"\".join(expr_list).index(num)\n",
    "        expr_list[occur_ind: occur_ind + chars_len] = [\" \"] * chars_len\n",
    "        elems.append([occur_ind, num])\n",
    "\n",
    "    result = []\n",
    "    elems_dict = dict(elems)\n",
    "    for ind in sorted(elems_dict):\n",
    "        result.append(elems_dict[ind])\n",
    "\n",
    "    return result\n"
   ]
  },
  {
   "cell_type": "code",
   "execution_count": 35,
   "metadata": {},
   "outputs": [
    {
     "data": {
      "text/plain": [
       "['(', '2', '*', 'cos(', 'x', ')', ')', '/', '(', '5', '+', 'x', ')']"
      ]
     },
     "execution_count": 35,
     "metadata": {},
     "output_type": "execute_result"
    }
   ],
   "source": [
    "expression = \"(2*cos(x))/(5+x)\"\n",
    "parsing(expression)"
   ]
  },
  {
   "cell_type": "code",
   "execution_count": null,
   "metadata": {},
   "outputs": [],
   "source": []
  }
 ],
 "metadata": {
  "kernelspec": {
   "display_name": "Python 3",
   "language": "python",
   "name": "python3"
  },
  "language_info": {
   "codemirror_mode": {
    "name": "ipython",
    "version": 3
   },
   "file_extension": ".py",
   "mimetype": "text/x-python",
   "name": "python",
   "nbconvert_exporter": "python",
   "pygments_lexer": "ipython3",
   "version": "3.8.5"
  }
 },
 "nbformat": 4,
 "nbformat_minor": 4
}
