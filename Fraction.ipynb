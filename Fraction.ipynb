{
 "cells": [
  {
   "cell_type": "code",
   "execution_count": 1,
   "metadata": {},
   "outputs": [],
   "source": [
    "def gcd(x, y):\n",
    "    \"\"\"\n",
    "    Find greatest common divisor\n",
    "    \"\"\"\n",
    "    while(y):\n",
    "        x, y = y, x % y\n",
    "  \n",
    "    return x"
   ]
  },
  {
   "cell_type": "code",
   "execution_count": 25,
   "metadata": {},
   "outputs": [
    {
     "data": {
      "text/plain": [
       "20"
      ]
     },
     "execution_count": 25,
     "metadata": {},
     "output_type": "execute_result"
    }
   ],
   "source": [
    "gcd(80, 100)"
   ]
  },
  {
   "cell_type": "code",
   "execution_count": 28,
   "metadata": {},
   "outputs": [
    {
     "data": {
      "text/plain": [
       "400"
      ]
     },
     "execution_count": 28,
     "metadata": {},
     "output_type": "execute_result"
    }
   ],
   "source": [
    "gcd(5600,10000)"
   ]
  },
  {
   "cell_type": "code",
   "execution_count": 30,
   "metadata": {},
   "outputs": [
    {
     "data": {
      "text/plain": [
       "14"
      ]
     },
     "execution_count": 30,
     "metadata": {},
     "output_type": "execute_result"
    }
   ],
   "source": [
    "5600//400"
   ]
  },
  {
   "cell_type": "code",
   "execution_count": 31,
   "metadata": {},
   "outputs": [
    {
     "data": {
      "text/plain": [
       "25"
      ]
     },
     "execution_count": 31,
     "metadata": {},
     "output_type": "execute_result"
    }
   ],
   "source": [
    "10000//400"
   ]
  },
  {
   "cell_type": "code",
   "execution_count": 2,
   "metadata": {},
   "outputs": [],
   "source": [
    "def dec_to_fr(x):\n",
    "    \"\"\"\n",
    "    Convert float to fraction\n",
    "    \"\"\"\n",
    "    integral_val = floor(x)\n",
    "    fractional_part = x - integral_val\n",
    "\n",
    "    #######round########\n",
    "    precision = 10000\n",
    "    gcd_f = gcd(round(fractional_part * precision), precision)\n",
    "\n",
    "    newdenom = precision // gcd_f\n",
    "    newnum = round((fractional_part * precision // gcd_f)) + (integral_val * newdenom)\n",
    "\n",
    "    return [newnum, newdenom]"
   ]
  },
  {
   "cell_type": "code",
   "execution_count": 5,
   "metadata": {},
   "outputs": [],
   "source": [
    "def change_to_frac(other):\n",
    "    \"\"\"\n",
    "    Usage of function converting float to fracion\n",
    "    :param other: float number\n",
    "    :return: fraction\n",
    "    \"\"\"\n",
    "    if isinstance(other, float):\n",
    "        fr = dec_to_fr(other)\n",
    "        other = Fraction(fr[0], fr[1])\n",
    "    return other"
   ]
  },
  {
   "cell_type": "code",
   "execution_count": 89,
   "metadata": {},
   "outputs": [
    {
     "data": {
      "text/plain": [
       "[3, 2]"
      ]
     },
     "execution_count": 89,
     "metadata": {},
     "output_type": "execute_result"
    }
   ],
   "source": [
    "dec_to_fr(1.5)"
   ]
  },
  {
   "cell_type": "code",
   "execution_count": 25,
   "metadata": {},
   "outputs": [],
   "source": [
    "from math import floor\n",
    "\n",
    "class Fraction:    \n",
    "    \"\"\"\n",
    "    Represent fraction and it operetions\n",
    "    \"\"\"\n",
    "    def __init__(self, num, denom):\n",
    "        \"\"\"\n",
    "        Constructor building the class\n",
    "        :param num: numerator \n",
    "        :param den: denominator\n",
    "        \"\"\"\n",
    "        if denom == 0:\n",
    "            raise ZeroDivisionError(\"Dividing by zero is not defined!\")\n",
    "        else:\n",
    "            if isinstance(num, int) and isinstance(denom, int):\n",
    "                common = gcd(abs(num), abs(denom))\n",
    "                \n",
    "                self.numerator = num // common\n",
    "                self.denominator = denom // common  \n",
    "                \n",
    "            elif isinstance(num, float) and isinstance(denom, int):\n",
    "                tmp_fr = dec_to_fr(num)\n",
    "                \n",
    "                self.numerator = tmp_fr[0]\n",
    "                self.denominator = tmp_fr[1] * denom\n",
    "                \n",
    "            elif isinstance(num, int) and isinstance(denom, float):\n",
    "                tmp_fr = dec_to_fr(denom)\n",
    "                \n",
    "                self.numerator = num * tmp_fr[1]\n",
    "                self.denominator = tmp_fr[0]\n",
    "                \n",
    "            elif isinstance(num, float) and isinstance(denom, float):\n",
    "                tmp_fr_num = dec_to_fr(num)\n",
    "                tmp_fr_den = dec_to_fr(denom)\n",
    "                \n",
    "                self.numerator = tmp_fr_num[0] * tmp_fr_den[1]\n",
    "                self.denominator = tmp_fr_num[1] * tmp_fr_den[0]\n",
    "                \n",
    "            else:\n",
    "                raise ValueError(\"Numerator and denominator should be a integer or floating point!\")\n",
    "                \n",
    "            if self.denominator < 0:\n",
    "                    self.numerator = -1 * self.numerator\n",
    "                    self.denominator = abs(self.denominator)\n",
    "\n",
    "        \n",
    "    def __str__(self):\n",
    "        \"\"\"\n",
    "        Informal representation of the fraction \n",
    "        \"\"\"\n",
    "        if self.denominator == 1:\n",
    "            return str(self.numerator)\n",
    "        elif self.numerator > self.denominator:\n",
    "            return str(self.numerator//self.denominator) + \" \" + str(Fraction(self.numerator%self.denominator, self.denominator))\n",
    "        else:\n",
    "            return str(self.numerator)+ \"/\" +str(self.denominator)\n",
    "    \n",
    "    def __add__(self, other):\n",
    "        \"\"\"\n",
    "        Add fraction to number or to other fraction\n",
    "        :param other: integer or other fraction\n",
    "        \"\"\"\n",
    "        top = self.numerator * other.denominator + self.denominator * other.numerator\n",
    "        bottom = self.denominator * other.denominator\n",
    "\n",
    "        return Fraction(top, bottom)\n",
    "        \n",
    "    def __sub__(self, other):\n",
    "        \"\"\"\n",
    "        Substract fraction from other fraction or number\n",
    "        :param other: integer of other fraction\n",
    "        \"\"\"\n",
    "        top = self.numerator * other.denominator - self.denominator * other.numerator\n",
    "        bottom = self.denominator * other.denominator\n",
    "\n",
    "        return Fraction(top, bottom)\n",
    "    \n",
    "    def __mul__(self, other):\n",
    "        \"\"\"\n",
    "        Multiply fraction with other fraction or number\n",
    "        :param other: integer of other fraction\n",
    "        \"\"\"\n",
    "        top = self.numerator * other.numerator\n",
    "        bottom = self.denominator * other.denominator\n",
    "        \n",
    "        return Fraction(top, bottom)\n",
    "    \n",
    "    def __truediv__(self, other):\n",
    "        \"\"\"\n",
    "        Divide fraction by other fraction or number\n",
    "        :param other: integer of other fraction\n",
    "        \"\"\"\n",
    "        top = self.numerator * other.denominator\n",
    "        bottom = self.denominator * other.numerator\n",
    "        \n",
    "        return Fraction(top, bottom)\n",
    "    \n",
    "    def __lt__(self, other): \n",
    "        \"\"\"\n",
    "        Weigh down operator: <\n",
    "        \"\"\"\n",
    "        other=change_to_frac(other)\n",
    "        \n",
    "        return(self.numerator*other.denominator < other.numerator*self.denominator)\n",
    "\n",
    "    def __gt__(self, other):\n",
    "        \"\"\"\n",
    "        Weigh down operator: >\n",
    "        \"\"\"\n",
    "        other=change_to_frac(other)\n",
    "        \n",
    "        return(self.numerator*other.denominator > other.numerator*self.denominator)\n",
    "\n",
    "    def __eq__(self, other):\n",
    "        \"\"\"\n",
    "        Weigh down operator: ==\n",
    "        \"\"\"\n",
    "        other=change_to_frac(other)\n",
    "        \n",
    "        return(self.numerator*other.denominator == other.numerator*self.denominator)\n",
    "\n",
    "    def __ne__(self, other):\n",
    "        \"\"\"\n",
    "        Weigh down operator: !=\n",
    "        \"\"\"\n",
    "        other=change_to_frac(other)\n",
    "        \n",
    "        return(self.numerator*other.denominator != other.numerator*self.denominator)\n",
    "\n",
    "    def __le__(self, other):\n",
    "        \"\"\"\n",
    "        Weigh down operator: <=\n",
    "        \"\"\"\n",
    "        other=change_to_frac(other)\n",
    "        \n",
    "        return(self<other or self==other)\n",
    "\n",
    "    def __ge__(self, other):\n",
    "        \"\"\"\n",
    "        Weigh down operator: >=\n",
    "        \"\"\"\n",
    "        other=change_to_frac(other)\n",
    "        \n",
    "        return(self>other or self==other)\n",
    "    \n",
    "    def get_num(self):\n",
    "        \"\"\"\n",
    "        Get numerator from the fraction\n",
    "        \"\"\"\n",
    "        return self.numerator\n",
    "    \n",
    "    def get_den(self):\n",
    "        \"\"\"\n",
    "        Get denominator from fraction\n",
    "        \"\"\"\n",
    "        return self.denominator\n",
    "    \n",
    "        "
   ]
  },
  {
   "cell_type": "code",
   "execution_count": 26,
   "metadata": {},
   "outputs": [
    {
     "name": "stdout",
     "output_type": "stream",
     "text": [
      "-10/3\n"
     ]
    }
   ],
   "source": [
    "test = Fraction(20, -6)\n",
    "print(test)"
   ]
  },
  {
   "cell_type": "code",
   "execution_count": 27,
   "metadata": {},
   "outputs": [
    {
     "name": "stdout",
     "output_type": "stream",
     "text": [
      "20\n"
     ]
    },
    {
     "data": {
      "text/plain": [
       "__main__.Fraction"
      ]
     },
     "execution_count": 27,
     "metadata": {},
     "output_type": "execute_result"
    }
   ],
   "source": [
    "test1 = Fraction(20, 1)\n",
    "print(test1)\n",
    "type(test1)"
   ]
  },
  {
   "cell_type": "code",
   "execution_count": 28,
   "metadata": {},
   "outputs": [
    {
     "name": "stdout",
     "output_type": "stream",
     "text": [
      "2 1/2\n"
     ]
    }
   ],
   "source": [
    "test2 = Fraction(5, 2)\n",
    "print(test2)"
   ]
  },
  {
   "cell_type": "code",
   "execution_count": 29,
   "metadata": {},
   "outputs": [
    {
     "name": "stdout",
     "output_type": "stream",
     "text": [
      "39/50\n"
     ]
    }
   ],
   "source": [
    "test3 = Fraction(1.56, 2)\n",
    "print(test3)"
   ]
  },
  {
   "cell_type": "code",
   "execution_count": 30,
   "metadata": {},
   "outputs": [
    {
     "name": "stdout",
     "output_type": "stream",
     "text": [
      "4/21\n"
     ]
    }
   ],
   "source": [
    "test4 = Fraction(2, 10.5)\n",
    "print(test4)"
   ]
  },
  {
   "cell_type": "code",
   "execution_count": 31,
   "metadata": {},
   "outputs": [
    {
     "name": "stdout",
     "output_type": "stream",
     "text": [
      "10/42\n"
     ]
    }
   ],
   "source": [
    "test4 = Fraction(2.5, 10.5)\n",
    "print(test4)"
   ]
  },
  {
   "cell_type": "code",
   "execution_count": 20,
   "metadata": {},
   "outputs": [
    {
     "data": {
      "text/plain": [
       "True"
      ]
     },
     "execution_count": 20,
     "metadata": {},
     "output_type": "execute_result"
    }
   ],
   "source": [
    "f2 = Fraction(3.5, 4)\n",
    "f2 < 1.5"
   ]
  },
  {
   "cell_type": "code",
   "execution_count": 21,
   "metadata": {},
   "outputs": [
    {
     "name": "stdout",
     "output_type": "stream",
     "text": [
      "1\n",
      "<class '__main__.Fraction'>\n"
     ]
    }
   ],
   "source": [
    "f = Fraction(1, 2)\n",
    "f2 = Fraction(2, 4)\n",
    "same = f + f2\n",
    "print(same)\n",
    "print(type(same))"
   ]
  },
  {
   "cell_type": "code",
   "execution_count": 37,
   "metadata": {},
   "outputs": [
    {
     "name": "stdout",
     "output_type": "stream",
     "text": [
      "1 1/4\n"
     ]
    }
   ],
   "source": [
    "f = Fraction(1, 2)\n",
    "f2 = Fraction(3, 4)\n",
    "new = f + f2\n",
    "print(new)"
   ]
  },
  {
   "cell_type": "code",
   "execution_count": 34,
   "metadata": {},
   "outputs": [
    {
     "ename": "TypeError",
     "evalue": "unsupported operand type(s) for +: 'float' and 'Fraction'",
     "output_type": "error",
     "traceback": [
      "\u001b[1;31m---------------------------------------------------------------------------\u001b[0m",
      "\u001b[1;31mTypeError\u001b[0m                                 Traceback (most recent call last)",
      "\u001b[1;32m<ipython-input-34-99d44b2d91fe>\u001b[0m in \u001b[0;36m<module>\u001b[1;34m\u001b[0m\n\u001b[0;32m      1\u001b[0m \u001b[0mf\u001b[0m \u001b[1;33m=\u001b[0m \u001b[0mFraction\u001b[0m\u001b[1;33m(\u001b[0m\u001b[1;36m1\u001b[0m\u001b[1;33m,\u001b[0m \u001b[1;36m2\u001b[0m\u001b[1;33m)\u001b[0m\u001b[1;33m\u001b[0m\u001b[1;33m\u001b[0m\u001b[0m\n\u001b[1;32m----> 2\u001b[1;33m \u001b[0ms\u001b[0m \u001b[1;33m=\u001b[0m \u001b[1;36m0.5\u001b[0m \u001b[1;33m+\u001b[0m \u001b[0mf\u001b[0m\u001b[1;33m\u001b[0m\u001b[1;33m\u001b[0m\u001b[0m\n\u001b[0m\u001b[0;32m      3\u001b[0m \u001b[0mprint\u001b[0m\u001b[1;33m(\u001b[0m\u001b[0ms\u001b[0m\u001b[1;33m)\u001b[0m\u001b[1;33m\u001b[0m\u001b[1;33m\u001b[0m\u001b[0m\n",
      "\u001b[1;31mTypeError\u001b[0m: unsupported operand type(s) for +: 'float' and 'Fraction'"
     ]
    }
   ],
   "source": [
    "f = Fraction(1, 2)\n",
    "s = 0.5 + f\n",
    "print(s)"
   ]
  },
  {
   "cell_type": "code",
   "execution_count": 33,
   "metadata": {},
   "outputs": [
    {
     "data": {
      "text/plain": [
       "False"
      ]
     },
     "execution_count": 33,
     "metadata": {},
     "output_type": "execute_result"
    }
   ],
   "source": [
    "fr=Fraction(1,2)\n",
    "fr > 2/3"
   ]
  },
  {
   "cell_type": "code",
   "execution_count": 24,
   "metadata": {},
   "outputs": [
    {
     "name": "stdout",
     "output_type": "stream",
     "text": [
      "-1/4\n"
     ]
    }
   ],
   "source": [
    "f3 = Fraction(1, 2)\n",
    "f4 = Fraction(3, 4)\n",
    "new2 = f3 - f4\n",
    "print(new2)"
   ]
  },
  {
   "cell_type": "code",
   "execution_count": 37,
   "metadata": {},
   "outputs": [
    {
     "name": "stdout",
     "output_type": "stream",
     "text": [
      "3/8\n"
     ]
    }
   ],
   "source": [
    "f5 = Fraction(1, 2)\n",
    "f6 = Fraction(3, 4)\n",
    "new3 = f5 * f6\n",
    "print(new3)"
   ]
  },
  {
   "cell_type": "code",
   "execution_count": 38,
   "metadata": {},
   "outputs": [
    {
     "name": "stdout",
     "output_type": "stream",
     "text": [
      "2/3\n"
     ]
    }
   ],
   "source": [
    "f7 = Fraction(1, 2)\n",
    "f8 = Fraction(3, 4)\n",
    "new4 = f7 / f8\n",
    "print(new4)"
   ]
  },
  {
   "cell_type": "code",
   "execution_count": 10,
   "metadata": {},
   "outputs": [
    {
     "name": "stdout",
     "output_type": "stream",
     "text": [
      "Is not equal? True\n",
      "Is equal? False\n",
      "-1\n",
      "2\n"
     ]
    }
   ],
   "source": [
    "a = Fraction(1, -2)\n",
    "b = Fraction(3, 4)\n",
    "\n",
    "ne = a != b\n",
    "print(\"Is not equal?\", ne)\n",
    "\n",
    "eq = a == b\n",
    "print(\"Is equal?\", eq)\n",
    "\n",
    "print(Fraction.get_num(a))\n",
    "print(Fraction.get_den(a))"
   ]
  },
  {
   "cell_type": "code",
   "execution_count": 11,
   "metadata": {},
   "outputs": [
    {
     "data": {
      "text/plain": [
       "True"
      ]
     },
     "execution_count": 11,
     "metadata": {},
     "output_type": "execute_result"
    }
   ],
   "source": [
    "u1 = Fraction(1, -2)\n",
    "u2 = Fraction(1, -4)\n",
    "\n",
    "u1 < u2"
   ]
  },
  {
   "cell_type": "code",
   "execution_count": 12,
   "metadata": {},
   "outputs": [
    {
     "data": {
      "text/plain": [
       "True"
      ]
     },
     "execution_count": 12,
     "metadata": {},
     "output_type": "execute_result"
    }
   ],
   "source": [
    "u3 = Fraction(1, 2)\n",
    "u4 = Fraction(1, -4)\n",
    "\n",
    "u3 > u4"
   ]
  },
  {
   "cell_type": "code",
   "execution_count": null,
   "metadata": {},
   "outputs": [],
   "source": []
  }
 ],
 "metadata": {
  "kernelspec": {
   "display_name": "Python 3",
   "language": "python",
   "name": "python3"
  },
  "language_info": {
   "codemirror_mode": {
    "name": "ipython",
    "version": 3
   },
   "file_extension": ".py",
   "mimetype": "text/x-python",
   "name": "python",
   "nbconvert_exporter": "python",
   "pygments_lexer": "ipython3",
   "version": "3.8.5"
  }
 },
 "nbformat": 4,
 "nbformat_minor": 5
}
