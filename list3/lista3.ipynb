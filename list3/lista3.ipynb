{
 "cells": [
  {
   "cell_type": "markdown",
   "id": "602c9ac3",
   "metadata": {},
   "source": [
    "\n",
    " #  <span style=\"color:#D47FAC;\"> <center>LIST 3 </center> </span>\n",
    "\n",
    "Authors: _Jakubik Małgorzata, Szymkowiak Magdalena_"
   ]
  },
  {
   "cell_type": "code",
   "execution_count": 66,
   "id": "936854de",
   "metadata": {},
   "outputs": [],
   "source": [
    "import time"
   ]
  },
  {
   "cell_type": "markdown",
   "id": "b0124b7f",
   "metadata": {},
   "source": [
    "## <span style=\"color:#D47FAC;\">TASK 1</span> "
   ]
  },
  {
   "cell_type": "markdown",
   "id": "c1487c9f",
   "metadata": {},
   "source": [
    "Our task is to implement:\n",
    "$$P(n,k)=\\sum_{i=0}^{k}{n\\choose i}p^i(1-p)^{n-i}$$\n",
    "\n",
    "in a such way that execute only **3k+logn** multiplications.\n",
    "\n",
    "We start with modification of the equation above, to get constant expression before the $\\sum$:\n",
    "\n",
    "$$\\sum_{i=0}^{k}{n\\choose i}p^i(1-p)^{n-i}=(1-p)^n\\sum_{i=1}^k{n\\choose i}\\left( \\frac{1}{1-p}\\right)^i$$\n",
    "\n",
    "Then we also modificate the form of the Binomial coefficient ${n\\choose i}$, to cut off repetitive multiplications. \n",
    "$${n\\choose k}=\\frac{n^k}{k!}=\\frac{n(n-1)(n-2)\\dots(n-(k-1))}{k(k-1)(k-2)\\dots1}=\\prod_{i=1}^{k}\\frac{n+1-i}{i}$$\n",
    "\n",
    "Thanks to these transitions we can implement the probability without unnecessary multiplications.\n",
    "\n",
    "\n",
    "\n",
    "Moreover, to decrease amout of multiplications we start loop from $i=2$. It is because:\n",
    "- for $i=0$\n",
    "$${n\\choose 0}\\left( \\frac{1}{1-p}\\right)^0=1$$\n",
    "\n",
    "- for $i=1$\n",
    "$${n\\choose 1}\\left( \\frac{1}{1-p}\\right)^1=n\\left( \\frac{1}{1-p}\\right)$$\n",
    "\n",
    "That is why at the begining we have  *count_mult=2*.\n",
    "\n",
    "The rest is iterated in the loop. "
   ]
  },
  {
   "cell_type": "markdown",
   "id": "1e95ef93",
   "metadata": {},
   "source": [
    "###### Exponentiation\n",
    "To better compute the large positive integer powers of numbers we use exponentiation by squaring method. Raising $a$ to the power of $n$ allows to avoid multiplying a by itself $n-1$ times.\n",
    "Computing powers using this algorithm has a $log(n)$ complexity.\n",
    "\n",
    "We are looking for the powers $a^1, a^2, a^4, a^8, ..., a^{\\lfloor{logn}\\rfloor}$ in places we have corresponding bit in $n$.\n",
    "\n",
    "Using this method, if the power is even we divide power by 2 and multiply base to itself. \n",
    "\n",
    "If the power is odd we decrement power by 1 to make it even and again multiply power by 2."
   ]
  },
  {
   "cell_type": "code",
   "execution_count": 7,
   "id": "afde9ed6",
   "metadata": {},
   "outputs": [],
   "source": [
    "def power(base, power):\n",
    "    \"\"\"\n",
    "    Calculate the power using exponentiation by squaring\n",
    "    :param base: number which exponentiation is calculated\n",
    "    :param power: exponent of the function\n",
    "    :return: Number raised to the power\n",
    "    \"\"\"\n",
    "\n",
    "    if power < 0:\n",
    "        raise ValueError(\"Invalid value\")\n",
    "        \n",
    "    if not isinstance(power, int):\n",
    "        raise TypeError(\"Power should be an integer.\")\n",
    "        \n",
    "    if power == 0:\n",
    "        return 1\n",
    "    \n",
    "    result = 1\n",
    "    while power > 0:\n",
    "        # If power is odd\n",
    "        if power % 2 == 1:\n",
    "            result = (result * base)\n",
    "\n",
    "        # Divide the power by 2\n",
    "        power = power // 2\n",
    "        # Multiply base to itself\n",
    "        base = (base * base)\n",
    "\n",
    "    return result"
   ]
  },
  {
   "cell_type": "code",
   "execution_count": 8,
   "id": "a553ac9c",
   "metadata": {},
   "outputs": [],
   "source": [
    "def probability(n, k, p):\n",
    "    \"\"\"\n",
    "    Calculate the Binomial Distribution of k successed in n trials with p probability of success.\n",
    "    \n",
    "    :param n: amount of trials\n",
    "    :param k: amount of successes\n",
    "    :param p: probability of success\n",
    "    :return: tuple with wanted probability and number of executed multiplications\n",
    "    \"\"\"\n",
    "    \n",
    "    if p < 0 or p >1:\n",
    "        raise ValueError(\"Probability has a value between 0 and 1\")\n",
    "    \n",
    "    x=p/(1-p) \n",
    "    \n",
    "    prob=1\n",
    "    binom_all_x=n*x #for i=1\n",
    "    count_mult=2 #one multiplication done in x and one in binom_all_x\n",
    "    \n",
    "    for i in range(2,k+1):\n",
    "        binom_all_x*=(n+1-i)/i*x #3 mult\n",
    "        prob+=binom_all_x\n",
    "        count_mult+=3\n",
    "    \n",
    "    factor = power(1-p,n)\n",
    "    prob *= factor\n",
    "    count_mult+=1 #1 mult done in return\n",
    "    \n",
    "    return (prob, count_mult)"
   ]
  },
  {
   "cell_type": "code",
   "execution_count": 68,
   "id": "4b241752",
   "metadata": {},
   "outputs": [
    {
     "name": "stdout",
     "output_type": "stream",
     "text": [
      "(0.32219637759999953, 21)\n"
     ]
    }
   ],
   "source": [
    "print(probability(10, 7, 0.8))"
   ]
  },
  {
   "cell_type": "markdown",
   "id": "4e7d9c38",
   "metadata": {},
   "source": [
    "As we can see, function *probability* made $21$ multiplications according to the **3k**.Because $3\\cdot 7=21$."
   ]
  },
  {
   "cell_type": "markdown",
   "id": "f8f906d4",
   "metadata": {},
   "source": [
    "## <span style=\"color:#D47FAC;\">TASK 2</span> "
   ]
  },
  {
   "cell_type": "markdown",
   "id": "79afb523",
   "metadata": {},
   "source": [
    "Program calculate value of polynomial, using the Horner's algorithm. It is more eficient than implementing straight as solving it on the paper.\n",
    "\n",
    "At first we define *n* which is a number of figures in the list of *coeff*. Then we reverse our list *coeff*, to have coefficents positioned from the term of the highest degree to the free term. \n",
    "\n",
    "To *value* variable we assign the coefficient standing by the highest degree of polynomial.\n",
    "\n",
    "The variable *count_mult* as the name indicates, counts multiplications out.\n",
    "\n",
    "Next we applay the loop based on **Horner's rule**: \n",
    "$$a_0+a_1x+a_2x^2+a_3x^3+\\dots+a_nx^n\n",
    "=(((\\dots(a_nx+a_{n-1}) x+\\dots)x+a_1)x+a_0)$$.\n",
    "\n",
    "In the loop we are increasing our variable *count_mult* by 1, because program does one multiplication with one iteration. The same situation is if it is going about adding, which *count_add* refers to it.\n",
    "\n",
    "At the end our function returns a tuple with calculated value of the polynomial and amounts of executed adding and multiplications."
   ]
  },
  {
   "cell_type": "code",
   "execution_count": 29,
   "id": "4421d0b5",
   "metadata": {},
   "outputs": [],
   "source": [
    "def smart_polynomial_value_calc(coeff, arg):\n",
    "    \"\"\"\n",
    "    Calculate value of polynomial using the Horner's algorithm\n",
    "    :param coeff: a list with coefficients of polynomial positioned from free term to the term of the highest degree\n",
    "    :param arg: the value of variable x in polynomial W(x)\n",
    "    :return: tuple with the value of polynomial and amout of executed multiplication and addition\n",
    "    \"\"\"\n",
    "    if not isinstance(coeff,list):\n",
    "        raise TypeError(\"Variable 'coeff' should be a list\")\n",
    "        \n",
    "    if type(arg) not in {int,float}:\n",
    "        raise TypeError(\"Variable 'arg' should be an int or float\")\n",
    "    \n",
    "    if coeff==[]:\n",
    "        raise ValueError(\"Lack of coefficients, fill list with numvers!\")\n",
    "        \n",
    "    n=len(coeff)\n",
    "    coeff.reverse() \n",
    "    value=coeff[0]\n",
    "    count_mult=0\n",
    "    for dg in range(1,n): #dg=degree\n",
    "        value = value*arg + coeff[dg]\n",
    "        count_mult+=1\n",
    "    count_add=count_mult\n",
    "    return value, count_mult, count_add"
   ]
  },
  {
   "cell_type": "markdown",
   "id": "71c45e9b",
   "metadata": {},
   "source": [
    "This program of solving polynomial is implemented straight as we solve polynomials on paper. "
   ]
  },
  {
   "cell_type": "code",
   "execution_count": 30,
   "id": "a3764155",
   "metadata": {},
   "outputs": [],
   "source": [
    "def ordinary_polynomial_value_calc(coeff, arg):\n",
    "    \"\"\"\n",
    "    Calculate value of polynomial in a standart way\n",
    "    :param coeff: a list with coefficients of polynomial positioned from free term to the term of the highest degree\n",
    "    :param arg: the value of variable x in polynomial W(x)\n",
    "    :return: tuple with the value of polynomial and amout of executed multiplication and addition\n",
    "    \"\"\"\n",
    "    if not isinstance(coeff,list):\n",
    "        raise TypeError(\"Variable 'coeff' should be a list\")\n",
    "        \n",
    "    if type(arg) not in {int,float}:\n",
    "        raise TypeError(\"Variable 'arg' should be an int or float\")\n",
    "    \n",
    "    if coeff==[]:\n",
    "        raise ValueError(\"Lack of coefficients, fill list with numvers!\")\n",
    "    \n",
    "    n=len(coeff)\n",
    "    count_add=0\n",
    "    count_mult=0\n",
    "    value=coeff[0]\n",
    "    for dg in range(1,n):\n",
    "        value=coeff[dg]*(arg**dg) + value\n",
    "        count_mult+=dg\n",
    "        count_add+=1\n",
    "    return value, count_mult, count_add\n",
    "  "
   ]
  },
  {
   "cell_type": "code",
   "execution_count": 27,
   "id": "27c52b81",
   "metadata": {},
   "outputs": [
    {
     "name": "stdout",
     "output_type": "stream",
     "text": [
      "(49, 3, 3)\n",
      "(49, 6, 3)\n"
     ]
    }
   ],
   "source": [
    "print(smart_polynomial_value_calc([1,2,3,4], 2))\n",
    "print(ordinary_polynomial_value_calc([1,2,3,4], 2))"
   ]
  },
  {
   "cell_type": "code",
   "execution_count": 28,
   "id": "c0ca686b",
   "metadata": {},
   "outputs": [
    {
     "name": "stdout",
     "output_type": "stream",
     "text": [
      "(-70.75, 3, 3)\n",
      "(-70.75, 6, 3)\n"
     ]
    }
   ],
   "source": [
    "print(smart_polynomial_value_calc([20,5,-10,18], -1.5))\n",
    "print(ordinary_polynomial_value_calc([20,5,-10,18], -1.5))"
   ]
  },
  {
   "cell_type": "markdown",
   "id": "02276d47",
   "metadata": {},
   "source": [
    "To sum up these two algorithms, the one where we used *Horner's rule* is more efficient. Executes less multiplications than in ordinary way. In small polynomial there is a small difference, however when we want to calculate huge polynomial, then the diffrence is significative."
   ]
  },
  {
   "cell_type": "markdown",
   "id": "1e58a187",
   "metadata": {},
   "source": [
    "## <span style=\"color:#D47FAC;\">TASK 3</span> "
   ]
  },
  {
   "cell_type": "markdown",
   "id": "804f41fe",
   "metadata": {},
   "source": [
    "In this task we would like to count the numbers of charachters in a given text without using if-statement.\n",
    "\n",
    "To do this we need to prepare text file:\n",
    "<ul>\n",
    "    <li>Delete all of whitespace charakters</li>\n",
    "    <li>Make every letter lowercase</li>\n",
    "</ul>\n",
    "\n",
    "To avoid using if-statement we use for-loop to count apperance of a charackter and make dictionary."
   ]
  },
  {
   "cell_type": "code",
   "execution_count": 91,
   "id": "7edd8b12",
   "metadata": {},
   "outputs": [],
   "source": [
    "def counting_chars_without_ifs(filename):\n",
    "    \"\"\"\n",
    "    Count the number of all characters appearing in given file.\n",
    "    :param fiename: file .txt with the text\n",
    "    :return: dictionary with every character that appeared in the given file\n",
    "    \"\"\"\n",
    "    file_ref = open(filename, 'r')\n",
    "    text = file_ref.read()\n",
    "    low_text = text.lower()\n",
    "    striped_text = ''.join(low_text.split())\n",
    "    char_count = {i:striped_text.count(i) for i in set(striped_text)}  \n",
    "    return char_count"
   ]
  },
  {
   "cell_type": "code",
   "execution_count": 92,
   "id": "5f0ff44a",
   "metadata": {},
   "outputs": [
    {
     "data": {
      "text/plain": [
       "{',': 10,\n",
       " 'r': 48,\n",
       " 'l': 34,\n",
       " 'j': 1,\n",
       " 's': 51,\n",
       " ';': 4,\n",
       " 'w': 21,\n",
       " 'i': 62,\n",
       " 't': 74,\n",
       " 'v': 12,\n",
       " 'd': 39,\n",
       " \"'\": 1,\n",
       " 'u': 25,\n",
       " 'q': 1,\n",
       " 'p': 12,\n",
       " 'y': 23,\n",
       " 'a': 74,\n",
       " 'f': 26,\n",
       " 'e': 115,\n",
       " 'm': 21,\n",
       " 'g': 16,\n",
       " 'c': 16,\n",
       " 'h': 83,\n",
       " 'k': 9,\n",
       " '-': 2,\n",
       " 'n': 79,\n",
       " 'b': 14,\n",
       " 'o': 72,\n",
       " '.': 7}"
      ]
     },
     "execution_count": 92,
     "metadata": {},
     "output_type": "execute_result"
    }
   ],
   "source": [
    "counting_chars_without_ifs('L3_ZAD3_sample_text.txt')"
   ]
  },
  {
   "cell_type": "markdown",
   "id": "acd1c45e",
   "metadata": {},
   "source": [
    "#### <span style=\"color:#D47FAC;\"> <center> Link to our code: https://github.com/maggszy/date_algorithm/blob/main/list3/lista3.ipynb </center> </span>"
   ]
  }
 ],
 "metadata": {
  "kernelspec": {
   "display_name": "Python 3 (ipykernel)",
   "language": "python",
   "name": "python3"
  },
  "language_info": {
   "codemirror_mode": {
    "name": "ipython",
    "version": 3
   },
   "file_extension": ".py",
   "mimetype": "text/x-python",
   "name": "python",
   "nbconvert_exporter": "python",
   "pygments_lexer": "ipython3",
   "version": "3.9.7"
  }
 },
 "nbformat": 4,
 "nbformat_minor": 5
}
