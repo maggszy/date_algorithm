{
 "cells": [
  {
   "cell_type": "code",
   "execution_count": 4,
   "id": "070a2295",
   "metadata": {},
   "outputs": [],
   "source": [
    "def gcd(x, y):\n",
    "    while(y):\n",
    "        x, y = y, x % y\n",
    "  \n",
    "    return x"
   ]
  },
  {
   "cell_type": "code",
   "execution_count": 25,
   "id": "dcf1fd4b",
   "metadata": {},
   "outputs": [
    {
     "data": {
      "text/plain": [
       "20"
      ]
     },
     "execution_count": 25,
     "metadata": {},
     "output_type": "execute_result"
    }
   ],
   "source": [
    "gcd(80, 100)"
   ]
  },
  {
   "cell_type": "code",
   "execution_count": 28,
   "id": "24b57025",
   "metadata": {},
   "outputs": [
    {
     "data": {
      "text/plain": [
       "400"
      ]
     },
     "execution_count": 28,
     "metadata": {},
     "output_type": "execute_result"
    }
   ],
   "source": [
    "gcd(5600,10000)"
   ]
  },
  {
   "cell_type": "code",
   "execution_count": 30,
   "id": "b9beedc9",
   "metadata": {},
   "outputs": [
    {
     "data": {
      "text/plain": [
       "14"
      ]
     },
     "execution_count": 30,
     "metadata": {},
     "output_type": "execute_result"
    }
   ],
   "source": [
    "5600//400"
   ]
  },
  {
   "cell_type": "code",
   "execution_count": 31,
   "id": "075424c7",
   "metadata": {},
   "outputs": [
    {
     "data": {
      "text/plain": [
       "25"
      ]
     },
     "execution_count": 31,
     "metadata": {},
     "output_type": "execute_result"
    }
   ],
   "source": [
    "10000//400"
   ]
  },
  {
   "cell_type": "code",
   "execution_count": 88,
   "id": "b0dba7ee",
   "metadata": {},
   "outputs": [],
   "source": [
    "def dec_to_fr(x):\n",
    "    integral_val = floor(x)\n",
    "    fractional_part = x - integral_val\n",
    "\n",
    "    #######round########\n",
    "    precision = 10000\n",
    "    gcd_f = gcd(round(fractional_part * precision), precision)\n",
    "\n",
    "    newdenom = precision // gcd_f\n",
    "    newnum = round((fractional_part * precision // gcd_f)) + (integral_val * newdenom)\n",
    "\n",
    "    return [newnum, newdenom]"
   ]
  },
  {
   "cell_type": "code",
   "execution_count": 89,
   "id": "6e9e2488",
   "metadata": {},
   "outputs": [
    {
     "data": {
      "text/plain": [
       "[3, 2]"
      ]
     },
     "execution_count": 89,
     "metadata": {},
     "output_type": "execute_result"
    }
   ],
   "source": [
    "dec_to_fr(1.5)"
   ]
  },
  {
   "cell_type": "code",
   "execution_count": 122,
   "id": "7b8bb77d",
   "metadata": {},
   "outputs": [],
   "source": [
    "from math import floor\n",
    "\n",
    "class Fraction:    \n",
    "    def __init__(self, num, denom):\n",
    "        if denom == 0:\n",
    "            raise ZeroDivisionError(\"Dividing by zero is not defined!\")\n",
    "        else:\n",
    "            if isinstance(num, int) and isinstance(denom, int):\n",
    "                self.numerator = num // gcd(abs(num), abs(denom))\n",
    "                self.denominator = denom // gcd(abs(num), abs(denom))  \n",
    "                \n",
    "            elif isinstance(num, float) and isinstance(denom, int):\n",
    "                tmp_fr = dec_to_fr(num)\n",
    "                \n",
    "                self.numerator = tmp_fr[0]\n",
    "                self.denominator = tmp_fr[1] * denom\n",
    "                \n",
    "            elif isinstance(num, int) and isinstance(denom, float):\n",
    "                tmp_fr = dec_to_fr(denom)\n",
    "                \n",
    "                self.numerator = num * tmp_fr[1]\n",
    "                self.denominator = tmp_fr[0]\n",
    "                \n",
    "            else:\n",
    "                raise ValueError(\"Numerator and denominator should not be a string!\")\n",
    "                \n",
    "            if self.denominator < 0:\n",
    "                    self.numerator = -1 * self.numerator\n",
    "                    self.denominator = abs(self.denominator)\n",
    "\n",
    "        \n",
    "    def __str__(self):\n",
    "        if self.denominator == 1:\n",
    "            return str(self.numerator)\n",
    "        elif self.numerator > self.denominator:\n",
    "            return str(self.numerator//self.denominator) + \" \" + str(Fraction(self.numerator%self.denominator, self.denominator))\n",
    "        else:\n",
    "            return str(self.numerator)+ \"/\" +str(self.denominator)\n",
    "    \n",
    "    def __add__(self, other):\n",
    "        top = self.numerator * other.denominator + self.denominator * other.numerator\n",
    "        bottom = self.denominator * other.denominator\n",
    "\n",
    "        return Fraction(top, bottom)\n",
    "        \n",
    "    def __sub__(self, other):\n",
    "        top = self.numerator * other.denominator - self.denominator * other.numerator\n",
    "        bottom = self.denominator * other.denominator\n",
    "\n",
    "        return Fraction(top, bottom)\n",
    "    \n",
    "    def __mul__(self, other):\n",
    "        top = self.numerator * other.numerator\n",
    "        bottom = self.denominator * other.denominator\n",
    "        \n",
    "        return Fraction(top, bottom)\n",
    "    \n",
    "    def __truediv__(self, other):\n",
    "        top = self.numerator * other.denominator\n",
    "        bottom = self.denominator * other.numerator\n",
    "        \n",
    "        return Fraction(top, bottom)\n",
    "    \n",
    "    def __lt__(self, other):\n",
    "        if isinstance(other, float):\n",
    "            fr = dec_to_fr(other)\n",
    "            other = Fraction(fr[0], fr[1])\n",
    "        \n",
    "        return(self.numerator*other.denominator < other.numerator*self.denominator)\n",
    "\n",
    "    def __gt__(self, other):\n",
    "        return(self.numerator*other.denominator > other.numerator*self.denominator)\n",
    "\n",
    "    def __eq__(self, other):\n",
    "        return(self.numerator*other.denominator == other.numerator*self.denominator)\n",
    "    \n",
    "    def __ne__(self, other):\n",
    "        return(self.numerator*other.denominator != other.numerator*self.denominator)\n",
    "\n",
    "    def __le__(self, other):\n",
    "        return(self<other or self==other)\n",
    "\n",
    "    def __ge__(self, other):\n",
    "        return(self>other or self==other)\n",
    "    \n",
    "    def get_num(self):\n",
    "        return self.numerator\n",
    "    \n",
    "    def get_den(self):\n",
    "        return self.denominator\n",
    "    \n",
    "        "
   ]
  },
  {
   "cell_type": "code",
   "execution_count": 34,
   "id": "ca6c0f64",
   "metadata": {},
   "outputs": [
    {
     "name": "stdout",
     "output_type": "stream",
     "text": [
      "-10/3\n"
     ]
    }
   ],
   "source": [
    "test = Fraction(20, -6)\n",
    "print(test)"
   ]
  },
  {
   "cell_type": "code",
   "execution_count": 19,
   "id": "62d76c8e",
   "metadata": {},
   "outputs": [
    {
     "name": "stdout",
     "output_type": "stream",
     "text": [
      "20\n"
     ]
    },
    {
     "data": {
      "text/plain": [
       "__main__.Fraction"
      ]
     },
     "execution_count": 19,
     "metadata": {},
     "output_type": "execute_result"
    }
   ],
   "source": [
    "test1 = Fraction(20, 1)\n",
    "print(test1)\n",
    "type(test1)"
   ]
  },
  {
   "cell_type": "code",
   "execution_count": 93,
   "id": "d3444399",
   "metadata": {},
   "outputs": [
    {
     "name": "stdout",
     "output_type": "stream",
     "text": [
      "2 1/2\n"
     ]
    }
   ],
   "source": [
    "test2 = Fraction(5, 2)\n",
    "print(test2)"
   ]
  },
  {
   "cell_type": "code",
   "execution_count": 94,
   "id": "4d7490e7",
   "metadata": {},
   "outputs": [
    {
     "name": "stdout",
     "output_type": "stream",
     "text": [
      "39/50\n"
     ]
    }
   ],
   "source": [
    "test3 = Fraction(1.56, 2)\n",
    "print(test3)"
   ]
  },
  {
   "cell_type": "code",
   "execution_count": 101,
   "id": "cd6e0d3a",
   "metadata": {},
   "outputs": [
    {
     "name": "stdout",
     "output_type": "stream",
     "text": [
      "4/21\n"
     ]
    }
   ],
   "source": [
    "test4 = Fraction(2, 10.5)\n",
    "print(test4)"
   ]
  },
  {
   "cell_type": "code",
   "execution_count": 125,
   "id": "aa470cd2",
   "metadata": {},
   "outputs": [
    {
     "ename": "ValueError",
     "evalue": "Numerator and denominator should not be a string!",
     "output_type": "error",
     "traceback": [
      "\u001b[1;31m---------------------------------------------------------------------------\u001b[0m",
      "\u001b[1;31mValueError\u001b[0m                                Traceback (most recent call last)",
      "\u001b[1;32m~\\AppData\\Local\\Temp/ipykernel_9996/912622540.py\u001b[0m in \u001b[0;36m<module>\u001b[1;34m\u001b[0m\n\u001b[1;32m----> 1\u001b[1;33m \u001b[0mtest4\u001b[0m \u001b[1;33m=\u001b[0m \u001b[0mFraction\u001b[0m\u001b[1;33m(\u001b[0m\u001b[1;36m2.5\u001b[0m\u001b[1;33m,\u001b[0m \u001b[1;36m10.5\u001b[0m\u001b[1;33m)\u001b[0m\u001b[1;33m\u001b[0m\u001b[1;33m\u001b[0m\u001b[0m\n\u001b[0m\u001b[0;32m      2\u001b[0m \u001b[0mprint\u001b[0m\u001b[1;33m(\u001b[0m\u001b[0mtest4\u001b[0m\u001b[1;33m)\u001b[0m\u001b[1;33m\u001b[0m\u001b[1;33m\u001b[0m\u001b[0m\n",
      "\u001b[1;32m~\\AppData\\Local\\Temp/ipykernel_9996/326593834.py\u001b[0m in \u001b[0;36m__init__\u001b[1;34m(self, num, denom)\u001b[0m\n\u001b[0;32m     23\u001b[0m \u001b[1;33m\u001b[0m\u001b[0m\n\u001b[0;32m     24\u001b[0m             \u001b[1;32melse\u001b[0m\u001b[1;33m:\u001b[0m\u001b[1;33m\u001b[0m\u001b[1;33m\u001b[0m\u001b[0m\n\u001b[1;32m---> 25\u001b[1;33m                 \u001b[1;32mraise\u001b[0m \u001b[0mValueError\u001b[0m\u001b[1;33m(\u001b[0m\u001b[1;34m\"Numerator and denominator should not be a string!\"\u001b[0m\u001b[1;33m)\u001b[0m\u001b[1;33m\u001b[0m\u001b[1;33m\u001b[0m\u001b[0m\n\u001b[0m\u001b[0;32m     26\u001b[0m \u001b[1;33m\u001b[0m\u001b[0m\n\u001b[0;32m     27\u001b[0m             \u001b[1;32mif\u001b[0m \u001b[0mself\u001b[0m\u001b[1;33m.\u001b[0m\u001b[0mdenominator\u001b[0m \u001b[1;33m<\u001b[0m \u001b[1;36m0\u001b[0m\u001b[1;33m:\u001b[0m\u001b[1;33m\u001b[0m\u001b[1;33m\u001b[0m\u001b[0m\n",
      "\u001b[1;31mValueError\u001b[0m: Numerator and denominator should not be a string!"
     ]
    }
   ],
   "source": [
    "test4 = Fraction(2.5, 10.5)\n",
    "print(test4)"
   ]
  },
  {
   "cell_type": "code",
   "execution_count": 120,
   "id": "dd1c6832",
   "metadata": {},
   "outputs": [
    {
     "data": {
      "text/plain": [
       "True"
      ]
     },
     "execution_count": 120,
     "metadata": {},
     "output_type": "execute_result"
    }
   ],
   "source": [
    "f2 = Fraction(3.5, 4)\n",
    "f2 < 1.5"
   ]
  },
  {
   "cell_type": "code",
   "execution_count": 124,
   "id": "33a5bcea",
   "metadata": {},
   "outputs": [
    {
     "name": "stdout",
     "output_type": "stream",
     "text": [
      "1\n",
      "<class '__main__.Fraction'>\n"
     ]
    }
   ],
   "source": [
    "f = Fraction(1, 2)\n",
    "f2 = Fraction(2, 4)\n",
    "same = f + f2\n",
    "print(same)\n",
    "print(type(same))"
   ]
  },
  {
   "cell_type": "code",
   "execution_count": 35,
   "id": "d3bda85c",
   "metadata": {},
   "outputs": [
    {
     "name": "stdout",
     "output_type": "stream",
     "text": [
      "5/4\n"
     ]
    }
   ],
   "source": [
    "f = Fraction(1, 2)\n",
    "f2 = Fraction(3, 4)\n",
    "new = f + f2\n",
    "print(new)"
   ]
  },
  {
   "cell_type": "code",
   "execution_count": 123,
   "id": "98b57f71",
   "metadata": {},
   "outputs": [
    {
     "ename": "TypeError",
     "evalue": "unsupported operand type(s) for +: 'float' and 'Fraction'",
     "output_type": "error",
     "traceback": [
      "\u001b[1;31m---------------------------------------------------------------------------\u001b[0m",
      "\u001b[1;31mTypeError\u001b[0m                                 Traceback (most recent call last)",
      "\u001b[1;32m~\\AppData\\Local\\Temp/ipykernel_9996/752420056.py\u001b[0m in \u001b[0;36m<module>\u001b[1;34m\u001b[0m\n\u001b[0;32m      1\u001b[0m \u001b[0mf\u001b[0m \u001b[1;33m=\u001b[0m \u001b[0mFraction\u001b[0m\u001b[1;33m(\u001b[0m\u001b[1;36m1\u001b[0m\u001b[1;33m,\u001b[0m \u001b[1;36m2\u001b[0m\u001b[1;33m)\u001b[0m\u001b[1;33m\u001b[0m\u001b[1;33m\u001b[0m\u001b[0m\n\u001b[1;32m----> 2\u001b[1;33m \u001b[0ms\u001b[0m \u001b[1;33m=\u001b[0m \u001b[1;36m0.5\u001b[0m \u001b[1;33m+\u001b[0m \u001b[0mf\u001b[0m\u001b[1;33m\u001b[0m\u001b[1;33m\u001b[0m\u001b[0m\n\u001b[0m\u001b[0;32m      3\u001b[0m \u001b[0mprint\u001b[0m\u001b[1;33m(\u001b[0m\u001b[0ms\u001b[0m\u001b[1;33m)\u001b[0m\u001b[1;33m\u001b[0m\u001b[1;33m\u001b[0m\u001b[0m\n",
      "\u001b[1;31mTypeError\u001b[0m: unsupported operand type(s) for +: 'float' and 'Fraction'"
     ]
    }
   ],
   "source": [
    "f = Fraction(1, 2)\n",
    "s = 0.5 + f\n",
    "print(s)"
   ]
  },
  {
   "cell_type": "code",
   "execution_count": 36,
   "id": "86e483c2",
   "metadata": {},
   "outputs": [
    {
     "name": "stdout",
     "output_type": "stream",
     "text": [
      "-1/4\n"
     ]
    }
   ],
   "source": [
    "f3 = Fraction(1, 2)\n",
    "f4 = Fraction(3, 4)\n",
    "new2 = f3 - f4\n",
    "print(new2)"
   ]
  },
  {
   "cell_type": "code",
   "execution_count": 37,
   "id": "b2a96af7",
   "metadata": {},
   "outputs": [
    {
     "name": "stdout",
     "output_type": "stream",
     "text": [
      "3/8\n"
     ]
    }
   ],
   "source": [
    "f5 = Fraction(1, 2)\n",
    "f6 = Fraction(3, 4)\n",
    "new3 = f5 * f6\n",
    "print(new3)"
   ]
  },
  {
   "cell_type": "code",
   "execution_count": 38,
   "id": "84cfe555",
   "metadata": {},
   "outputs": [
    {
     "name": "stdout",
     "output_type": "stream",
     "text": [
      "2/3\n"
     ]
    }
   ],
   "source": [
    "f7 = Fraction(1, 2)\n",
    "f8 = Fraction(3, 4)\n",
    "new4 = f7 / f8\n",
    "print(new4)"
   ]
  },
  {
   "cell_type": "code",
   "execution_count": 39,
   "id": "a203cf35",
   "metadata": {},
   "outputs": [
    {
     "name": "stdout",
     "output_type": "stream",
     "text": [
      "Is not equal? True\n",
      "Is equal? False\n",
      "-1\n",
      "2\n"
     ]
    }
   ],
   "source": [
    "a = Fraction(1, -2)\n",
    "b = Fraction(3, 4)\n",
    "\n",
    "ne = a != b\n",
    "print(\"Is not equal?\", ne)\n",
    "\n",
    "eq = a == b\n",
    "print(\"Is equal?\", eq)\n",
    "\n",
    "print(Fraction.get_num(a))\n",
    "print(Fraction.get_den(a))"
   ]
  },
  {
   "cell_type": "code",
   "execution_count": 41,
   "id": "6e716660",
   "metadata": {},
   "outputs": [
    {
     "data": {
      "text/plain": [
       "True"
      ]
     },
     "execution_count": 41,
     "metadata": {},
     "output_type": "execute_result"
    }
   ],
   "source": [
    "u1 = Fraction(1, -2)\n",
    "u2 = Fraction(1, -4)\n",
    "\n",
    "u1 < u2"
   ]
  },
  {
   "cell_type": "code",
   "execution_count": 44,
   "id": "e458fcf1",
   "metadata": {},
   "outputs": [
    {
     "data": {
      "text/plain": [
       "True"
      ]
     },
     "execution_count": 44,
     "metadata": {},
     "output_type": "execute_result"
    }
   ],
   "source": [
    "u3 = Fraction(1, 2)\n",
    "u4 = Fraction(1, -4)\n",
    "\n",
    "u3 > u4"
   ]
  }
 ],
 "metadata": {
  "kernelspec": {
   "display_name": "Python 3 (ipykernel)",
   "language": "python",
   "name": "python3"
  },
  "language_info": {
   "codemirror_mode": {
    "name": "ipython",
    "version": 3
   },
   "file_extension": ".py",
   "mimetype": "text/x-python",
   "name": "python",
   "nbconvert_exporter": "python",
   "pygments_lexer": "ipython3",
   "version": "3.9.7"
  }
 },
 "nbformat": 4,
 "nbformat_minor": 5
}
