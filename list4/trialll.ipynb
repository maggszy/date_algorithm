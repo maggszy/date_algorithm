{
 "cells": [
  {
   "cell_type": "markdown",
   "metadata": {},
   "source": [
    "# zad1"
   ]
  },
  {
   "cell_type": "code",
   "execution_count": 42,
   "metadata": {},
   "outputs": [],
   "source": [
    "class QueueBaB(object): #first in, first out\n",
    "    #można dopisać funkcje która wyświetlać będzie zawartość listy\n",
    "    \n",
    "    def __init__(self):\n",
    "        self.list_of_items = []\n",
    "    \n",
    "    def enqueue(self, item):\n",
    "        self.list_of_items.append(item)\n",
    "    \n",
    "    def dequeue(self):\n",
    "        return self.list_of_items.pop()\n",
    "  \n",
    "    def is_empty(self):\n",
    "        return self.list_of_items==[]\n",
    "    \n",
    "    def size(self):\n",
    "        return len(self.list_of_items)\n",
    "    \n",
    "    def perform(self):\n",
    "        print(self.list_of_items)\n",
    "        "
   ]
  },
  {
   "cell_type": "code",
   "execution_count": 43,
   "metadata": {},
   "outputs": [],
   "source": [
    "first=QueueBaB()"
   ]
  },
  {
   "cell_type": "code",
   "execution_count": 13,
   "metadata": {},
   "outputs": [
    {
     "data": {
      "text/plain": [
       "False"
      ]
     },
     "execution_count": 13,
     "metadata": {},
     "output_type": "execute_result"
    }
   ],
   "source": [
    "first.is_empty()"
   ]
  },
  {
   "cell_type": "code",
   "execution_count": 51,
   "metadata": {},
   "outputs": [
    {
     "data": {
      "text/plain": [
       "9"
      ]
     },
     "execution_count": 51,
     "metadata": {},
     "output_type": "execute_result"
    }
   ],
   "source": [
    "first.enqueue('4')\n",
    "first.enqueue(5)\n",
    "first.enqueue(\"'a','a'\")\n",
    "first.size()"
   ]
  },
  {
   "cell_type": "code",
   "execution_count": 58,
   "metadata": {},
   "outputs": [
    {
     "data": {
      "text/plain": [
       "'4'"
      ]
     },
     "execution_count": 58,
     "metadata": {},
     "output_type": "execute_result"
    }
   ],
   "source": [
    "first.dequeue()"
   ]
  },
  {
   "cell_type": "code",
   "execution_count": 59,
   "metadata": {},
   "outputs": [
    {
     "name": "stdout",
     "output_type": "stream",
     "text": [
      "['4', 5, '4', 5, '4', 5]\n"
     ]
    }
   ],
   "source": [
    "first.perform()"
   ]
  },
  {
   "cell_type": "code",
   "execution_count": 96,
   "metadata": {},
   "outputs": [],
   "source": [
    "class QueueBaE(object):\n",
    "\n",
    "    def __init__(self):\n",
    "        self.list_of_items = []\n",
    "    \n",
    "    def enqueue(self, item):\n",
    "        self.list_of_items.insert(0,item)\n",
    "    \n",
    "    def dequeue(self):\n",
    "        return self.list_of_items.pop(0)\n",
    "  \n",
    "    def is_empty(self):\n",
    "        return self.list_of_items==[]\n",
    "    \n",
    "    def size(self):\n",
    "        return len(self.list_of_items) \n",
    "    \n",
    "    def perform(self):\n",
    "        print(self.list_of_items)"
   ]
  },
  {
   "cell_type": "code",
   "execution_count": 97,
   "metadata": {},
   "outputs": [],
   "source": [
    "second=QueueBaE()"
   ]
  },
  {
   "cell_type": "code",
   "execution_count": 102,
   "metadata": {},
   "outputs": [],
   "source": [
    "second.enqueue(4)\n",
    "second.enqueue(6)\n",
    "second.enqueue(8)"
   ]
  },
  {
   "cell_type": "code",
   "execution_count": 109,
   "metadata": {},
   "outputs": [
    {
     "data": {
      "text/plain": [
       "4"
      ]
     },
     "execution_count": 109,
     "metadata": {},
     "output_type": "execute_result"
    }
   ],
   "source": [
    "second.dequeue()"
   ]
  },
  {
   "cell_type": "code",
   "execution_count": 110,
   "metadata": {},
   "outputs": [
    {
     "name": "stdout",
     "output_type": "stream",
     "text": [
      "[]\n"
     ]
    }
   ],
   "source": [
    "second.perform()"
   ]
  },
  {
   "cell_type": "code",
   "execution_count": 111,
   "metadata": {},
   "outputs": [
    {
     "data": {
      "text/plain": [
       "True"
      ]
     },
     "execution_count": 111,
     "metadata": {},
     "output_type": "execute_result"
    }
   ],
   "source": [
    "second.is_empty()"
   ]
  },
  {
   "cell_type": "code",
   "execution_count": null,
   "metadata": {},
   "outputs": [],
   "source": []
  }
 ],
 "metadata": {
  "kernelspec": {
   "display_name": "Python 3",
   "language": "python",
   "name": "python3"
  },
  "language_info": {
   "codemirror_mode": {
    "name": "ipython",
    "version": 3
   },
   "file_extension": ".py",
   "mimetype": "text/x-python",
   "name": "python",
   "nbconvert_exporter": "python",
   "pygments_lexer": "ipython3",
   "version": "3.8.5"
  }
 },
 "nbformat": 4,
 "nbformat_minor": 4
}
