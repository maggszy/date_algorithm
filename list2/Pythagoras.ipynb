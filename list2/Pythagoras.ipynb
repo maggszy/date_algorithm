{
 "cells": [
  {
   "cell_type": "markdown",
   "metadata": {},
   "source": [
    "## <span style=\"color:#D47FAC;\"> <center>Pythagorean triplets - list nr 2 </center> </span>"
   ]
  },
  {
   "cell_type": "markdown",
   "metadata": {},
   "source": [
    "##### Authors: Jakubik Małgorzata, Szymkowiak Magdalena"
   ]
  },
  {
   "cell_type": "code",
   "execution_count": 4,
   "metadata": {},
   "outputs": [],
   "source": [
    "import math\n",
    "import time"
   ]
  },
  {
   "cell_type": "markdown",
   "metadata": {},
   "source": [
    "#### Brute-Force method - trying every possibility"
   ]
  },
  {
   "cell_type": "code",
   "execution_count": null,
   "metadata": {},
   "outputs": [],
   "source": [
    "def pytha_triplet(nums_sum:int):  #n^3\n",
    "    \"\"\"\n",
    "    Find the Pythagorean triplet from the given number \n",
    "     which is a sum of a,b,c.\n",
    "    Iterate over three nested loops. \n",
    "    \n",
    "    :param num_sum(int): a number which is the sum of numbers: a,b,c\n",
    "    :return: tuple with 'True' (if wanted triplet exists) or 'False' (if does \n",
    "     not exist), the length of sides of triplet in increasing order and \n",
    "     the number of operations execuded in program\n",
    "    \"\"\"\n",
    "    operation_count=0\n",
    "    for a in range(1,nums_sum):\n",
    "        for b in range(1,nums_sum):\n",
    "            for c in range(1,nums_sum):\n",
    "                operation_count+=9\n",
    "                if a**2 + b**2 == c**2 and a+b+c==nums_sum:\n",
    "                    return(True,a,b,c,operation_count,end-start)\n",
    "    return (False,-1,-1,-1,operation_count,end-start)"
   ]
  },
  {
   "cell_type": "code",
   "execution_count": 126,
   "metadata": {},
   "outputs": [
    {
     "data": {
      "text/plain": [
       "(True, 200, 375, 425, 1790786250)"
      ]
     },
     "execution_count": 126,
     "metadata": {},
     "output_type": "execute_result"
    }
   ],
   "source": [
    "pytha_triplet(1000)"
   ]
  },
  {
   "cell_type": "markdown",
   "metadata": {},
   "source": [
    "#### Nested loops, but range for b is limited. It includes a<b<c."
   ]
  },
  {
   "cell_type": "code",
   "execution_count": null,
   "metadata": {},
   "outputs": [],
   "source": [
    "def pytha_triplet1(nums_sum:int):\n",
    "    \"\"\"\n",
    "    Find the Pythagorean triplet from the given  number which \n",
    "     is a sum of a,b,c.\n",
    "    Iterate over two nested loops, where second loop is limited \n",
    "     according to the 'a<b'. \n",
    "    \n",
    "    :param num_sum(int): a number which is the sum of numbers: a,b,c\n",
    "    :return: tuple with 'True' (if wanted triplet exists) or 'False' (if does \n",
    "     not exist), the length of sides of triplet in increasing order and \n",
    "     the number of operations execuded in program\n",
    "    \"\"\"\n",
    "    operation_count = 0\n",
    "    for a in range(1, nums_sum):\n",
    "        for b in range(a+1, nums_sum):\n",
    "            c = nums_sum - a - b\n",
    "            operation_count += 8\n",
    "            if a**2 + b **2 == c**2:\n",
    "                return (True, a, b, c, operation_count) \n",
    "    return (False, -1, -1, -1, operation_count)"
   ]
  },
  {
   "cell_type": "code",
   "execution_count": 127,
   "metadata": {},
   "outputs": [
    {
     "data": {
      "text/plain": [
       "(True, 200, 375, 425, 1432608)"
      ]
     },
     "execution_count": 127,
     "metadata": {},
     "output_type": "execute_result"
    }
   ],
   "source": [
    "pytha_triplet1(1000)"
   ]
  },
  {
   "cell_type": "markdown",
   "metadata": {},
   "source": [
    "#### Another limits added to range for a and b"
   ]
  },
  {
   "cell_type": "code",
   "execution_count": null,
   "metadata": {},
   "outputs": [],
   "source": [
    "def pytha_triplet2(nums_sum:int):  #n^2\n",
    "    \"\"\"\n",
    "    Find the Pythagorean triplet from the given number which \n",
    "     is a sum of a,b,c.\n",
    "    Iterate over two nested loops, where loops are limited \n",
    "     according to the 'a<b<c'.\n",
    "    \n",
    "    :param num_sum(int): a number which is the sum of numbers: a,b,c\n",
    "    :return: tuple with 'True' (if wanted triplet exists) or 'False' (if does \n",
    "     not exist), the length of sides of triplet in increasing order and \n",
    "     the number of operations execuded in program\n",
    "    \"\"\"\n",
    "    operation_count=0\n",
    "    for a in range(1,nums_sum//3):\n",
    "        for b in range(a+1,nums_sum//2):\n",
    "            c=nums_sum-a-b\n",
    "            operation_count+=14\n",
    "            if a**2 + b**2 == c**2 and a+b+c==nums_sum:\n",
    "                return(True,a,b,c,operation_count)\n",
    "\n",
    "    return (False,-1,-1,-1,operation_count) "
   ]
  },
  {
   "cell_type": "code",
   "execution_count": 128,
   "metadata": {},
   "outputs": [
    {
     "data": {
      "text/plain": [
       "(True, 200, 375, 425, 1114064)"
      ]
     },
     "execution_count": 128,
     "metadata": {},
     "output_type": "execute_result"
    }
   ],
   "source": [
    "pytha_triplet2(1000)"
   ]
  },
  {
   "cell_type": "markdown",
   "metadata": {},
   "source": [
    "#### Analytical approach"
   ]
  },
  {
   "cell_type": "markdown",
   "metadata": {},
   "source": [
    "$$ a^{2} + b^{2} = c^{2} \\\\\n",
    "a^{2} + 2ab + c^2 = c^{2} + 2ab \\\\\n",
    "(a+b)^{2} = c^{2} + 2ab $$\n",
    "Assuming n is the perimeter of a triangle\n",
    "$$\n",
    "(n-c)^{2} = c^{2} + 2ab \\\\\n",
    "$$"
   ]
  },
  {
   "cell_type": "markdown",
   "metadata": {},
   "source": [
    "Having $$ 2ab = (n-c)^{2} - c^{2} \\wedge a^{2} + b^{2} = c^{2} $$ we can get $$(a-b)^{2} = c^{2} - n^{2} + 2nc$$\n",
    "We know that $ a-b <0 $ so using $ a+b+c=n $ we have $$ b = \\frac{n-c-(a-b)}{2} \\wedge a = n -b-c $$"
   ]
  },
  {
   "cell_type": "code",
   "execution_count": 7,
   "metadata": {},
   "outputs": [],
   "source": [
    "def pytha_triplet3(nums_sum:int): #n\n",
    "    \"\"\"\n",
    "    Find the Pythagorean triplet from the given number which \n",
    "    is a sum of a,b,c.\n",
    "    Use the analytical method and iterate over range of 'c'.\n",
    "    \n",
    "    :param num_sum(int): a number which is the sum of numbers: a,b,c\n",
    "    :return: tuple with 'True' (if wanted triplet exists) or 'False' (if does \n",
    "     not exist), the length of sides of triplet in increasing order and \n",
    "     the number of operations execuded in program\n",
    "    \"\"\"\n",
    "    operation_count=0\n",
    "    for c in range(1,nums_sum):\n",
    "        a_b_sqr= c**2 - nums_sum**2 + 2*nums_sum*c\n",
    "        a_b= math.floor(math.sqrt(abs(a_b_sqr)))\n",
    "        operation_count+=9\n",
    "\n",
    "        if a_b**2 == a_b_sqr:\n",
    "            b=(nums_sum - c + a_b)//2\n",
    "            a= nums_sum - b - c\n",
    "            operation_count+=7\n",
    "            return(True,a,b,c,operation_count)\n",
    "        else:\n",
    "            operation_count+=2\n",
    "\n",
    "    return (False,-1,-1,-1,operation_count) "
   ]
  },
  {
   "cell_type": "code",
   "execution_count": 8,
   "metadata": {},
   "outputs": [
    {
     "data": {
      "text/plain": [
       "(True, 200, 375, 425, 4680)"
      ]
     },
     "execution_count": 8,
     "metadata": {},
     "output_type": "execute_result"
    }
   ],
   "source": [
    "pytha_triplet3(1000)"
   ]
  },
  {
   "cell_type": "markdown",
   "metadata": {},
   "source": [
    "## Testing another cases:"
   ]
  },
  {
   "cell_type": "code",
   "execution_count": 131,
   "metadata": {},
   "outputs": [
    {
     "data": {
      "text/plain": [
       "(True, 7, 24, 25, 174960)"
      ]
     },
     "execution_count": 131,
     "metadata": {},
     "output_type": "execute_result"
    }
   ],
   "source": [
    "pytha_triplet(56)"
   ]
  },
  {
   "cell_type": "code",
   "execution_count": 132,
   "metadata": {},
   "outputs": [
    {
     "data": {
      "text/plain": [
       "(True, 7, 24, 25, 2608)"
      ]
     },
     "execution_count": 132,
     "metadata": {},
     "output_type": "execute_result"
    }
   ],
   "source": [
    "pytha_triplet1(56)"
   ]
  },
  {
   "cell_type": "code",
   "execution_count": 133,
   "metadata": {},
   "outputs": [
    {
     "data": {
      "text/plain": [
       "(True, 7, 24, 25, 2212)"
      ]
     },
     "execution_count": 133,
     "metadata": {},
     "output_type": "execute_result"
    }
   ],
   "source": [
    "pytha_triplet2(56)"
   ]
  },
  {
   "cell_type": "code",
   "execution_count": 134,
   "metadata": {},
   "outputs": [
    {
     "data": {
      "text/plain": [
       "(True, 7, 24, 25, 255)"
      ]
     },
     "execution_count": 134,
     "metadata": {},
     "output_type": "execute_result"
    }
   ],
   "source": [
    "pytha_triplet3(56)"
   ]
  },
  {
   "cell_type": "code",
   "execution_count": 138,
   "metadata": {},
   "outputs": [
    {
     "data": {
      "text/plain": [
       "(False, -1, -1, -1, 0)"
      ]
     },
     "execution_count": 138,
     "metadata": {},
     "output_type": "execute_result"
    }
   ],
   "source": [
    "pytha_triplet(-56)"
   ]
  },
  {
   "cell_type": "code",
   "execution_count": 135,
   "metadata": {},
   "outputs": [
    {
     "data": {
      "text/plain": [
       "(False, -1, -1, -1, 61731)"
      ]
     },
     "execution_count": 135,
     "metadata": {},
     "output_type": "execute_result"
    }
   ],
   "source": [
    "pytha_triplet(20)"
   ]
  },
  {
   "cell_type": "markdown",
   "metadata": {},
   "source": [
    "## Comparing the amount of time of finding a triplet:"
   ]
  },
  {
   "cell_type": "code",
   "execution_count": 121,
   "metadata": {},
   "outputs": [
    {
     "name": "stdout",
     "output_type": "stream",
     "text": [
      "2min 20s ± 2.4 s per loop (mean ± std. dev. of 7 runs, 1 loop each)\n"
     ]
    }
   ],
   "source": [
    "%timeit pytha_triplet(1000)"
   ]
  },
  {
   "cell_type": "code",
   "execution_count": 123,
   "metadata": {},
   "outputs": [
    {
     "name": "stdout",
     "output_type": "stream",
     "text": [
      "139 ms ± 10.3 ms per loop (mean ± std. dev. of 7 runs, 10 loops each)\n"
     ]
    }
   ],
   "source": [
    "%timeit pytha_triplet1(1000)"
   ]
  },
  {
   "cell_type": "code",
   "execution_count": 124,
   "metadata": {},
   "outputs": [
    {
     "name": "stdout",
     "output_type": "stream",
     "text": [
      "57.7 ms ± 2.03 ms per loop (mean ± std. dev. of 7 runs, 10 loops each)\n"
     ]
    }
   ],
   "source": [
    "%timeit pytha_triplet2(1000)"
   ]
  },
  {
   "cell_type": "code",
   "execution_count": 5,
   "metadata": {},
   "outputs": [
    {
     "name": "stdout",
     "output_type": "stream",
     "text": [
      "1.15 ms ± 59.5 µs per loop (mean ± std. dev. of 7 runs, 1000 loops each)\n"
     ]
    }
   ],
   "source": [
    "%timeit pytha_triplet3(1000)"
   ]
  },
  {
   "cell_type": "markdown",
   "metadata": {},
   "source": [
    "## To sum up"
   ]
  },
  {
   "cell_type": "markdown",
   "metadata": {},
   "source": [
    "Taking into considerations, every method is an improvement of the previous one. Reductions of the loops make our function better and analitical approach allow to have only one loop and achive the most effective program with the smallest number of operations. "
   ]
  },
  {
   "cell_type": "markdown",
   "metadata": {},
   "source": [
    "#### <span style=\"color:#D47FAC;\"> <center> Link to our code: https://github.com/maggszy/date_algorithm/blob/main/list2/pitagoras.py </center> </span>"
   ]
  }
 ],
 "metadata": {
  "kernelspec": {
   "display_name": "Python 3",
   "language": "python",
   "name": "python3"
  },
  "language_info": {
   "codemirror_mode": {
    "name": "ipython",
    "version": 3
   },
   "file_extension": ".py",
   "mimetype": "text/x-python",
   "name": "python",
   "nbconvert_exporter": "python",
   "pygments_lexer": "ipython3",
   "version": "3.8.5"
  }
 },
 "nbformat": 4,
 "nbformat_minor": 5
}
