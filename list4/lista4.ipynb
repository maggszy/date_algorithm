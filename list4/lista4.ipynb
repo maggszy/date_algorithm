{
 "cells": [
  {
   "cell_type": "markdown",
   "metadata": {},
   "source": [
    "\n",
    " #  <span style=\"color:#D47FAC;\"> <center>LIST 4 </center> </span>\n",
    "\n",
    "Authors: _Jakubik Małgorzata, Szymkowiak Magdalena_"
   ]
  },
  {
   "cell_type": "markdown",
   "metadata": {},
   "source": [
    "## <span style=\"color:#D47FAC;\">TASK 1</span> "
   ]
  },
  {
   "cell_type": "code",
   "execution_count": 14,
   "metadata": {},
   "outputs": [],
   "source": [
    "class QueueBaB(object): #first in, first out\n",
    "    \"\"\"\n",
    "    Klasa implementująca kolejkę za pomocą pythonowej listy tak,\n",
    "    że początek kolejki jest przechowywany na początku listy.\n",
    "    \"\"\"\n",
    "\n",
    "    def __init__(self):\n",
    "        self.list_of_items = []\n",
    "\n",
    "    def enqueue(self, item):\n",
    "        \"\"\"\n",
    "        Metoda służąca do dodawania obiektu do kolejki.\n",
    "        Pobiera jako argument obiekt który ma być dodany.\n",
    "        Niczego nie zwraca.\n",
    "        \"\"\" \n",
    "        self.list_of_items.append(item)\n",
    "\n",
    "\n",
    "    def dequeue(self):\n",
    "        \"\"\"\n",
    "        Metoda służąca do ściągania obiektu do kolejki.\n",
    "        Nie pobiera argumentów.\n",
    "        Zwraca ściągnięty obiekt.\n",
    "        \"\"\"\n",
    "        return self.list_of_items.pop(0)\n",
    "\n",
    "    def is_empty(self):\n",
    "        \"\"\"\n",
    "        Metoda służąca do sprawdzania, czy kolejka jest pusta.\n",
    "        Nie pobiera argumentów.\n",
    "        Zwraca True jeśli kolejka jest pusta lub False gdy nie jest.\n",
    "        \"\"\"\n",
    "        return self.list_of_items==[]\n",
    "\n",
    "    def size(self):\n",
    "        \"\"\"\n",
    "        Metoda służąca do określania wielkości kolejki.\n",
    "        Nie pobiera argumentów.\n",
    "        Zwraca liczbę obiektów w kolejce.\n",
    "        \"\"\"\n",
    "        return len(self.list_of_items)\n",
    "\n",
    "    def __str__(self):\n",
    "        \"\"\"\n",
    "        Metoda odpowiadająca za nieformalną reprezentacje kolejki.\n",
    "        Nie pobiera argumentów.\n",
    "        \"\"\"\n",
    "        return str(self.list_of_items)"
   ]
  },
  {
   "cell_type": "code",
   "execution_count": 15,
   "metadata": {},
   "outputs": [],
   "source": [
    "first=QueueBaB()"
   ]
  },
  {
   "cell_type": "code",
   "execution_count": 16,
   "metadata": {},
   "outputs": [
    {
     "data": {
      "text/plain": [
       "True"
      ]
     },
     "execution_count": 16,
     "metadata": {},
     "output_type": "execute_result"
    }
   ],
   "source": [
    "first.is_empty()"
   ]
  },
  {
   "cell_type": "code",
   "execution_count": 17,
   "metadata": {},
   "outputs": [
    {
     "data": {
      "text/plain": [
       "3"
      ]
     },
     "execution_count": 17,
     "metadata": {},
     "output_type": "execute_result"
    }
   ],
   "source": [
    "first.enqueue('4')\n",
    "first.enqueue(5)\n",
    "first.enqueue(\"'a','a'\")\n",
    "first.size()"
   ]
  },
  {
   "cell_type": "code",
   "execution_count": 18,
   "metadata": {},
   "outputs": [
    {
     "data": {
      "text/plain": [
       "'4'"
      ]
     },
     "execution_count": 18,
     "metadata": {},
     "output_type": "execute_result"
    }
   ],
   "source": [
    "first.dequeue()"
   ]
  },
  {
   "cell_type": "code",
   "execution_count": 19,
   "metadata": {},
   "outputs": [
    {
     "name": "stdout",
     "output_type": "stream",
     "text": [
      "[5, \"'a','a'\"]\n"
     ]
    }
   ],
   "source": [
    "print(first)"
   ]
  },
  {
   "cell_type": "code",
   "execution_count": 20,
   "metadata": {},
   "outputs": [],
   "source": [
    "class QueueBaE(object): \n",
    "    \"\"\"\n",
    "    Klasa implementująca kolejkę za pomocą pythonowej listy tak,\n",
    "    że początek kolejki jest przechowywany na końcu listy.\n",
    "    \"\"\"\n",
    "\n",
    "    def __init__(self):\n",
    "        self.list_of_items = []\n",
    "\n",
    "    def enqueue(self, item):\n",
    "        \"\"\"\n",
    "        Metoda służąca do dodawania obiektu do kolejki.\n",
    "        Pobiera jako argument obiekt który ma być dodany.\n",
    "        Niczego nie zwraca.\n",
    "        \"\"\"\n",
    "        self.list_of_items.insert(0,item)\n",
    "\n",
    "    def dequeue(self):\n",
    "        \"\"\"\n",
    "        Metoda służąca do ściągania obiektu do kolejki.\n",
    "        Nie pobiera argumentów.\n",
    "        Zwraca ściągnięty obiekt.\n",
    "        \"\"\"\n",
    "        return self.list_of_items.pop()\n",
    "\n",
    "    def is_empty(self):\n",
    "        \"\"\"\n",
    "        Metoda służąca do sprawdzania, czy kolejka jest pusta.\n",
    "        Nie pobiera argumentów.\n",
    "        Zwraca True jeśli kolejka jest pusta lub False gdy nie jest.\n",
    "        \"\"\"\n",
    "        return self.list_of_items==[]\n",
    "\n",
    "    def size(self):\n",
    "        \"\"\"\n",
    "        Metoda służąca do określania wielkości kolejki.\n",
    "        Nie pobiera argumentów.\n",
    "        Zwraca liczbę obiektów w kolejce.\n",
    "        \"\"\"\n",
    "        return len(self.list_of_items)\n",
    "\n",
    "    def __str__(self):\n",
    "        \"\"\"\n",
    "        Medota odpowiadająca za nieformalną reprezentacje kolejki.\n",
    "        Nie pobiera argumentów.\n",
    "        \"\"\"\n",
    "        return str(self.list_of_items)"
   ]
  },
  {
   "cell_type": "code",
   "execution_count": 21,
   "metadata": {},
   "outputs": [],
   "source": [
    "second=QueueBaE()"
   ]
  },
  {
   "cell_type": "code",
   "execution_count": 22,
   "metadata": {},
   "outputs": [],
   "source": [
    "second.enqueue(4)\n",
    "second.enqueue(6)\n",
    "second.enqueue(8)"
   ]
  },
  {
   "cell_type": "code",
   "execution_count": 23,
   "metadata": {},
   "outputs": [
    {
     "data": {
      "text/plain": [
       "4"
      ]
     },
     "execution_count": 23,
     "metadata": {},
     "output_type": "execute_result"
    }
   ],
   "source": [
    "second.dequeue()"
   ]
  },
  {
   "cell_type": "code",
   "execution_count": 26,
   "metadata": {},
   "outputs": [
    {
     "name": "stdout",
     "output_type": "stream",
     "text": [
      "[8, 6]\n"
     ]
    }
   ],
   "source": [
    "print(second)"
   ]
  },
  {
   "cell_type": "code",
   "execution_count": 27,
   "metadata": {},
   "outputs": [
    {
     "data": {
      "text/plain": [
       "False"
      ]
     },
     "execution_count": 27,
     "metadata": {},
     "output_type": "execute_result"
    }
   ],
   "source": [
    "second.is_empty()"
   ]
  },
  {
   "cell_type": "markdown",
   "metadata": {},
   "source": [
    "## <span style=\"color:#D47FAC;\">TASK 2</span> "
   ]
  },
  {
   "cell_type": "code",
   "execution_count": 38,
   "metadata": {},
   "outputs": [],
   "source": [
    "import time\n",
    "import matplotlib.pyplot as plt\n",
    "import numpy as np"
   ]
  },
  {
   "cell_type": "markdown",
   "metadata": {},
   "source": [
    "Nasz eksperyment polega na porównaniu czasu dodawania i usuwania elementów z kolejek `QueueBaB` i `QueueBaE`. \n",
    "\n",
    "Podczas wymyślania eksperymentu zaciekawił nas fakt `czy typ dodawanych argumentów wpływa na czas trwania programów?`, postanowiłyśmy to sprawdzić!"
   ]
  },
  {
   "cell_type": "code",
   "execution_count": 31,
   "metadata": {},
   "outputs": [],
   "source": [
    "def time_measure(n: int):\n",
    "    \"\"\"\n",
    "    Funkcja mierzy czas dodawania n elementów do kolejek QueueBab i QueueBaE oraz czas usuwania n elementów z kolejek; liczy\n",
    "    średnią ilość czasu z dodawania i usuwania elementów z kolejek.\n",
    "    \n",
    "    param n: liczba elementów do dodania na listy\n",
    "    return: zwraca krotkę z czasem: dodawania do kolejki BaB, dodawania do kolejki BaE, usuwania z BaB, usuwania z BaE, średnia\n",
    "    czasów dla BaB, średnia czasów dla BaE\n",
    "    \"\"\"\n",
    "    BaB=QueueBaB()\n",
    "    BaE=QueueBaE()\n",
    "    \n",
    "    \n",
    "    startB1=time.time()\n",
    "    for i in range(n):\n",
    "        BaB.enqueue(i)\n",
    "    endB1= time.time()\n",
    "        \n",
    "    startE1=time.time()\n",
    "    for i in range(n):\n",
    "        BaE.enqueue(i)\n",
    "    endE1=time.time()\n",
    "    \n",
    "    startB2=time.time()\n",
    "    for _ in range(n):\n",
    "        BaB.dequeue()\n",
    "    endB2= time.time()\n",
    "    \n",
    "    startE2=time.time()\n",
    "    for _ in range(n):\n",
    "        BaE.dequeue()\n",
    "    endE2=time.time()\n",
    "    \n",
    "    #średnia czasów z dodawania i usuwania z BaB i BaE\n",
    "    sr_bab=(endB1-startB1+endE1-startE1)/2\n",
    "    sr_bae=(endB2-startB2+endE2-startE2)/2\n",
    "    \n",
    "    return endB1-startB1, endB2-startB2,endE1-startE1,endE2-startE2, sr_bab,sr_bae"
   ]
  },
  {
   "cell_type": "code",
   "execution_count": 32,
   "metadata": {},
   "outputs": [
    {
     "data": {
      "text/plain": [
       "(0.005994319915771484,\n",
       " 0.0390932559967041,\n",
       " 0.0430140495300293,\n",
       " 0.006994962692260742,\n",
       " 0.02450418472290039,\n",
       " 0.023044109344482422)"
      ]
     },
     "execution_count": 32,
     "metadata": {},
     "output_type": "execute_result"
    }
   ],
   "source": [
    "time_measure(10000)"
   ]
  },
  {
   "cell_type": "code",
   "execution_count": 46,
   "metadata": {},
   "outputs": [
    {
     "name": "stdout",
     "output_type": "stream",
     "text": [
      "BaB.enqueue 0 sekund, BaE.enqueue 4.913766 sekund. \n",
      " BaB.dequeue 10 sekund, BaE.dequeue 3.191376e-02 sekund. \n",
      "\n",
      "BaB.enqueue 0 sekund, BaE.enqueue 4.193618 sekund. \n",
      " BaB.dequeue 10 sekund, BaE.dequeue 3.191519e-02 sekund. \n",
      "\n",
      "BaB.enqueue 0 sekund, BaE.enqueue 4.191873 sekund. \n",
      " BaB.dequeue 10 sekund, BaE.dequeue 2.992010e-02 sekund. \n",
      "\n",
      "BaB.enqueue 0 sekund, BaE.enqueue 4.233064 sekund. \n",
      " BaB.dequeue 10 sekund, BaE.dequeue 2.298665e-02 sekund. \n",
      "\n",
      "BaB.enqueue 0 sekund, BaE.enqueue 4.296929 sekund. \n",
      " BaB.dequeue 10 sekund, BaE.dequeue 2.398443e-02 sekund. \n",
      "\n"
     ]
    }
   ],
   "source": [
    "for i in range(5): #do wywalenia?\n",
    "    print(\"BaB.enqueue %d sekund, BaE.enqueue %f sekund. \\n BaB.dequeue %d sekund, BaE.dequeue %e sekund. \\n\"%time_measure(200000))"
   ]
  },
  {
   "cell_type": "code",
   "execution_count": 33,
   "metadata": {},
   "outputs": [],
   "source": [
    "def compare_enqueue(n: int):\n",
    "    \"\"\"\n",
    "    Funkcja rysuje wykresy czasu trwania dodawania n elementów do list QueueBaB i QueueBaE.\n",
    "    \n",
    "    param n: ilość elementów dodawanych do list\n",
    "    \"\"\"\n",
    "    \n",
    "    xb=np.linspace(0,n)\n",
    "    timeb=np.linspace(0,time_measure(n)[0])\n",
    "    xe=np.linspace(0,n)\n",
    "    timee=np.linspace(0,time_measure(n)[1])\n",
    "    \n",
    "\n",
    "    plt.plot(xb,timeb, 'C4.',label='QueueBaB')\n",
    "    plt.plot(xe,timee, 'C5.', label='QueueBaE')\n",
    "    plt.xlabel('Number of elements')\n",
    "    plt.ylabel('Time')\n",
    "    plt.title(\"Enqueue\")\n",
    "    \n",
    "    plt.legend()\n",
    "    plt.grid()\n",
    "    plt.show()"
   ]
  },
  {
   "cell_type": "code",
   "execution_count": 94,
   "metadata": {},
   "outputs": [
    {
     "data": {
      "image/png": "[encoded data removed]",
      "text/plain": [
       "<Figure size 432x288 with 1 Axes>"
      ]
     },
     "metadata": {
      "needs_background": "light"
     },
     "output_type": "display_data"
    }
   ],
   "source": [
    "compare_enqueue(100000)"
   ]
  },
  {
   "cell_type": "code",
   "execution_count": 91,
   "metadata": {},
   "outputs": [],
   "source": [
    "def compare_dequeue(n: int):\n",
    "    \"\"\"\n",
    "    Funkcja rysuje wykresy czasu trwania usuwania n elementów do list QueueBaB i QueueBaE.\n",
    "    \n",
    "    param n: ilość elementów usuwanych z list\n",
    "    \"\"\"\n",
    "    \n",
    "    xb=np.linspace(0,n)\n",
    "    timeb=np.linspace(0,np.abs(time_measure(n)[2]))\n",
    "    xe=np.linspace(0,n)\n",
    "    timee=np.linspace(0,np.abs(time_measure(n)[3]))\n",
    "\n",
    "    plt.plot(xb,timeb, 'C4.',label='QueueBaB')\n",
    "    plt.plot(xe,timee, 'C5.', label='QueueBaE')\n",
    "    plt.xlabel('Number of elements')\n",
    "    plt.ylabel('Time')\n",
    "    plt.title(\"Dequeue\")\n",
    "    \n",
    "    plt.legend()\n",
    "    plt.grid()\n",
    "    plt.show()"
   ]
  },
  {
   "cell_type": "code",
   "execution_count": 92,
   "metadata": {},
   "outputs": [
    {
     "data": {
      "image/png": "[encoded data removed]",
      "text/plain": [
       "<Figure size 432x288 with 1 Axes>"
      ]
     },
     "metadata": {
      "needs_background": "light"
     },
     "output_type": "display_data"
    }
   ],
   "source": [
    "compare_dequeue(100000)"
   ]
  },
  {
   "cell_type": "code",
   "execution_count": 35,
   "metadata": {},
   "outputs": [],
   "source": [
    "def compare_mean(n: int):\n",
    "    \"\"\"\n",
    "    Funkcja rysuje wykresy średniej ilości czasu potrzbnej do dodania i usunięcia n elementów z list QueueBaB i QueueBaE.\n",
    "    \n",
    "    param n: ilość dodawanych i usuwanych elementów\n",
    "    \"\"\"\n",
    "    \n",
    "    xb=np.linspace(0,n)\n",
    "    timeb=np.linspace(0,np.abs(time_measure(n)[4]))\n",
    "    xe=np.linspace(0,n)\n",
    "    timee=np.linspace(0,np.abs(time_measure(n)[5]))\n",
    "\n",
    "    plt.plot(xb,timeb, 'C4.',label='QueueBaB')\n",
    "    plt.plot(xe,timee, 'C5.', label='QueueBaE')\n",
    "    plt.xlabel('Number of elements')\n",
    "    plt.ylabel('Time')\n",
    "    plt.title(\"Mean of enqueue and dequeue\")\n",
    "    \n",
    "    plt.legend()\n",
    "    plt.grid()\n",
    "    plt.show()"
   ]
  },
  {
   "cell_type": "code",
   "execution_count": 36,
   "metadata": {},
   "outputs": [
    {
     "data": {
      "image/png": "[encoded data removed]",
      "text/plain": [
       "<Figure size 432x288 with 1 Axes>"
      ]
     },
     "metadata": {
      "needs_background": "light"
     },
     "output_type": "display_data"
    }
   ],
   "source": [
    "compare_mean(100000)"
   ]
  },
  {
   "cell_type": "markdown",
   "metadata": {},
   "source": [
    "Teraz wykonamy takie same operacje i obliczenia, jak wyżej tylko na stringu."
   ]
  },
  {
   "cell_type": "code",
   "execution_count": 40,
   "metadata": {},
   "outputs": [],
   "source": [
    "def open_txt(filename: str):\n",
    "    \"\"\"\n",
    "    Funkcja otwiera i odczytuje plik .txt\n",
    "    \n",
    "    param filename: nazwa pliku txt\n",
    "    return: listę wyrazów i znaków zawartych w pliku filename\n",
    "    \"\"\"\n",
    "    f=open(filename,\"r\", encoding=\"utf-8\")\n",
    "    file=f.read()\n",
    "    file=file.split()\n",
    "    return file"
   ]
  },
  {
   "cell_type": "code",
   "execution_count": 50,
   "metadata": {},
   "outputs": [
    {
     "data": {
      "text/plain": [
       "97440"
      ]
     },
     "execution_count": 50,
     "metadata": {},
     "output_type": "execute_result"
    }
   ],
   "source": [
    "len(open_txt(\"historyjka.txt\")*140)"
   ]
  },
  {
   "cell_type": "code",
   "execution_count": 48,
   "metadata": {},
   "outputs": [],
   "source": [
    "def measure_time_str(filename: str):\n",
    "    \"\"\"\n",
    "    Funkcja mierzy czas dodawania n elementów typu str do kolejek QueueBab i QueueBaE oraz czas usuwania n elementów z kolejek; liczy\n",
    "    średnią ilość czasu z dodawania i usuwania elementów z kolejek.\n",
    "    \n",
    "    param n: liczba elementów do dodania i usunięcia z list\n",
    "    return: zwraca krotkę z czasem: dodawania do kolejki BaB, dodawania do kolejki BaE, usuwania z BaB, usuwania z BaE, średnia\n",
    "    czasów dla BaB, średnia czasów dla BaE\n",
    "    \"\"\"\n",
    "    list_of_str=open_txt(filename)\n",
    "    list_of_str=list_of_str*140 #aby rząd badanych elementów był taki sam jak rząd na liczbach\n",
    "    BaB=QueueBaB()\n",
    "    BaE=QueueBaE()\n",
    "    \n",
    "    startB1=time.time()\n",
    "    for i in range(0,len(list_of_str)):\n",
    "        BaB.enqueue(list_of_str[i])\n",
    "    endB1=time.time()\n",
    "    \n",
    "    startE1=time.time()\n",
    "    for i in range(0,len(list_of_str)):\n",
    "        BaE.enqueue(list_of_str[i])\n",
    "    endE1=time.time()\n",
    "    \n",
    "    startB2=time.time()\n",
    "    for _ in range(0,len(list_of_str)):\n",
    "        BaB.dequeue()\n",
    "    endB2= time.time()\n",
    "    \n",
    "    startE2=time.time()\n",
    "    for _ in range(0,len(list_of_str)):\n",
    "        BaE.dequeue()\n",
    "    endE2=time.time()\n",
    "    \n",
    "    #średnia czasów z dodawania i usuwania z BaB i BaE\n",
    "    sr_bab=(endB1-startB1+endE1-startE1)/2\n",
    "    sr_bae=(endB2-startB2+endE2-startE2)/2\n",
    "    \n",
    "    return endB1-startB1, endB2-startB2,endE1-startE1,endE2-startE2, sr_bab, sr_bae"
   ]
  },
  {
   "cell_type": "code",
   "execution_count": 49,
   "metadata": {},
   "outputs": [
    {
     "data": {
      "text/plain": [
       "(0.04001450538635254,\n",
       " 1.7591474056243896,\n",
       " 3.186237096786499,\n",
       " 0.030988454818725586,\n",
       " 1.6131258010864258,\n",
       " 0.8950679302215576)"
      ]
     },
     "execution_count": 49,
     "metadata": {},
     "output_type": "execute_result"
    }
   ],
   "source": [
    "measure_time_str('historyjka.txt')"
   ]
  },
  {
   "cell_type": "code",
   "execution_count": 51,
   "metadata": {},
   "outputs": [],
   "source": [
    "def compare_enqueue_str(filename: str):\n",
    "    \"\"\"\n",
    "    Funkcja rysuje wykresy czasu trwania dodawania n elementów typu str do list QueueBaB i QueueBaE.\n",
    "    \n",
    "    param n: ilość elementów dodawanych do list\n",
    "    \"\"\"\n",
    "    file_txt=open_txt(filename)\n",
    "    \n",
    "    xb=np.linspace(0,len(file_txt))\n",
    "    timeb=np.linspace(0,measure_time_str(filename)[0])\n",
    "    \n",
    "    xe=np.linspace(0,len(file_txt))\n",
    "    timee=np.linspace(0,measure_time_str(filename)[1])\n",
    "    \n",
    "    plt.plot(xb,timeb, 'C4.',label='QueueBaB')\n",
    "    plt.plot(xe,timee, 'C5.', label='QueueBaE')\n",
    "    plt.xlabel('Number of words')\n",
    "    plt.ylabel('Time')\n",
    "    plt.title(\"Enqueue\")\n",
    "    \n",
    "    plt.legend()\n",
    "    plt.grid()\n",
    "    plt.show()\n",
    "    \n",
    "def compare_dequeue_str(filename: str):\n",
    "    \"\"\"\n",
    "    Funkcja rysuje wykresy czasu trwania usuwania n elementów typu str do list QueueBaB i QueueBaE.\n",
    "    \n",
    "    param n: ilość elementów usuwanych z list\n",
    "    \"\"\"\n",
    "    file_txt=open_txt(filename)\n",
    "    \n",
    "    xb=np.linspace(0,len(file_txt))\n",
    "    timeb=np.linspace(0,measure_time_str(filename)[2])\n",
    "    \n",
    "    xe=np.linspace(0,len(file_txt))\n",
    "    timee=np.linspace(0,measure_time_str(filename)[3])\n",
    "    \n",
    "    plt.plot(xb,timeb, 'C4.',label='QueueBaB')\n",
    "    plt.plot(xe,timee, 'C5.', label='QueueBaE')\n",
    "    plt.xlabel('Number of words')\n",
    "    plt.ylabel('Time')\n",
    "    plt.title(\"Dequeue\")\n",
    "    \n",
    "\n",
    "    plt.legend()\n",
    "    plt.grid()\n",
    "    plt.show()\n",
    "    "
   ]
  },
  {
   "cell_type": "code",
   "execution_count": 52,
   "metadata": {},
   "outputs": [
    {
     "data": {
      "image/png": "[encoded data removed]",
      "text/plain": [
       "<Figure size 432x288 with 1 Axes>"
      ]
     },
     "metadata": {
      "needs_background": "light"
     },
     "output_type": "display_data"
    },
    {
     "data": {
      "image/png": "[encoded data removed]",
      "text/plain": [
       "<Figure size 432x288 with 1 Axes>"
      ]
     },
     "metadata": {
      "needs_background": "light"
     },
     "output_type": "display_data"
    }
   ],
   "source": [
    "compare_enqueue_str('historyjka.txt')\n",
    "compare_dequeue_str('historyjka.txt')"
   ]
  },
  {
   "cell_type": "markdown",
   "metadata": {},
   "source": [
    "### Wnioski:\n",
    "- Typ dodawanych agrumentów do kolejek nie ma znaczenia dla czasu trwania obu programów. Wykresy zachowują się tak samo niezależnie od dodawanych do nich typów;\n",
    "- Operacja *wstaiania* elementu do kolejki jest wydajniejsza w przypadku kolejki *QueueBaB*, wynika to z faktu, iż jest ona rzędu O(1). Dla kolejki QueueBaE jest to operacja rzędu O(n);\n",
    "- Dla *usuwania* elementów z listy wydajniejsza jest druga kolejka *QueueBaE*, gdzie operacja jest rzędu O(1), w momencie gdy dla kolejki QueueBaB jest ona rzędu O(n);\n",
    "- Biorąc pod uwagę średnią ilość czasu do wstawienia i ściągnięcia obiektów z listy, wydajniejsza okazuje się być kolejka *QueueBaE*."
   ]
  },
  {
   "cell_type": "markdown",
   "metadata": {},
   "source": [
    "## <span style=\"color:#D47FAC;\">TASK 3</span> "
   ]
  },
  {
   "cell_type": "markdown",
   "metadata": {},
   "source": [
    "Wyobraźmy sobie, że pewien hotel oferuje dla swoich gości transport z lotniska. Celem symulacji jest odpowiedź na \n",
    "pytanie ile autobusów powinno zostać podstawionych w danych odstępach czasu, aby przetransportować ludzi z lotniska \n",
    "do hotelu. Wiemy ile osób pojawia się na przystanku w ciągu minuty, jak dużo osób jest w stanie pomieścić nasz autobus\n",
    "oraz jaka jest minimalna ilość osób, aby autobus został na daną godzinę podstawiony.\n",
    "\n",
    "##### Założenia:\n",
    "- autobusy nie zatrzymują się na żadnych przystankach, na trasie nikt się nie dosiada\n",
    "- autobusy kursują na tej samej trasie\n",
    "- minimalnie musi uzbierać się 1/3 pojemności autobusu, aby zabrać czekające osoby do hotelu\n",
    "- osoby które nie zmieściły się do autobusów na daną godzinę muszą poczekać w kolejce na kolejny kurs\n",
    "- liczba autobusów kursująca w ustalonym okresie czasu jest zapisywana i przechowywana na stosie \n",
    "- w ciągu każdej minuty w ciągu doby może się pojawić osoba na przystanku\n",
    "\n",
    "##### Funkcjonalność modelu\n",
    "Możemy modyfikować:\n",
    "- pojemnością autobusu\n",
    "- częstotliwością pojawiania się autobusu na przystanku\n",
    "- maksymalną ilością osób pojawiającą się w danej minucie na przystanku\n",
    "\n",
    "\n",
    "Na potrzeby symulacji liczba osób pojawiająca się w danej minucie jest losowana z określanego zakresu.\n"
   ]
  },
  {
   "cell_type": "code",
   "execution_count": 18,
   "metadata": {},
   "outputs": [],
   "source": [
    "from math import floor\n",
    "from L4_ZAD1 import QueueBaB\n",
    "from L4_ZAD6 import StackUsingUL\n",
    "from random import randint\n",
    "\n",
    "\n",
    "class Bus():\n",
    "    def __init__(self, capacity=54, interval=1):\n",
    "        \"\"\"\n",
    "        @param capacity: max amount of passengers\n",
    "        @param interval: number of 30-minutes periods\n",
    "        \"\"\"\n",
    "        self.capacity = capacity\n",
    "        self.minimum = capacity/3\n",
    "        self.interval = interval\n",
    "\n",
    "\n",
    "def simulation(capacity, interval=1, max_per_minute=5):\n",
    "    \"\"\"\n",
    "    Performs a simulation how much buses is needed to transport a group of people.\n",
    "    Contains list of people appearing at the bus stop per every minute.\n",
    "    \"\"\"\n",
    "    bus = Bus()\n",
    "    bus.capacity = capacity\n",
    "    bus.interval = interval\n",
    "\n",
    "    list_of_people = [randint(0, max_per_minute) for _ in range(1440)]\n",
    "\n",
    "    waiting = QueueBaB()\n",
    "    bus_plan = StackUsingUL()\n",
    "\n",
    "    periods = [list_of_people[i:30*interval+i] for i in range(0, len(list_of_people), 30*interval)]\n",
    "\n",
    "    for n in periods:\n",
    "        group = sum(n)\n",
    "        if not waiting.is_empty():\n",
    "            tmp = waiting.dequeue()\n",
    "        else:\n",
    "            tmp = 0\n",
    "\n",
    "        amount_of_buses = floor((group + tmp)/capacity)\n",
    "        others = group % capacity\n",
    "        if others >= bus.minimum:\n",
    "            amount_of_buses += 1\n",
    "        else:\n",
    "            waiting.enqueue(others)\n",
    "\n",
    "        bus_plan.push(amount_of_buses)\n",
    "\n",
    "    return bus_plan"
   ]
  },
  {
   "cell_type": "code",
   "execution_count": 19,
   "metadata": {},
   "outputs": [
    {
     "name": "stdout",
     "output_type": "stream",
     "text": [
      "elements in the list are [6, 6, 5, 7, 6, 6, 6, 5, 6, 6, 6, 6]\n",
      "elements in the list are [1, 1, 1, 2, 1, 2, 2, 2, 1, 1, 2, 1, 2, 2, 2, 2, 1, 2, 2, 1, 1, 1, 2, 2, 2, 1, 2, 2, 2, 1, 1, 2, 2, 2, 1, 1, 1, 2, 2, 3, 1, 2, 1, 1, 2, 2, 2, 2]\n"
     ]
    }
   ],
   "source": [
    "print(simulation(54, 4))\n",
    "print(simulation(20, 1, 2))"
   ]
  },
  {
   "cell_type": "markdown",
   "metadata": {},
   "source": [
    "## <span style=\"color:#D47FAC;\">TASK 4</span> "
   ]
  },
  {
   "cell_type": "code",
   "execution_count": 13,
   "metadata": {},
   "outputs": [],
   "source": [
    "class Stack():\n",
    "    \"\"\"\n",
    "    Klasa implementująca stos używając pythonowych list. \n",
    "    \"\"\"\n",
    "\n",
    "    def __init__(self):\n",
    "        self.list_of_items = []\n",
    "        \n",
    "    def push(self, item):\n",
    "        \"\"\"\n",
    "        Metoda służąca do dodawania obiektu do stosu.\n",
    "        Pobiera jako argument obiekt który ma być dodany.\n",
    "        Niczego nie zwraca.\n",
    "        \"\"\"\n",
    "        self.list_of_items.append(item)\n",
    "    \n",
    "    def peek(self):\n",
    "        \"\"\"\n",
    "        Metoda służąca do podawania jaki obiekt znajduje się na szczycie stosu.\n",
    "        Nie pobiera argumentów.\n",
    "        Zwraca obiekt znajdujący się na szczycie stosu, ale go stamtąd nie ściąga.\n",
    "        \"\"\"\n",
    "        return self.list_of_items[len(self.list_of_items)-1]\n",
    "        \n",
    "    def pop(self):\n",
    "        \"\"\"\n",
    "        Metoda służąca do ściągania obiektów ze stosu.\n",
    "        Nie pobiera argumentów.\n",
    "        Zwraca ściągnięty obiekt.\n",
    "        \"\"\"\n",
    "        return self.list_of_items.pop()\n",
    "    \n",
    "    def is_empty(self):\n",
    "        \"\"\"\n",
    "        Metoda służąca do sprawdzania, czy stos jest pusty.\n",
    "        Nie pobiera argumentów.\n",
    "        Zwraca True jeśli stos jest pusty lub False gdy nie jest.\n",
    "        \"\"\"\n",
    "        return self.list_of_items==[]\n",
    "        \n",
    "    def size(self):\n",
    "        \"\"\"\n",
    "        Metoda służąca do określania wielkości stosu.\n",
    "        Nie pobiera argumentów.\n",
    "        Zwraca liczbę obiektów w stosie.\n",
    "        \"\"\"\n",
    "        return len(self.list_of_items)\n",
    "\n",
    "    def __str__(self):\n",
    "        \"\"\"\n",
    "        Medota odpowiadająca za nieformalną reprezentacje kolejki.\n",
    "        Nie pobiera argumentów.\n",
    "        \"\"\"\n",
    "        return str(self.list_of_items) "
   ]
  },
  {
   "cell_type": "markdown",
   "metadata": {},
   "source": [
    "Funkcja **checking_HTML_correctness** sprawdza, poprawność składni dokumentu HTML. \n",
    "Funkcja używa 2 stosów. Jeden **stack_brackets** ma za zadanie sprawdzić czy każdy nawias *<* jest dopasowany do *>*. Drugi stos **stack_tags** sprawdza, czy każdy znacznik wymagający domknięcia, posiada je."
   ]
  },
  {
   "cell_type": "code",
   "execution_count": 56,
   "metadata": {},
   "outputs": [],
   "source": [
    "def checking_HTML_correctness(filename: str):\n",
    "    \"\"\"\n",
    "    Funkcja ma za zadanie sprawdzać poprawność składni dokumentu HTML.\n",
    "    Jako argument przyjmuje nazwę pliku, który ma sprawdzić.\n",
    "    Zwraca True jeśli dokument jest poprawny składniowo i False jeśli nie jest.\n",
    "    \"\"\"\n",
    "\n",
    "    file_obj = open(filename, 'r')\n",
    "    text = list(file_obj.read())\n",
    "    ignore=['!DOCTYPE','area','base','br','br','col','command','embed','hr','img','input','keygen','link','meta','param','source','track','wbr','!--']\n",
    "    stack_tags=Stack()\n",
    "    stack_brackets=Stack()\n",
    "\n",
    "    for i in range(len(text)):\n",
    "        if text[i]==\"<\":\n",
    "            stack_brackets.push(text[i])\n",
    "            i+=1\n",
    "\n",
    "            tag='' #dodajemy wszystko to co znajduje się pomiędzy '<' i '>'\n",
    "            while text[i] != '>':\n",
    "                tag +=text[i]\n",
    "                i+=1\n",
    "                \n",
    "            tag= tag.split(' ')[0] #ignorujemy wszystkie atrybuty\n",
    "            if stack_tags.is_empty() and (tag not in ignore):\n",
    "                stack_tags.push(tag)\n",
    "            elif tag in ignore:\n",
    "                pass\n",
    "            elif  stack_tags.is_empty()==False and (tag not in ignore):\n",
    "                if tag == '/'+ stack_tags.peek():\n",
    "                    stack_tags.pop()\n",
    "                else:\n",
    "                    stack_tags.push(tag)\n",
    "        \n",
    "        elif text[i]==\">\":\n",
    "            if stack_brackets.is_empty():\n",
    "                return False\n",
    "            elif stack_brackets.peek()==\"<\":\n",
    "                stack_brackets.pop()\n",
    "\n",
    "    if stack_brackets.is_empty() and stack_tags.is_empty():\n",
    "        return True\n",
    "    else:\n",
    "        return False"
   ]
  },
  {
   "cell_type": "markdown",
   "metadata": {},
   "source": [
    "## <span style=\"color:#D47FAC;\">TASK 5</span> "
   ]
  },
  {
   "cell_type": "code",
   "execution_count": 11,
   "metadata": {},
   "outputs": [],
   "source": [
    "class Node:\n",
    "\n",
    "    def __init__(self, init_data):\n",
    "        self.data = init_data\n",
    "        self.next = None\n",
    "\n",
    "    def get_data(self):\n",
    "        return self.data\n",
    "\n",
    "    def get_next(self):\n",
    "        return self.next\n",
    "\n",
    "    def set_data(self, new_data):\n",
    "        self.data = new_data\n",
    "\n",
    "    def set_next(self, new_next):\n",
    "        self.next = new_next\n",
    "\n",
    "\n",
    "class UnorderedList(object):\n",
    "\n",
    "    def __init__(self):\n",
    "        self.head = None\n",
    "\n",
    "    def is_empty(self):\n",
    "        return self.head == None\n",
    "\n",
    "    def __str__(self):\n",
    "        current = self.head\n",
    "        li = []\n",
    "        while current != None:\n",
    "            li.append(current.get_data())\n",
    "            current = current.get_next()\n",
    "        s = (\"[\" + ', '.join(['{}'] * len(li)) + \"]\")\n",
    "        return s.format(*li)\n",
    "\n",
    "    def add(self, item):\n",
    "        temp = Node(item)\n",
    "        temp.set_next(self.head)\n",
    "        self.head = temp\n",
    "\n",
    "    def size(self):\n",
    "        current = self.head\n",
    "        count = 0\n",
    "        while current != None:\n",
    "            count = count + 1\n",
    "            current = current.get_next()\n",
    "        return count\n",
    "\n",
    "    def search(self, item):\n",
    "        current = self.head\n",
    "        found = False\n",
    "        while current != None and not found:\n",
    "            if current.get_data() == item:\n",
    "                found = True\n",
    "            else:\n",
    "                current = current.get_next()\n",
    "        return found\n",
    "\n",
    "    def remove(self, item):\n",
    "        current = self.head\n",
    "        previous = None\n",
    "        found = False\n",
    "        if self.is_empty():\n",
    "            print(\"List already empty\")\n",
    "            return\n",
    "        while not found:\n",
    "            if current.getData() == item:\n",
    "                found = True\n",
    "            else:\n",
    "                previous = current\n",
    "                current = current.getNext()\n",
    "                if current == None:\n",
    "                    print(\"Item not found\")\n",
    "                    return\n",
    "\n",
    "        if previous == None:  # jeśli usuwamy pierwszy element\n",
    "            self.head = current.getNext()\n",
    "        else:\n",
    "            previous.setNext(current.getNext())\n",
    "\n",
    "            #########################################################################################\n",
    "    def append(self, item):\n",
    "        \"\"\"\n",
    "        Metoda dodająca element na koniec listy.\n",
    "        Przyjmuje jako argument obiekt, który ma zostać dodany.\n",
    "        Niczego nie zwraca.\n",
    "        \"\"\"\n",
    "        current = self.head\n",
    "        previous = None\n",
    "        temp = Node(item)\n",
    "\n",
    "        if not self.is_empty():\n",
    "\n",
    "            while current != None:\n",
    "                previous = current\n",
    "                current = current.get_next()\n",
    "\n",
    "            previous.set_next(temp)\n",
    "\n",
    "        else:\n",
    "            self.add(item)\n",
    "\n",
    "    def index(self, item):\n",
    "        \"\"\"\n",
    "        Metoda podaje miejsce na liście,\n",
    "        na którym znajduje się określony element -\n",
    "        element pod self.head ma indeks 0.\n",
    "        Przyjmuje jako argument element,\n",
    "        którego pozycja ma zostać określona.\n",
    "        Zwraca pozycję elementu na liście lub None w przypadku,\n",
    "        gdy wskazanego elementu na liście nie ma.\n",
    "        \"\"\"\n",
    "        index = 0\n",
    "        current = self.head\n",
    "        found = False\n",
    "\n",
    "        while current != None and not found:\n",
    "            if current.get_data() == item:\n",
    "                found = True\n",
    "                return index\n",
    "            else:\n",
    "                current = current.get_next()\n",
    "                index += 1\n",
    "\n",
    "    def insert(self, pos, item):\n",
    "        \"\"\"\n",
    "        Metoda umieszcza na wskazanej pozycji zadany element.\n",
    "        Przyjmuje jako argumenty pozycję,\n",
    "        na której ma umiescić element oraz ten element.\n",
    "        Niczego nie zwraca.\n",
    "        Rzuca wyjątkiem IndexError w przypadku,\n",
    "        gdy nie jest możliwe umieszczenie elementu\n",
    "        na zadanej pozycji (np. na 5. miejsce w 3-elementowej liście).\n",
    "        \"\"\"\n",
    "        current = self.head\n",
    "        previous = None\n",
    "        temp = Node(item)\n",
    "        index = 0\n",
    "\n",
    "        if pos > self.size() or pos < -self.size() - 1:\n",
    "            raise IndexError(\"Wrong position!\")\n",
    "\n",
    "        else:\n",
    "            if pos < 0:\n",
    "                pos += self.size() + 1\n",
    "\n",
    "            if pos == 0:\n",
    "                self.add(item)\n",
    "\n",
    "            else:\n",
    "                while current != None and index < pos:\n",
    "                    previous = current\n",
    "                    current = current.get_next()\n",
    "                    index += 1\n",
    "\n",
    "                previous.set_next(temp)\n",
    "                temp.set_next(current)\n",
    "\n",
    "    def pop(self, pos=-1):\n",
    "        \"\"\"\n",
    "        Metoda usuwa z listy element na zadaniej pozycji.\n",
    "        Przyjmuje jako opcjonalny argument pozycję,\n",
    "        z której ma zostać usunięty element.\n",
    "        Jeśli pozycja nie zostanie podana,\n",
    "        metoda usuwa (odłącza) ostatni element z listy.\n",
    "        Zwraca wartość usuniętego elementu.\n",
    "        Rzuca wyjątkiem IndexError w przypadku,\n",
    "        gdy usunięcie elementu z danej pozycji jest niemożliwe.\n",
    "        \"\"\"\n",
    "        current = self.head\n",
    "        previous = None\n",
    "        index = 0\n",
    "\n",
    "        if self.is_empty():\n",
    "            raise IndexError(\"Data structure already empty!\")\n",
    "        elif pos >= self.size() or pos < -self.size():\n",
    "            raise IndexError(\"Wrong position!\")\n",
    "\n",
    "        else:\n",
    "            if pos < 0:\n",
    "                pos += self.size()\n",
    "\n",
    "            if self.size() == 1:\n",
    "                self.head = None\n",
    "                return current.get_data()\n",
    "            else:\n",
    "                while current != None and index < pos:\n",
    "                    previous = current\n",
    "                    current = current.get_next()\n",
    "                    index += 1\n",
    "\n",
    "                if previous == None:  # jeśli usuwamy pierwszy element\n",
    "                    self.head = current.get_next()\n",
    "                    return current.get_data()\n",
    "                else:\n",
    "                    previous.set_next(current.get_next())\n",
    "                    return current.get_data()\n",
    "\n",
    "    def peek(self):\n",
    "        \"\"\"\n",
    "        Metoda podaje wartość elementu na końcu listy\n",
    "        nie ściągajac go.\n",
    "        Nie pobiera argumentów.\n",
    "        Jeśli lsta jest pusta, rzuca wyjątkiem IndexError.\n",
    "        \"\"\"\n",
    "        current = self.head\n",
    "        previous = None\n",
    "\n",
    "        if not self.is_empty():\n",
    "\n",
    "            while current != None:\n",
    "                previous = current\n",
    "                current = current.get_next()\n",
    "\n",
    "            return previous.get_data()\n",
    "\n",
    "        else:\n",
    "            raise IndexError(\"Data structure is empty!\")\n"
   ]
  },
  {
   "cell_type": "code",
   "execution_count": 28,
   "metadata": {},
   "outputs": [],
   "source": [
    "mylist = UnorderedList()"
   ]
  },
  {
   "cell_type": "code",
   "execution_count": 29,
   "metadata": {},
   "outputs": [],
   "source": [
    "mylist.add(5)\n",
    "mylist.insert(1, 0)\n",
    "mylist.append(4)"
   ]
  },
  {
   "cell_type": "code",
   "execution_count": 30,
   "metadata": {},
   "outputs": [
    {
     "name": "stdout",
     "output_type": "stream",
     "text": [
      "[5, 0, 4]\n"
     ]
    }
   ],
   "source": [
    "print(mylist)"
   ]
  },
  {
   "cell_type": "code",
   "execution_count": 31,
   "metadata": {},
   "outputs": [
    {
     "data": {
      "text/plain": [
       "4"
      ]
     },
     "execution_count": 31,
     "metadata": {},
     "output_type": "execute_result"
    }
   ],
   "source": [
    "mylist.pop()"
   ]
  },
  {
   "cell_type": "code",
   "execution_count": 32,
   "metadata": {},
   "outputs": [
    {
     "ename": "IndexError",
     "evalue": "Wrong position!",
     "output_type": "error",
     "traceback": [
      "\u001b[1;31m---------------------------------------------------------------------------\u001b[0m",
      "\u001b[1;31mIndexError\u001b[0m                                Traceback (most recent call last)",
      "\u001b[1;32m~\\AppData\\Local\\Temp/ipykernel_15496/782748460.py\u001b[0m in \u001b[0;36m<module>\u001b[1;34m\u001b[0m\n\u001b[1;32m----> 1\u001b[1;33m \u001b[0mmylist\u001b[0m\u001b[1;33m.\u001b[0m\u001b[0mpop\u001b[0m\u001b[1;33m(\u001b[0m\u001b[1;33m-\u001b[0m\u001b[1;36m5\u001b[0m\u001b[1;33m)\u001b[0m\u001b[1;33m\u001b[0m\u001b[1;33m\u001b[0m\u001b[0m\n\u001b[0m",
      "\u001b[1;32m~\\AppData\\Local\\Temp/ipykernel_15496/2142127552.py\u001b[0m in \u001b[0;36mpop\u001b[1;34m(self, pos)\u001b[0m\n\u001b[0;32m    175\u001b[0m             \u001b[1;32mraise\u001b[0m \u001b[0mIndexError\u001b[0m\u001b[1;33m(\u001b[0m\u001b[1;34m\"Data structure already empty!\"\u001b[0m\u001b[1;33m)\u001b[0m\u001b[1;33m\u001b[0m\u001b[1;33m\u001b[0m\u001b[0m\n\u001b[0;32m    176\u001b[0m         \u001b[1;32melif\u001b[0m \u001b[0mpos\u001b[0m \u001b[1;33m>=\u001b[0m \u001b[0mself\u001b[0m\u001b[1;33m.\u001b[0m\u001b[0msize\u001b[0m\u001b[1;33m(\u001b[0m\u001b[1;33m)\u001b[0m \u001b[1;32mor\u001b[0m \u001b[0mpos\u001b[0m \u001b[1;33m<\u001b[0m \u001b[1;33m-\u001b[0m\u001b[0mself\u001b[0m\u001b[1;33m.\u001b[0m\u001b[0msize\u001b[0m\u001b[1;33m(\u001b[0m\u001b[1;33m)\u001b[0m\u001b[1;33m:\u001b[0m\u001b[1;33m\u001b[0m\u001b[1;33m\u001b[0m\u001b[0m\n\u001b[1;32m--> 177\u001b[1;33m             \u001b[1;32mraise\u001b[0m \u001b[0mIndexError\u001b[0m\u001b[1;33m(\u001b[0m\u001b[1;34m\"Wrong position!\"\u001b[0m\u001b[1;33m)\u001b[0m\u001b[1;33m\u001b[0m\u001b[1;33m\u001b[0m\u001b[0m\n\u001b[0m\u001b[0;32m    178\u001b[0m \u001b[1;33m\u001b[0m\u001b[0m\n\u001b[0;32m    179\u001b[0m         \u001b[1;32melse\u001b[0m\u001b[1;33m:\u001b[0m\u001b[1;33m\u001b[0m\u001b[1;33m\u001b[0m\u001b[0m\n",
      "\u001b[1;31mIndexError\u001b[0m: Wrong position!"
     ]
    }
   ],
   "source": [
    "mylist.pop(-5)"
   ]
  },
  {
   "cell_type": "markdown",
   "metadata": {},
   "source": [
    "## <span style=\"color:#D47FAC;\">TASK 6</span> "
   ]
  },
  {
   "cell_type": "code",
   "execution_count": 16,
   "metadata": {},
   "outputs": [],
   "source": [
    "class StackUsingUL(object):\n",
    "    def __init__(self):\n",
    "        self.items = UnorderedList()\n",
    "\n",
    "    def is_empty(self):\n",
    "        \"\"\"\n",
    "        Metoda sprawdzajacą, czy stos jest pusty.\n",
    "        Nie pobiera argumentów.\n",
    "        Zwraca True lub False.\n",
    "        \"\"\"\n",
    "        return self.items.is_empty()\n",
    "\n",
    "    def push(self, item):\n",
    "        \"\"\"\n",
    "        Metoda umieszcza nowy element na stosie.\n",
    "        Pobiera element, który ma zostać umieszczony.\n",
    "        Niczego nie zwraca.\n",
    "        \"\"\"\n",
    "        self.items.append(item)\n",
    "\n",
    "    def pop(self):\n",
    "        \"\"\"\n",
    "        Metoda ściąga element ze stosu.\n",
    "        Nie przyjmuje żadnych argumentów.\n",
    "        Zwraca ściągnięty element.\n",
    "        Jeśli stos jest pusty, rzuca wyjątkiem IndexError.\n",
    "        \"\"\"\n",
    "        return self.items.pop()\n",
    "\n",
    "    def peek(self):\n",
    "        \"\"\"\n",
    "        Metoda podaje wartość elementu na wierzchu stosu\n",
    "        nie ściągajac go.\n",
    "        Nie pobiera argumentów.\n",
    "        Zwraca wierzchni element stosu.\n",
    "        Jeśli stos jest pusty, rzuca wyjątkiem IndexError.\n",
    "        \"\"\"\n",
    "        return self.items.peek()\n",
    "\n",
    "    def size(self):\n",
    "        \"\"\"\n",
    "        Metoda zwraca liczę elementów na stosie.\n",
    "        Nie pobiera argumentów.\n",
    "        Zwraca liczbę elementów na stosie.\n",
    "        \"\"\"\n",
    "        return self.items.size()\n",
    "\n",
    "    def __str__(self):\n",
    "        return str(self.items)\n"
   ]
  },
  {
   "cell_type": "markdown",
   "metadata": {},
   "source": [
    "## <span style=\"color:#D47FAC;\">TASK 7</span> "
   ]
  },
  {
   "cell_type": "code",
   "execution_count": 17,
   "metadata": {},
   "outputs": [],
   "source": [
    "class DequeueUsingUL(object):\n",
    "\n",
    "    def __init__(self):\n",
    "        self.items = UnorderedList()\n",
    "\n",
    "    def is_empty(self):\n",
    "        \"\"\"\n",
    "        Metoda sprawdzajacą, czy kolejka jest pusta.\n",
    "        Nie pobiera argumentów.\n",
    "        Zwraca True lub False.\n",
    "        \"\"\"\n",
    "        return self.items.is_empty()\n",
    "\n",
    "    def add_left(self, item):\n",
    "        \"\"\"\n",
    "        Metoda dodaje element do kolejki z lewej strony.\n",
    "        Pobiera jako argument element, który ma zostać dodany.\n",
    "        Niczego nie zwraca.\n",
    "        \"\"\"\n",
    "        self.items.add(item)\n",
    "\n",
    "    def add_right(self, item):\n",
    "        \"\"\"\n",
    "        Metoda dodaje element do kolejki z prawej strony.\n",
    "        Pobiera jako argument element, który ma zostać dodany.\n",
    "        Niczego nie zwraca.\n",
    "        \"\"\"\n",
    "        self.items.append(item)\n",
    "\n",
    "    def remove_left(self):\n",
    "        \"\"\"\n",
    "        Metoda usuwa element z kolejki z lewej strony.\n",
    "        Nie pobiera argumentów.\n",
    "        Zwraca usuwany element.\n",
    "        W przypadku pustej kolejku rzuca wyjątkiem IndexError\n",
    "        \"\"\"\n",
    "        return self.items.pop(0)\n",
    "\n",
    "    def remove_right(self):\n",
    "        \"\"\"\n",
    "        Metoda usuwa element z kolejki z prawej strony.\n",
    "        Nie pobiera argumentów.\n",
    "        Zwraca usuwany element.\n",
    "        W przypadku pustej kolejku rzuca wyjątkiem IndexError\n",
    "        \"\"\"\n",
    "        return self.items.pop()\n",
    "\n",
    "    def size(self):\n",
    "        \"\"\"\n",
    "        Metoda zwraca liczę elementów na w kolejce.\n",
    "        Nie pobiera argumentów.\n",
    "        Zwraca liczbę elementów na w kolejce.\n",
    "        \"\"\"\n",
    "        return self.items.size()"
   ]
  },
  {
   "cell_type": "markdown",
   "metadata": {},
   "source": [
    "## <span style=\"color:#D47FAC;\">TASK 8</span> "
   ]
  },
  {
   "cell_type": "code",
   "execution_count": 39,
   "metadata": {},
   "outputs": [],
   "source": [
    "mylist = UnorderedList()\n",
    "pylist = []"
   ]
  },
  {
   "cell_type": "markdown",
   "metadata": {},
   "source": [
    "#### Dodawanie elementów do listy na początku i na końcu"
   ]
  },
  {
   "cell_type": "code",
   "execution_count": 40,
   "metadata": {},
   "outputs": [],
   "source": [
    "def list_analysis(n):\n",
    "   \n",
    "    startml_1=time.time()\n",
    "    for i in range(n):\n",
    "        mylist.add(i)\n",
    "    endml_1= time.time()\n",
    "        \n",
    "    startpy_1=time.time()\n",
    "    for i in range(n):\n",
    "        pylist.insert(0, i)\n",
    "    endpy_1=time.time()\n",
    "    \n",
    "    startml_n=time.time()\n",
    "    for _ in range(n):\n",
    "        mylist.append(i)\n",
    "    endml_n= time.time()\n",
    "    \n",
    "    startpy_n=time.time()\n",
    "    for _ in range(n):\n",
    "        pylist.append(i)\n",
    "    endpy_n=time.time()\n",
    "    \n",
    "    #średnia czasów z dodawania i usuwania \n",
    "    #idk jak do dokończyć ;/\n",
    "    #sr_ml=(endB1-startB1+endE1-startE1)/2\n",
    "    #sr_py=(endB2-startB2+endE2-startE2)/2\n",
    "    \n",
    "    return endml_1-startml_1, endpy_1-startpy_1,endml_n-startml_n,endpy_n-startpy_n, #sr_ml, sr_py"
   ]
  },
  {
   "cell_type": "code",
   "execution_count": 41,
   "metadata": {},
   "outputs": [],
   "source": [
    "def add_first(n): #number of elements\n",
    "    \n",
    "    xb=np.linspace(0,n)\n",
    "    timeb=np.linspace(0,list_analysis(n)[0])\n",
    "    xe=np.linspace(0,n)\n",
    "    timee=np.linspace(0,list_analysis(n)[1])\n",
    "    \n",
    "\n",
    "    plt.plot(xb,timeb, 'C4.',label='UnorderedList')\n",
    "    plt.plot(xe,timee, 'C5.', label='Python list')\n",
    "    plt.xlabel('Number of elements')\n",
    "    plt.ylabel('Time')\n",
    "    plt.title(\"Adding to the first position\")\n",
    "\n",
    "    plt.legend()\n",
    "    plt.grid()\n",
    "    plt.show()"
   ]
  },
  {
   "cell_type": "code",
   "execution_count": 42,
   "metadata": {},
   "outputs": [
    {
     "data": {
      "image/png": "[encoded data removed]",
      "text/plain": [
       "<Figure size 432x288 with 1 Axes>"
      ]
     },
     "metadata": {
      "needs_background": "light"
     },
     "output_type": "display_data"
    }
   ],
   "source": [
    "add_first(10000)"
   ]
  },
  {
   "cell_type": "markdown",
   "metadata": {},
   "source": [
    "Zauważmy, że listy pythonowskie są szybsze jeśli chodzi o dodawanie elementów."
   ]
  },
  {
   "cell_type": "code",
   "execution_count": 43,
   "metadata": {},
   "outputs": [],
   "source": [
    "def add_last(n): #number of elements\n",
    "    \n",
    "    xb=np.linspace(0,n)\n",
    "    timeb=np.linspace(0,list_analysis(n)[2])\n",
    "    xe=np.linspace(0,n)\n",
    "    timee=np.linspace(0,list_analysis(n)[3])\n",
    "    \n",
    "\n",
    "    plt.plot(xb,timeb, 'C4.',label='UnorderedList')\n",
    "    plt.plot(xe,timee, 'C5.', label='Python list')\n",
    "    plt.xlabel('Number of elements')\n",
    "    plt.ylabel('Time')\n",
    "    plt.title(\"Adding to the last position\")\n",
    "    \n",
    "    #plt.plot(xe,timee, 'C2.', label='Python list')\n",
    "    #plt.xlabel('Number of elements')\n",
    "    #plt.ylabel('Time')\n",
    "    #plt.title(\"Adding to the last position\")\n",
    "    \n",
    "    \n",
    "    plt.legend()\n",
    "    plt.grid()\n",
    "    plt.show()"
   ]
  },
  {
   "cell_type": "code",
   "execution_count": 44,
   "metadata": {},
   "outputs": [
    {
     "data": {
      "image/png": "[encoded data removed]",
      "text/plain": [
       "<Figure size 432x288 with 1 Axes>"
      ]
     },
     "metadata": {
      "needs_background": "light"
     },
     "output_type": "display_data"
    }
   ],
   "source": [
    "add_last(10000)"
   ]
  },
  {
   "cell_type": "markdown",
   "metadata": {},
   "source": [
    "#### Analiza metody pop"
   ]
  },
  {
   "cell_type": "code",
   "execution_count": 45,
   "metadata": {},
   "outputs": [],
   "source": [
    "def pop_analysis(n):\n",
    "    \n",
    "    startml=time.time()\n",
    "    for i in range(n):\n",
    "        mylist.pop()\n",
    "    endml= time.time()\n",
    "        \n",
    "    startpy=time.time()\n",
    "    for i in range(n):\n",
    "        pylist.pop()\n",
    "    endpy=time.time()\n",
    "    \n",
    "    return endml-startml, endpy-startpy"
   ]
  },
  {
   "cell_type": "code",
   "execution_count": 46,
   "metadata": {},
   "outputs": [],
   "source": [
    "def pop_method(n): #number of elements\n",
    "    \n",
    "    xb=np.linspace(0,n)\n",
    "    timeb=np.linspace(0,pop_analysis(n)[0])\n",
    "    xe=np.linspace(0,n)\n",
    "    timee=np.linspace(0,pop_analysis(n)[1])\n",
    "    \n",
    "\n",
    "    plt.plot(xb,timeb, 'C1.',label='UnorderedList')\n",
    "    plt.xlabel('Number of elements')\n",
    "    plt.ylabel('Time')\n",
    "    plt.title(\"Using pop method\")\n",
    "    \n",
    "    plt.plot(xe,timee, 'C2.', label='Python list')\n",
    "    plt.xlabel('Number of elements')\n",
    "    plt.ylabel('Time')\n",
    "    plt.title(\"Using pop method\")\n",
    "    \n",
    "    \n",
    "    plt.legend()\n",
    "    plt.grid()\n",
    "    plt.show()"
   ]
  },
  {
   "cell_type": "code",
   "execution_count": 47,
   "metadata": {},
   "outputs": [
    {
     "data": {
      "image/png": "[encoded data removed]",
      "text/plain": [
       "<Figure size 432x288 with 1 Axes>"
      ]
     },
     "metadata": {
      "needs_background": "light"
     },
     "output_type": "display_data"
    }
   ],
   "source": [
    "pop_method(10)"
   ]
  },
  {
   "cell_type": "markdown",
   "metadata": {},
   "source": [
    "#### <span style=\"color:#D47FAC;\"> <center> Link to our code: https://github.com/maggszy/date_algorithm/blob/main/list4/lista4.ipynb </center> </span>"
   ]
  }
 ],
 "metadata": {
  "kernelspec": {
   "display_name": "Python 3 (ipykernel)",
   "language": "python",
   "name": "python3"
  },
  "language_info": {
   "codemirror_mode": {
    "name": "ipython",
    "version": 3
   },
   "file_extension": ".py",
   "mimetype": "text/x-python",
   "name": "python",
   "nbconvert_exporter": "python",
   "pygments_lexer": "ipython3",
   "version": "3.9.7"
  }
 },
 "nbformat": 4,
 "nbformat_minor": 4
}
