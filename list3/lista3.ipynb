{
 "cells": [
  {
   "cell_type": "markdown",
   "metadata": {},
   "source": [
    "zadanie 2"
   ]
  },
  {
   "cell_type": "code",
   "execution_count": 2,
   "metadata": {},
   "outputs": [],
   "source": [
    "import time"
   ]
  },
  {
   "cell_type": "code",
   "execution_count": 4,
   "metadata": {},
   "outputs": [],
   "source": [
    "def ordinary_polynomial_value_calc(coeff, arg):\n",
    "    \"\"\"\n",
    "    Calculate value of polynomial in a standart way\n",
    "    :param coeff: a list with coefficients of polynomial positioned from free term to the term of the highest degree\n",
    "    :param arg: the value of variable x in polynomial W(x)\n",
    "    :return: tuple with the value of polynomial and amout of executed multiplication and addition\n",
    "    \"\"\"\n",
    "    n=len(coeff)\n",
    "    count_add=0\n",
    "    count_mult=0\n",
    "    value=coeff[0]\n",
    "    for dg in range(1,n):\n",
    "        value=coeff[dg]*(arg**dg) + value\n",
    "        count_mult+=dg\n",
    "        count_add+=1\n",
    "    return value, count_mult, count_add\n",
    "  \n",
    "def smart_polynomial_value_calc(coeff, arg):\n",
    "    \"\"\"\n",
    "    Calculate value of polynomial using the Horner's algorithm\n",
    "    :param coeff: a list with coefficients of polynomial positioned from free term to the term of the highest degree\n",
    "    :param arg: the value of variable x in polynomial W(x)\n",
    "    :return: tuple with the value of polynomial and amout of executed multiplication and addition\n",
    "    \"\"\"\n",
    "    n=len(coeff)\n",
    "    coeff.reverse() \n",
    "    value=coeff[0]\n",
    "    count_mult=0\n",
    "    for dg in range(1,n): #dg=degree\n",
    "        value = value*arg + coeff[dg]\n",
    "        count_mult+=1\n",
    "    count_add=count_mult\n",
    "    return value, count_mult, count_add"
   ]
  },
  {
   "cell_type": "code",
   "execution_count": 6,
   "metadata": {},
   "outputs": [
    {
     "name": "stdout",
     "output_type": "stream",
     "text": [
      "(49, 3, 3)\n",
      "(49, 6, 3)\n"
     ]
    }
   ],
   "source": [
    "print(smart_polynomial_value_calc([1,2,3,4], 2))\n",
    "print(ordinary_polynomial_value_calc([1,2,3,4], 2))"
   ]
  },
  {
   "cell_type": "code",
   "execution_count": 8,
   "metadata": {},
   "outputs": [
    {
     "name": "stdout",
     "output_type": "stream",
     "text": [
      "(-70.75, 3, 3)\n",
      "(-70.75, 6, 3)\n"
     ]
    }
   ],
   "source": [
    "print(smart_polynomial_value_calc([20,5,-10,18], -1.5))\n",
    "print(ordinary_polynomial_value_calc([20,5,-10,18], -1.5))"
   ]
  },
  {
   "cell_type": "markdown",
   "metadata": {},
   "source": [
    "extra functionality of programs from ex2"
   ]
  },
  {
   "cell_type": "code",
   "execution_count": 9,
   "metadata": {},
   "outputs": [],
   "source": [
    "def ordinary_polynomial_value_calc_time(coeff, arg):\n",
    "    \"\"\"\n",
    "    Calculate value of polynomial in a standart way\n",
    "    :param coeff: a list with coefficients of polynomial positioned from free term to the term of the highest degree\n",
    "    :param arg: the value of variable x in polynomial W(x)\n",
    "    :return: tuple with the value of polynomial, amout of executed multiplication and addition and time needed to execute program\n",
    "    \"\"\"\n",
    "    start=time.time()\n",
    "    n=len(coeff)\n",
    "    count_add=0\n",
    "    count_mult=0\n",
    "    value=coeff[0]\n",
    "    for dg in range(1,n):\n",
    "        value=coeff[dg]*(arg**dg) + value\n",
    "        count_mult+=dg\n",
    "        count_add+=1\n",
    "    finish=time.time()\n",
    "    return value, count_mult, count_add, finish-start\n",
    "\n",
    "def smart_polynomial_value_calc_time(coeff, arg):\n",
    "    \"\"\"\n",
    "    Calculate value of polynomial using the Horner's algorithm\n",
    "    :param coeff: a list with coefficients of polynomial positioned from free term to the term of the highest degree\n",
    "    :param arg: the value of variable x in polynomial W(x)\n",
    "    :return: tuple with the value of polynomial, amout of executed multiplication and addition and time needed to execute program\n",
    "    \"\"\"\n",
    "    start=time.time()\n",
    "    n=len(coeff)\n",
    "    coeff.reverse() \n",
    "    value=coeff[0]\n",
    "    count_mult=0\n",
    "    for dg in range(1,n): #dg=degree\n",
    "        value = value*arg + coeff[dg]\n",
    "        count_mult+=1\n",
    "    count_add=count_mult\n",
    "    finish=time.time()\n",
    "    return value, count_mult, count_add, finish-start"
   ]
  },
  {
   "cell_type": "code",
   "execution_count": 12,
   "metadata": {},
   "outputs": [
    {
     "name": "stdout",
     "output_type": "stream",
     "text": [
      "(49, 3, 3, 0.0)\n",
      "(49, 6, 3, 0.0)\n"
     ]
    }
   ],
   "source": [
    "print(smart_polynomial_value_calc_time([1,2,3,4], 2))\n",
    "print(ordinary_polynomial_value_calc_time([1,2,3,4], 2))"
   ]
  },
  {
   "cell_type": "code",
   "execution_count": 13,
   "metadata": {},
   "outputs": [
    {
     "name": "stdout",
     "output_type": "stream",
     "text": [
      "(7446334300724336220, 11, 11, 0.0)\n",
      "(7446334300724336220, 66, 11, 0.0)\n"
     ]
    }
   ],
   "source": [
    "print(smart_polynomial_value_calc_time([20,5,-10,18,20,5,-10,18,20,5,-10,18], 40))\n",
    "print(ordinary_polynomial_value_calc_time([20,5,-10,18,20,5,-10,18,20,5,-10,18], 40))"
   ]
  },
  {
   "cell_type": "markdown",
   "metadata": {},
   "source": [
    "As we can see, these functions are working really fast that is why the time i equal to 0, even in perfoming large polynomial."
   ]
  },
  {
   "cell_type": "markdown",
   "metadata": {},
   "source": [
    "zadanie 3"
   ]
  },
  {
   "cell_type": "code",
   "execution_count": 15,
   "metadata": {},
   "outputs": [],
   "source": [
    "def counting_chars_without_ifs(filename):\n",
    "    \"\"\"\n",
    "    Count the number of all characters appearing in given file.\n",
    "    :param fiename: file .txt with the text\n",
    "    :return: dictionary with every character that appeared in the given file\n",
    "    \"\"\"\n",
    "    file_ref = open(filename, 'r')\n",
    "    text = file_ref.read()\n",
    "    low_text = text.lower()\n",
    "    striped_text = ''.join(low_text.split())\n",
    "    char_count = {i:striped_text.count(i) for i in set(striped_text)}  \n",
    "    return char_count"
   ]
  },
  {
   "cell_type": "code",
   "execution_count": 16,
   "metadata": {},
   "outputs": [
    {
     "data": {
      "text/plain": [
       "{'a': 74,\n",
       " 'g': 16,\n",
       " ',': 10,\n",
       " 'j': 1,\n",
       " 'n': 79,\n",
       " 'f': 26,\n",
       " 'l': 34,\n",
       " '.': 7,\n",
       " 'o': 72,\n",
       " 'b': 14,\n",
       " 'r': 48,\n",
       " 'h': 83,\n",
       " 'm': 21,\n",
       " 'q': 1,\n",
       " \"'\": 1,\n",
       " 'i': 62,\n",
       " '-': 2,\n",
       " ';': 4,\n",
       " 'd': 39,\n",
       " 'w': 21,\n",
       " 'y': 23,\n",
       " 'e': 115,\n",
       " 's': 51,\n",
       " 'k': 9,\n",
       " 'c': 16,\n",
       " 'v': 12,\n",
       " 'p': 12,\n",
       " 'u': 25,\n",
       " 't': 74}"
      ]
     },
     "execution_count": 16,
     "metadata": {},
     "output_type": "execute_result"
    }
   ],
   "source": [
    "counting_chars_without_ifs('L3_ZAD3_sample_text.txt')"
   ]
  }
 ],
 "metadata": {
  "kernelspec": {
   "display_name": "Python 3",
   "language": "python",
   "name": "python3"
  },
  "language_info": {
   "codemirror_mode": {
    "name": "ipython",
    "version": 3
   },
   "file_extension": ".py",
   "mimetype": "text/x-python",
   "name": "python",
   "nbconvert_exporter": "python",
   "pygments_lexer": "ipython3",
   "version": "3.8.5"
  }
 },
 "nbformat": 4,
 "nbformat_minor": 5
}
