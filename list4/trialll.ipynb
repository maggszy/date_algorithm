{
 "cells": [
  {
   "cell_type": "markdown",
   "metadata": {},
   "source": [
    "# zad1"
   ]
  },
  {
   "cell_type": "code",
   "execution_count": 119,
   "metadata": {},
   "outputs": [],
   "source": [
    "class QueueBaB(object): #first in, first out\n",
    "    #check if dodawanie i usuwanie z listy jest poprawne\n",
    "    \n",
    "    def __init__(self):\n",
    "        self.list_of_items = []\n",
    "    \n",
    "    def enqueue(self, item):\n",
    "        self.list_of_items.append(item)\n",
    "    \n",
    "    def dequeue(self):\n",
    "        return self.list_of_items.pop(0)\n",
    "  \n",
    "    def is_empty(self):\n",
    "        return self.list_of_items==[]\n",
    "    \n",
    "    def size(self):\n",
    "        return len(self.list_of_items)\n",
    "    \n",
    "    def perform(self):\n",
    "        print(self.list_of_items)\n",
    "        "
   ]
  },
  {
   "cell_type": "code",
   "execution_count": 120,
   "metadata": {},
   "outputs": [],
   "source": [
    "first=QueueBaB()"
   ]
  },
  {
   "cell_type": "code",
   "execution_count": 121,
   "metadata": {},
   "outputs": [
    {
     "data": {
      "text/plain": [
       "True"
      ]
     },
     "execution_count": 121,
     "metadata": {},
     "output_type": "execute_result"
    }
   ],
   "source": [
    "first.is_empty()"
   ]
  },
  {
   "cell_type": "code",
   "execution_count": 122,
   "metadata": {},
   "outputs": [
    {
     "data": {
      "text/plain": [
       "3"
      ]
     },
     "execution_count": 122,
     "metadata": {},
     "output_type": "execute_result"
    }
   ],
   "source": [
    "first.enqueue('4')\n",
    "first.enqueue(5)\n",
    "first.enqueue(\"'a','a'\")\n",
    "first.size()"
   ]
  },
  {
   "cell_type": "code",
   "execution_count": 123,
   "metadata": {},
   "outputs": [
    {
     "data": {
      "text/plain": [
       "'4'"
      ]
     },
     "execution_count": 123,
     "metadata": {},
     "output_type": "execute_result"
    }
   ],
   "source": [
    "first.dequeue()"
   ]
  },
  {
   "cell_type": "code",
   "execution_count": 124,
   "metadata": {},
   "outputs": [
    {
     "name": "stdout",
     "output_type": "stream",
     "text": [
      "[5, \"'a','a'\"]\n"
     ]
    }
   ],
   "source": [
    "first.perform()"
   ]
  },
  {
   "cell_type": "code",
   "execution_count": 125,
   "metadata": {},
   "outputs": [],
   "source": [
    "class QueueBaE(object):\n",
    "\n",
    "    def __init__(self):\n",
    "        self.list_of_items = []\n",
    "    \n",
    "    def enqueue(self, item):\n",
    "        self.list_of_items.insert(0,item)\n",
    "    \n",
    "    def dequeue(self):\n",
    "        return self.list_of_items.pop()\n",
    "  \n",
    "    def is_empty(self):\n",
    "        return self.list_of_items==[]\n",
    "    \n",
    "    def size(self):\n",
    "        return len(self.list_of_items) \n",
    "    \n",
    "    def perform(self):\n",
    "        print(self.list_of_items)"
   ]
  },
  {
   "cell_type": "code",
   "execution_count": 126,
   "metadata": {},
   "outputs": [],
   "source": [
    "second=QueueBaE()"
   ]
  },
  {
   "cell_type": "code",
   "execution_count": 127,
   "metadata": {},
   "outputs": [],
   "source": [
    "second.enqueue(4)\n",
    "second.enqueue(6)\n",
    "second.enqueue(8)"
   ]
  },
  {
   "cell_type": "code",
   "execution_count": 128,
   "metadata": {},
   "outputs": [
    {
     "data": {
      "text/plain": [
       "4"
      ]
     },
     "execution_count": 128,
     "metadata": {},
     "output_type": "execute_result"
    }
   ],
   "source": [
    "second.dequeue()"
   ]
  },
  {
   "cell_type": "code",
   "execution_count": 129,
   "metadata": {},
   "outputs": [
    {
     "name": "stdout",
     "output_type": "stream",
     "text": [
      "[8, 6]\n"
     ]
    }
   ],
   "source": [
    "second.perform()"
   ]
  },
  {
   "cell_type": "code",
   "execution_count": 130,
   "metadata": {},
   "outputs": [
    {
     "data": {
      "text/plain": [
       "False"
      ]
     },
     "execution_count": 130,
     "metadata": {},
     "output_type": "execute_result"
    }
   ],
   "source": [
    "second.is_empty()"
   ]
  },
  {
   "cell_type": "markdown",
   "metadata": {},
   "source": [
    "## ZAD2"
   ]
  },
  {
   "cell_type": "code",
   "execution_count": 131,
   "metadata": {},
   "outputs": [],
   "source": [
    "import time\n",
    "import matplotlib.pyplot as mlt\n",
    "import numpy as np"
   ]
  },
  {
   "cell_type": "markdown",
   "metadata": {},
   "source": [
    "`czy rodzaj dodawanych elementów ma znaczenie?`\n",
    "- wykresy --> not sure czy to tak powinno działać, czy wartości czasu są dobrze zdefiniowane\n",
    "- wychodzą ujemne czasy\n",
    "- poprawić ich wygląd"
   ]
  },
  {
   "cell_type": "code",
   "execution_count": 132,
   "metadata": {},
   "outputs": [],
   "source": [
    "def time_measure(n):\n",
    "    BaB=QueueBaB()\n",
    "    BaE=QueueBaE()\n",
    "    \n",
    "    startB1=time.time()\n",
    "    for i in range(n):\n",
    "        BaB.enqueue(i)\n",
    "    endB1= time.time()\n",
    "        \n",
    "    startE1=time.time()\n",
    "    for i in range(n):\n",
    "        BaE.enqueue(i)\n",
    "    endE1=time.time()\n",
    "    \n",
    "    startB2=time.time()\n",
    "    for _ in range(n):\n",
    "        BaB.dequeue()\n",
    "    endB2= time.time()\n",
    "    \n",
    "    startE2=time.time()\n",
    "    for _ in range(n):\n",
    "        BaE.dequeue()\n",
    "    endE2=time.time()\n",
    "    \n",
    "    return [endB1-startB1, endB2-startB2,endE1-startE1,endE2-startE2]"
   ]
  },
  {
   "cell_type": "code",
   "execution_count": 133,
   "metadata": {},
   "outputs": [
    {
     "data": {
      "text/plain": [
       "[0.004010438919067383,\n",
       " 0.01900005340576172,\n",
       " 0.03699064254760742,\n",
       " 0.0039997100830078125]"
      ]
     },
     "execution_count": 133,
     "metadata": {},
     "output_type": "execute_result"
    }
   ],
   "source": [
    "time_measure(10000)"
   ]
  },
  {
   "cell_type": "code",
   "execution_count": 134,
   "metadata": {},
   "outputs": [],
   "source": [
    "def compare_enqueue(n): #number of elements\n",
    "    \n",
    "    xb=np.linspace(0,n)\n",
    "    timeb=np.linspace(0,time_measure(n)[0])\n",
    "    xe=np.linspace(0,n)\n",
    "    timee=np.linspace(0,time_measure(n)[1])\n",
    "    \n",
    "\n",
    "    plt.plot(xb,timeb, 'C1.',label='QueueBaB')\n",
    "    plt.xlabel('Number of elements')\n",
    "    plt.ylabel('Time')\n",
    "    plt.title(\"Enqueue\")\n",
    "    \n",
    "    plt.plot(xe,timee, 'C2.', label='QueueBaE')\n",
    "    plt.xlabel('Number of elements')\n",
    "    plt.ylabel('Time')\n",
    "    plt.title(\"Enqueue\")\n",
    "    \n",
    "    \n",
    "    plt.legend()\n",
    "    plt.grid()\n",
    "    plt.show()"
   ]
  },
  {
   "cell_type": "code",
   "execution_count": 154,
   "metadata": {},
   "outputs": [
    {
     "data": {
      "image/png": "[encoded data removed]",
      "text/plain": [
       "<Figure size 432x288 with 1 Axes>"
      ]
     },
     "metadata": {
      "needs_background": "light"
     },
     "output_type": "display_data"
    }
   ],
   "source": [
    "compare_enqueue(100000)"
   ]
  },
  {
   "cell_type": "code",
   "execution_count": 136,
   "metadata": {},
   "outputs": [],
   "source": [
    "def compare_dequeue(n): #number of elements\n",
    "    \n",
    "    xb=np.linspace(0,n)\n",
    "    timeb=np.linspace(0,np.abs(time_measure(n)[2]))\n",
    "    xe=np.linspace(0,n)\n",
    "    timee=np.linspace(0,np.abs(time_measure(n)[3]))\n",
    "    \n",
    "\n",
    "    plt.plot(xb,timeb, 'C1.',label='QueueBaB')\n",
    "    plt.xlabel('Number of elements')\n",
    "    plt.ylabel('Time')\n",
    "    plt.title(\"Dequeue\")\n",
    "    \n",
    "    plt.plot(xe,timee, 'C2.', label='QueueBaE')\n",
    "    plt.xlabel('Number of elements')\n",
    "    plt.ylabel('Time')\n",
    "    plt.title(\"Dequeue\")\n",
    "    \n",
    "    plt.legend()\n",
    "    plt.grid()\n",
    "    plt.show()"
   ]
  },
  {
   "cell_type": "code",
   "execution_count": 137,
   "metadata": {},
   "outputs": [
    {
     "data": {
      "image/png": "[encoded data removed]",
      "text/plain": [
       "<Figure size 432x288 with 1 Axes>"
      ]
     },
     "metadata": {
      "needs_background": "light"
     },
     "output_type": "display_data"
    }
   ],
   "source": [
    "compare_dequeue(100000)"
   ]
  },
  {
   "cell_type": "code",
   "execution_count": 138,
   "metadata": {},
   "outputs": [
    {
     "data": {
      "image/png": "[encoded data removed]",
      "text/plain": [
       "<Figure size 432x288 with 1 Axes>"
      ]
     },
     "metadata": {
      "needs_background": "light"
     },
     "output_type": "display_data"
    }
   ],
   "source": [
    "#compare_dequeue(100000)\n",
    "compare_dequeue(100)"
   ]
  },
  {
   "cell_type": "code",
   "execution_count": 159,
   "metadata": {},
   "outputs": [],
   "source": [
    "def open_txt(filename):\n",
    "    f=open(filename,\"r\", encoding=\"utf-8\")\n",
    "    file=f.read()\n",
    "    file=file.split()\n",
    "    return file"
   ]
  },
  {
   "cell_type": "code",
   "execution_count": 160,
   "metadata": {
    "scrolled": true
   },
   "outputs": [
    {
     "data": {
      "text/plain": [
       "list"
      ]
     },
     "execution_count": 160,
     "metadata": {},
     "output_type": "execute_result"
    }
   ],
   "source": [
    "type(open_txt('historyjka.txt'))"
   ]
  },
  {
   "cell_type": "code",
   "execution_count": 161,
   "metadata": {},
   "outputs": [],
   "source": [
    "def measure_time_str(filename):\n",
    "    list_of_str=open_txt(filename)\n",
    "    BaB=QueueBaB()\n",
    "    BaE=QueueBaE()\n",
    "    \n",
    "    startB1=time.time()\n",
    "    for i in range(0,len(list_of_str)):\n",
    "        BaB.enqueue(list_of_str[i])\n",
    "    endB1=time.time()\n",
    "    \n",
    "    startE1=time.time()\n",
    "    for i in range(0,len(list_of_str)):\n",
    "        BaE.enqueue(list_of_str[i])\n",
    "    endE1=time.time()\n",
    "    \n",
    "    startB2=time.time()\n",
    "    for _ in range(0,len(list_of_str)):\n",
    "        BaB.dequeue()\n",
    "    endB2= time.time()\n",
    "    \n",
    "    startE2=time.time()\n",
    "    for _ in range(0,len(list_of_str)):\n",
    "        BaE.dequeue()\n",
    "    endE2=time.time()\n",
    "    \n",
    "    return [endB1-startB1, endB2-startB2,endE1-startE1,endE2-startE2]"
   ]
  },
  {
   "cell_type": "code",
   "execution_count": 162,
   "metadata": {},
   "outputs": [
    {
     "data": {
      "text/plain": [
       "[0.0006866455078125, 0.0, 0.0003008842468261719, 0.0]"
      ]
     },
     "execution_count": 162,
     "metadata": {},
     "output_type": "execute_result"
    }
   ],
   "source": [
    "measure_time_str('historyjka.txt')"
   ]
  },
  {
   "cell_type": "code",
   "execution_count": 169,
   "metadata": {},
   "outputs": [],
   "source": [
    "def compare_enqueue_str(filename):\n",
    "    file_txt=open_txt(filename)\n",
    "    \n",
    "    xb=np.linspace(0,len(file_txt))\n",
    "    timeb=np.linspace(0,measure_time_str(filename)[0])\n",
    "    \n",
    "    xe=np.linspace(0,len(file_txt))\n",
    "    timee=np.linspace(0,measure_time_str(filename)[1])\n",
    "    \n",
    "    plt.plot(xb,timeb, 'C1.',label='QueueBaB')\n",
    "    plt.xlabel('Number of words')\n",
    "    plt.ylabel('Time')\n",
    "    plt.title(\"Enqueue\")\n",
    "    \n",
    "    #plt.plot(xe,timee, 'C2.', label='QueueBaE')\n",
    "    plt.xlabel('Number of words')\n",
    "    plt.ylabel('Time')\n",
    "    plt.title(\"Enqueue\")\n",
    "    \n",
    "    plt.legend()\n",
    "    plt.grid()\n",
    "    plt.show()\n",
    "    "
   ]
  },
  {
   "cell_type": "code",
   "execution_count": 170,
   "metadata": {},
   "outputs": [
    {
     "data": {
      "image/png": "[encoded data removed]",
      "text/plain": [
       "<Figure size 432x288 with 1 Axes>"
      ]
     },
     "metadata": {
      "needs_background": "light"
     },
     "output_type": "display_data"
    }
   ],
   "source": [
    "compare_enqueue_str('historyjka.txt')"
   ]
  },
  {
   "cell_type": "markdown",
   "metadata": {},
   "source": [
    "### Wnioski:\n",
    "- typ dodawanych agrumentów do kolejek nie ma znaczenia, wyniki są takie same na tych samych rzędach "
   ]
  },
  {
   "cell_type": "markdown",
   "metadata": {},
   "source": [
    "# zad4"
   ]
  },
  {
   "cell_type": "code",
   "execution_count": null,
   "metadata": {},
   "outputs": [],
   "source": []
  }
 ],
 "metadata": {
  "kernelspec": {
   "display_name": "Python 3",
   "language": "python",
   "name": "python3"
  },
  "language_info": {
   "codemirror_mode": {
    "name": "ipython",
    "version": 3
   },
   "file_extension": ".py",
   "mimetype": "text/x-python",
   "name": "python",
   "nbconvert_exporter": "python",
   "pygments_lexer": "ipython3",
   "version": "3.8.5"
  }
 },
 "nbformat": 4,
 "nbformat_minor": 4
}
