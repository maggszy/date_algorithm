{
 "cells": [
  {
   "cell_type": "markdown",
   "id": "33038198",
   "metadata": {},
   "source": [
    "## <span style=\"color:#D47FAC;\"> <center>Pythagorean triplets - list nr 2 </center> </span>"
   ]
  },
  {
   "cell_type": "markdown",
   "id": "e062f6a4",
   "metadata": {},
   "source": [
    "##### Authors: Jakubik Małgorzata, Szymkowiak Magdalena"
   ]
  },
  {
   "cell_type": "code",
   "execution_count": 139,
   "id": "c54c673a",
   "metadata": {},
   "outputs": [],
   "source": [
    "import math\n",
    "import time"
   ]
  },
  {
   "cell_type": "markdown",
   "id": "105af0cc",
   "metadata": {},
   "source": [
    "#### Brute-Force method - trying every possibility"
   ]
  },
  {
   "cell_type": "code",
   "execution_count": null,
   "id": "1cfac67a",
   "metadata": {},
   "outputs": [],
   "source": [
    "def pytha_triplet(nums_sum:int):  #n^3\n",
    "    operation_count=0\n",
    "    for a in range(1,nums_sum):\n",
    "        for b in range(1,nums_sum):\n",
    "            for c in range(1,nums_sum):\n",
    "                operation_count+=9\n",
    "                if a**2 + b**2 == c**2 and a+b+c==nums_sum:\n",
    "                    return(True,a,b,c,operation_count)\n",
    "    return (False,-1,-1,-1,operation_count)"
   ]
  },
  {
   "cell_type": "code",
   "execution_count": 126,
   "id": "924fd48c",
   "metadata": {},
   "outputs": [
    {
     "data": {
      "text/plain": [
       "(True, 200, 375, 425, 1790786250)"
      ]
     },
     "execution_count": 126,
     "metadata": {},
     "output_type": "execute_result"
    }
   ],
   "source": [
    "pytha_triplet(1000)"
   ]
  },
  {
   "cell_type": "markdown",
   "id": "e12626c3",
   "metadata": {},
   "source": [
    "#### Nested loops, but range for b is limited. It includes a<b<c."
   ]
  },
  {
   "cell_type": "code",
   "execution_count": null,
   "id": "90e68ef3",
   "metadata": {},
   "outputs": [],
   "source": [
    "def pytha_triplet1(nums_sum:int):\n",
    "    operation_count = 0\n",
    "    for a in range(1, nums_sum):\n",
    "        for b in range(a+1, nums_sum):\n",
    "            c = nums_sum - a - b\n",
    "            operation_count += 8\n",
    "            if a**2 + b **2 == c**2:\n",
    "                return (True, a, b, c, operation_count) \n",
    "    return (False, -1, -1, -1, operation_count)"
   ]
  },
  {
   "cell_type": "code",
   "execution_count": 127,
   "id": "0ecf30c2",
   "metadata": {},
   "outputs": [
    {
     "data": {
      "text/plain": [
       "(True, 200, 375, 425, 1432608)"
      ]
     },
     "execution_count": 127,
     "metadata": {},
     "output_type": "execute_result"
    }
   ],
   "source": [
    "pytha_triplet1(1000)"
   ]
  },
  {
   "cell_type": "markdown",
   "id": "143685c6",
   "metadata": {},
   "source": [
    "#### Another limits added to range for a and b"
   ]
  },
  {
   "cell_type": "code",
   "execution_count": null,
   "id": "31bb6074",
   "metadata": {},
   "outputs": [],
   "source": [
    "def pytha_triplet2(nums_sum:int):  #n^2\n",
    "    operation_count=0\n",
    "    for a in range(1,nums_sum//3):\n",
    "        for b in range(a+1,nums_sum//2):\n",
    "            c=nums_sum-a-b\n",
    "            operation_count+=14\n",
    "            if a**2 + b**2 == c**2 and a+b+c==nums_sum:\n",
    "                return(True,a,b,c,operation_count)\n",
    "\n",
    "    return (False,-1,-1,-1,operation_count) "
   ]
  },
  {
   "cell_type": "code",
   "execution_count": 128,
   "id": "38c2ddc1",
   "metadata": {},
   "outputs": [
    {
     "data": {
      "text/plain": [
       "(True, 200, 375, 425, 1114064)"
      ]
     },
     "execution_count": 128,
     "metadata": {},
     "output_type": "execute_result"
    }
   ],
   "source": [
    "pytha_triplet2(1000)"
   ]
  },
  {
   "cell_type": "markdown",
   "id": "2e726375",
   "metadata": {},
   "source": [
    "#### Analitical approach"
   ]
  },
  {
   "cell_type": "markdown",
   "id": "53929a83",
   "metadata": {},
   "source": [
    "$$ a^{2} + b^{2} = c^{2} \\\\\n",
    "a^{2} + 2ab + c^2 = c^{2} + 2ab \\\\\n",
    "(a+b)^{2} = c^{2} + 2ab \\\\\n",
    "\\text{Assuming n is the perimeter of a triangle} \\\\\n",
    "(n-c)^{2} = c^{2} + 2ab \\\\\n",
    "$$"
   ]
  },
  {
   "cell_type": "markdown",
   "id": "16e39eb6",
   "metadata": {},
   "source": [
    "$$ \\text{Having } 2ab = (n-c)^{2} - c^{2} \\wedge a^{2} + b^{2} = c^{2} $$ we can get $$(a-b)^{2} = c^{2} - n^{2} + 2nc$$\n",
    "We know that $$ a-b <0 $$ so using $$ a+b+c=n $$ we have $$ b = \\frac{n-c-(a-b)}{2} \\wedge a = n -b-c $$"
   ]
  },
  {
   "cell_type": "code",
   "execution_count": 152,
   "id": "6e55222e",
   "metadata": {},
   "outputs": [],
   "source": [
    "def pytha_triplet3(nums_sum:int): #n\n",
    "    operation_count=0\n",
    "    for c in range(1,nums_sum):\n",
    "        a_b_sqr= c**2 - nums_sum**2 + 2*nums_sum*c\n",
    "        a_b= math.floor(math.sqrt(abs(a_b_sqr)))\n",
    "        operation_count+=9\n",
    "\n",
    "        if a_b**2 == a_b_sqr:\n",
    "            b=(nums_sum - c + a_b)//2\n",
    "            a= nums_sum - b - c\n",
    "            operation_count+=7\n",
    "            return(True,a,b,c,operation_count)\n",
    "        else:\n",
    "            operation_count+=2\n",
    "\n",
    "    return (False,-1,-1,-1,operation_count) "
   ]
  },
  {
   "cell_type": "code",
   "execution_count": 153,
   "id": "6187784e",
   "metadata": {},
   "outputs": [
    {
     "data": {
      "text/plain": [
       "(True, 200, 375, 425, 4680)"
      ]
     },
     "execution_count": 153,
     "metadata": {},
     "output_type": "execute_result"
    }
   ],
   "source": [
    "pytha_triplet3(1000)"
   ]
  },
  {
   "cell_type": "markdown",
   "id": "745f15bf",
   "metadata": {},
   "source": [
    "## Testing another cases:"
   ]
  },
  {
   "cell_type": "code",
   "execution_count": 131,
   "id": "22236c73",
   "metadata": {},
   "outputs": [
    {
     "data": {
      "text/plain": [
       "(True, 7, 24, 25, 174960)"
      ]
     },
     "execution_count": 131,
     "metadata": {},
     "output_type": "execute_result"
    }
   ],
   "source": [
    "pytha_triplet(56)"
   ]
  },
  {
   "cell_type": "code",
   "execution_count": 132,
   "id": "a06dc15c",
   "metadata": {},
   "outputs": [
    {
     "data": {
      "text/plain": [
       "(True, 7, 24, 25, 2608)"
      ]
     },
     "execution_count": 132,
     "metadata": {},
     "output_type": "execute_result"
    }
   ],
   "source": [
    "pytha_triplet1(56)"
   ]
  },
  {
   "cell_type": "code",
   "execution_count": 133,
   "id": "bbc17e71",
   "metadata": {},
   "outputs": [
    {
     "data": {
      "text/plain": [
       "(True, 7, 24, 25, 2212)"
      ]
     },
     "execution_count": 133,
     "metadata": {},
     "output_type": "execute_result"
    }
   ],
   "source": [
    "pytha_triplet2(56)"
   ]
  },
  {
   "cell_type": "code",
   "execution_count": 134,
   "id": "400292e1",
   "metadata": {},
   "outputs": [
    {
     "data": {
      "text/plain": [
       "(True, 7, 24, 25, 255)"
      ]
     },
     "execution_count": 134,
     "metadata": {},
     "output_type": "execute_result"
    }
   ],
   "source": [
    "pytha_triplet3(56)"
   ]
  },
  {
   "cell_type": "code",
   "execution_count": 138,
   "id": "5a236e16",
   "metadata": {},
   "outputs": [
    {
     "data": {
      "text/plain": [
       "(False, -1, -1, -1, 0)"
      ]
     },
     "execution_count": 138,
     "metadata": {},
     "output_type": "execute_result"
    }
   ],
   "source": [
    "pytha_triplet(-56)"
   ]
  },
  {
   "cell_type": "code",
   "execution_count": 135,
   "id": "e89a60d9",
   "metadata": {},
   "outputs": [
    {
     "data": {
      "text/plain": [
       "(False, -1, -1, -1, 61731)"
      ]
     },
     "execution_count": 135,
     "metadata": {},
     "output_type": "execute_result"
    }
   ],
   "source": [
    "pytha_triplet(20)"
   ]
  },
  {
   "cell_type": "markdown",
   "id": "ace15747",
   "metadata": {},
   "source": [
    "## Comparing the amount of time of finding a triplet:"
   ]
  },
  {
   "cell_type": "code",
   "execution_count": 121,
   "id": "3f0032b6",
   "metadata": {},
   "outputs": [
    {
     "name": "stdout",
     "output_type": "stream",
     "text": [
      "2min 20s ± 2.4 s per loop (mean ± std. dev. of 7 runs, 1 loop each)\n"
     ]
    }
   ],
   "source": [
    "%timeit pytha_triplet(1000)"
   ]
  },
  {
   "cell_type": "code",
   "execution_count": 123,
   "id": "d6ef79d5",
   "metadata": {},
   "outputs": [
    {
     "name": "stdout",
     "output_type": "stream",
     "text": [
      "139 ms ± 10.3 ms per loop (mean ± std. dev. of 7 runs, 10 loops each)\n"
     ]
    }
   ],
   "source": [
    "%timeit pytha_triplet1(1000)"
   ]
  },
  {
   "cell_type": "code",
   "execution_count": 124,
   "id": "2832661f",
   "metadata": {},
   "outputs": [
    {
     "name": "stdout",
     "output_type": "stream",
     "text": [
      "57.7 ms ± 2.03 ms per loop (mean ± std. dev. of 7 runs, 10 loops each)\n"
     ]
    }
   ],
   "source": [
    "%timeit pytha_triplet2(1000)"
   ]
  },
  {
   "cell_type": "code",
   "execution_count": 125,
   "id": "4fa4bb5e",
   "metadata": {},
   "outputs": [
    {
     "name": "stdout",
     "output_type": "stream",
     "text": [
      "424 µs ± 10.1 µs per loop (mean ± std. dev. of 7 runs, 1000 loops each)\n"
     ]
    }
   ],
   "source": [
    "%timeit pytha_triplet3(1000)"
   ]
  },
  {
   "cell_type": "markdown",
   "id": "3a2d7b9e",
   "metadata": {},
   "source": [
    "### <span style=\"color:#D47FAC;\"> <center> Link to our code: https://github.com/maggszy/date_algorithm/blob/main/list2/pitagoras.py </center> </span>"
   ]
  }
 ],
 "metadata": {
  "kernelspec": {
   "display_name": "Python 3 (ipykernel)",
   "language": "python",
   "name": "python3"
  },
  "language_info": {
   "codemirror_mode": {
    "name": "ipython",
    "version": 3
   },
   "file_extension": ".py",
   "mimetype": "text/x-python",
   "name": "python",
   "nbconvert_exporter": "python",
   "pygments_lexer": "ipython3",
   "version": "3.9.7"
  }
 },
 "nbformat": 4,
 "nbformat_minor": 5
}
