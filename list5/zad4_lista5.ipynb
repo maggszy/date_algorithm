{
 "cells": [
  {
   "cell_type": "code",
   "execution_count": 91,
   "metadata": {},
   "outputs": [],
   "source": [
    "from helpy import Stack"
   ]
  },
  {
   "cell_type": "markdown",
   "metadata": {},
   "source": [
    "DRUGA WERSJA"
   ]
  },
  {
   "cell_type": "code",
   "execution_count": 176,
   "metadata": {},
   "outputs": [],
   "source": [
    "def moveDisc(src_p,dest_p,extra_p):\n",
    "    dest_p[1].push(src_p[1].pop())\n",
    "    print(\"moving disc from\",src_p[0],\"to\",dest_p[0])\n",
    "    print(src_p[1],extra_p[1],dest_p[1])"
   ]
  },
  {
   "cell_type": "code",
   "execution_count": 177,
   "metadata": {},
   "outputs": [],
   "source": [
    "def moveTower(nDiscs,src_p,extra_p,dest_p):\n",
    "    if nDiscs<=0:\n",
    "        return \"Your Tower of Hanoi is empty!\"\n",
    "    elif nDiscs == 1:\n",
    "        moveDisc(src_p, dest_p,extra_p)\n",
    "    else:\n",
    "        moveTower(nDiscs-1, src_p,dest_p, extra_p)\n",
    "        moveDisc(src_p, dest_p,extra_p)\n",
    "        moveTower(nDiscs-1, extra_p, src_p, dest_p)\n",
    "        "
   ]
  },
  {
   "cell_type": "code",
   "execution_count": 178,
   "metadata": {},
   "outputs": [],
   "source": [
    "def Hanoi(nDiscs,src,extra,dest):\n",
    "    src_p= (src,Stack()) #(nazwa słupka,zawartość)\n",
    "    extra_p=(extra,Stack())\n",
    "    dest_p=(dest,Stack())\n",
    "    \n",
    "    for i in range(nDiscs):\n",
    "        src_p[1].push(nDiscs-i)\n",
    "        \n",
    "    moveTower(nDiscs,src_p,extra_p,dest_p)"
   ]
  },
  {
   "cell_type": "code",
   "execution_count": 179,
   "metadata": {},
   "outputs": [
    {
     "name": "stdout",
     "output_type": "stream",
     "text": [
      "moving disc from A to B\n",
      "[4, 3, 2] [] [1]\n",
      "moving disc from A to C\n",
      "[4, 3] [1] [2]\n",
      "moving disc from B to C\n",
      "[] [4, 3] [2, 1]\n",
      "moving disc from A to B\n",
      "[4] [2, 1] [3]\n",
      "moving disc from C to A\n",
      "[2] [3] [4, 1]\n",
      "moving disc from C to B\n",
      "[] [4, 1] [3, 2]\n",
      "moving disc from A to B\n",
      "[4] [] [3, 2, 1]\n",
      "moving disc from A to C\n",
      "[] [3, 2, 1] [4]\n",
      "moving disc from B to C\n",
      "[3, 2] [] [4, 1]\n",
      "moving disc from B to A\n",
      "[3] [4, 1] [2]\n",
      "moving disc from C to A\n",
      "[4] [3] [2, 1]\n",
      "moving disc from B to C\n",
      "[] [2, 1] [4, 3]\n",
      "moving disc from A to B\n",
      "[2] [4, 3] [1]\n",
      "moving disc from A to C\n",
      "[] [1] [4, 3, 2]\n",
      "moving disc from B to C\n",
      "[] [] [4, 3, 2, 1]\n"
     ]
    }
   ],
   "source": [
    "Hanoi(4,\"A\",\"B\",\"C\")"
   ]
  },
  {
   "cell_type": "markdown",
   "metadata": {},
   "source": [
    "PIERWSZA WERSJA"
   ]
  },
  {
   "cell_type": "code",
   "execution_count": 99,
   "metadata": {},
   "outputs": [],
   "source": [
    "def Hanoi5(nDiscs,src,extra,dest):\n",
    "    src_p= (src,Stack()) #(nazwa słupka,zawartość)\n",
    "    extra_p=(extra,Stack())\n",
    "    dest_p=(dest,Stack())\n",
    "    \n",
    "    for i in range(nDiscs):\n",
    "        src_p[1].push(nDiscs-i)\n",
    "    \n",
    "    if nDiscs == 1:\n",
    "        moveDisc(src_p, dest_p)\n",
    "        print(src_p[1],extra_p[1],dest_p[1])\n",
    "    else:\n",
    "        Hanoi(nDiscs-1, src,dest, extra)\n",
    "        moveDisc(src_p, dest_p)\n",
    "        print(src_p[1],extra_p[1],dest_p[1])\n",
    "        Hanoi(nDiscs-1, extra, src, dest)\n",
    "        print(src_p[1],extra_p[1],dest_p[1])\n",
    "    #print(src,extra,dest)\n",
    "        \n",
    "    "
   ]
  },
  {
   "cell_type": "code",
   "execution_count": 102,
   "metadata": {},
   "outputs": [
    {
     "name": "stdout",
     "output_type": "stream",
     "text": [
      "moving disc from A to C\n",
      "[3, 2] [] [1]\n",
      "moving disc from A to B\n",
      "[3] [1] [2]\n",
      "moving disc from C to B\n",
      "[] [3] [2, 1]\n",
      "[3] [] [2, 1]\n",
      "moving disc from A to C\n",
      "[] [2, 1] [3]\n",
      "moving disc from B to A\n",
      "[2] [3] [1]\n",
      "moving disc from B to C\n",
      "[] [1] [3, 2]\n",
      "moving disc from A to C\n",
      "[] [] [3, 2, 1]\n",
      "[] [] [3, 2, 1]\n",
      "[] [] [3, 2, 1]\n"
     ]
    }
   ],
   "source": [
    "Hanoi(3,\"A\",\"B\",\"C\")"
   ]
  },
  {
   "cell_type": "markdown",
   "metadata": {},
   "source": [
    "### 3WERSJA"
   ]
  },
  {
   "cell_type": "code",
   "execution_count": 322,
   "metadata": {},
   "outputs": [],
   "source": [
    "def moveDisc3(src_p,dest_p,extra_p):\n",
    "    dest_p[1].push(src_p[1].pop())\n",
    "    print(\"moving disc from\",src_p[0],\"to\",dest_p[0])\n",
    "    print(src_p[0],\"=\",src_p[1], extra_p[0],\"=\",extra_p[1], dest_p[0],\"=\",dest_p[1])"
   ]
  },
  {
   "cell_type": "code",
   "execution_count": 323,
   "metadata": {},
   "outputs": [],
   "source": [
    "def moveTower3(nDiscs,src_p,extra_p,dest_p):\n",
    "    if nDiscs==0:\n",
    "        return \"Your Tower of Hanoi is empty!\"\n",
    "    elif nDiscs == 1:\n",
    "        moveDisc3(src_p, dest_p,extra_p)\n",
    "        #print(src_p[0],\"=\",src_p[1], extra_p[0],\"=\",extra_p[1], dest_p[0],\"=\",dest_p[1])\n",
    "        #print(src_p[1],dest_p[1],extra_p[1])\n",
    "    else:\n",
    "        moveTower3(nDiscs-1, src_p,dest_p, extra_p)\n",
    "        moveDisc3(src_p, dest_p,extra_p)\n",
    "        #print(src_p[1],extra_p[1],dest_p[1])\n",
    "        #print(src_p[1],dest_p[1],extra_p[1])\n",
    "        #print(src_p[1],extra_p[1],dest_p[1])\n",
    "        moveTower3(nDiscs-1, extra_p, src_p, dest_p)\n",
    "        #print(src_p[1],extra_p[1],dest_p[1])"
   ]
  },
  {
   "cell_type": "code",
   "execution_count": 324,
   "metadata": {},
   "outputs": [],
   "source": [
    "def Hanoi3(nDiscs,src,extra,dest):\n",
    "    src_p= (src,Stack()) #(nazwa słupka,zawartość)\n",
    "    extra_p=(extra,Stack())\n",
    "    dest_p=(dest,Stack())\n",
    "    \n",
    "    for i in range(nDiscs):\n",
    "        src_p[1].push(nDiscs-i)\n",
    "        \n",
    "    return moveTower3(nDiscs,src_p,extra_p,dest_p)"
   ]
  },
  {
   "cell_type": "code",
   "execution_count": 325,
   "metadata": {},
   "outputs": [
    {
     "name": "stdout",
     "output_type": "stream",
     "text": [
      "moving disc from A to B\n",
      "A = [2] C = [] B = [1]\n",
      "moving disc from A to C\n",
      "A = [] B = [1] C = [2]\n",
      "moving disc from B to C\n",
      "B = [] A = [] C = [2, 1]\n"
     ]
    }
   ],
   "source": [
    "Hanoi3(2,\"A\",\"B\",\"C\")"
   ]
  },
  {
   "cell_type": "code",
   "execution_count": 305,
   "metadata": {},
   "outputs": [
    {
     "name": "stdout",
     "output_type": "stream",
     "text": [
      "moving disc from A to B\n",
      "[2] [] [1]\n",
      "moving disc from A to C\n",
      "[] [1] [2]\n",
      "moving disc from B to C\n",
      "[] [] [2, 1]\n"
     ]
    }
   ],
   "source": [
    "Hanoi3(2,\"A\",\"B\",\"C\")"
   ]
  },
  {
   "cell_type": "code",
   "execution_count": null,
   "metadata": {},
   "outputs": [],
   "source": []
  }
 ],
 "metadata": {
  "kernelspec": {
   "display_name": "Python 3 (ipykernel)",
   "language": "python",
   "name": "python3"
  },
  "language_info": {
   "codemirror_mode": {
    "name": "ipython",
    "version": 3
   },
   "file_extension": ".py",
   "mimetype": "text/x-python",
   "name": "python",
   "nbconvert_exporter": "python",
   "pygments_lexer": "ipython3",
   "version": "3.9.7"
  }
 },
 "nbformat": 4,
 "nbformat_minor": 4
}
