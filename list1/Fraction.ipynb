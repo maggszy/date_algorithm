{
 "cells": [
  {
   "cell_type": "markdown",
   "metadata": {},
   "source": [
    "\n",
    " #  <span style=\"color:#D47FAC;\"> <center>Class called *Fraction* - 1 list </center> </span>\n",
    "\n",
    "Authors: _Jakubik Małgorzata, Szymkowiak Magdalena_"
   ]
  },
  {
   "cell_type": "markdown",
   "metadata": {},
   "source": [
    "> #### Extra methods in our class:\n",
    ">\n",
    ">- creating fractions from integer and float in every configuration\n",
    ">- arithmetic operations including fractions and numbers (int, float)\n",
    ">- comparing fracions and numbers (from left and right side)\n",
    ">- simplifying improper fraction \n",
    ">- converting fractions to mixed numbers (only string representation)"
   ]
  },
  {
   "cell_type": "markdown",
   "metadata": {},
   "source": [
    "### <span style=\"color:#D47FAC;\"> <center> This class allows you to create and execute basic operations on fractions </center> </span>"
   ]
  },
  {
   "cell_type": "code",
   "execution_count": 1,
   "metadata": {},
   "outputs": [],
   "source": [
    "from math import floor"
   ]
  },
  {
   "cell_type": "code",
   "execution_count": 2,
   "metadata": {},
   "outputs": [],
   "source": [
    "def gcd(x, y):\n",
    "    \"\"\"\n",
    "    Find greatest common divisor\n",
    "    \"\"\"\n",
    "    while(y):\n",
    "        x, y = y, x % y\n",
    "  \n",
    "    return x"
   ]
  },
  {
   "cell_type": "code",
   "execution_count": 3,
   "metadata": {},
   "outputs": [
    {
     "data": {
      "text/plain": [
       "20"
      ]
     },
     "execution_count": 3,
     "metadata": {},
     "output_type": "execute_result"
    }
   ],
   "source": [
    "gcd(80, 100)"
   ]
  },
  {
   "cell_type": "code",
   "execution_count": 4,
   "metadata": {},
   "outputs": [],
   "source": [
    "def dec_to_fr(x):\n",
    "    \"\"\"\n",
    "    Convert float to fraction\n",
    "    \"\"\"\n",
    "    integral_val = floor(x)\n",
    "    fractional_part = x - integral_val\n",
    "\n",
    "    precision = 10000\n",
    "    gcd_f = gcd(round(fractional_part * precision), precision)\n",
    "    \n",
    "    newdenom = precision // gcd_f\n",
    "    newnum = round(fractional_part * precision / gcd_f) + (integral_val * newdenom)\n",
    "    \n",
    "    return [newnum, newdenom]"
   ]
  },
  {
   "cell_type": "code",
   "execution_count": 5,
   "metadata": {},
   "outputs": [
    {
     "data": {
      "text/plain": [
       "[6, 5]"
      ]
     },
     "execution_count": 5,
     "metadata": {},
     "output_type": "execute_result"
    }
   ],
   "source": [
    "dec_to_fr(1.2)"
   ]
  },
  {
   "cell_type": "code",
   "execution_count": 6,
   "metadata": {},
   "outputs": [
    {
     "data": {
      "text/plain": [
       "[3, 2]"
      ]
     },
     "execution_count": 6,
     "metadata": {},
     "output_type": "execute_result"
    }
   ],
   "source": [
    "dec_to_fr(1.5)"
   ]
  },
  {
   "cell_type": "code",
   "execution_count": 7,
   "metadata": {},
   "outputs": [],
   "source": [
    "def change_to_frac(other):\n",
    "    \"\"\"\n",
    "    Usage of function converting float to fracion\n",
    "    :param other: float number\n",
    "    :return: fraction\n",
    "    \"\"\"\n",
    "    if isinstance(other, float):\n",
    "        fr = dec_to_fr(other)\n",
    "        other = Fraction(fr[0], fr[1])\n",
    "    return other"
   ]
  },
  {
   "cell_type": "code",
   "execution_count": 8,
   "metadata": {},
   "outputs": [],
   "source": [
    "class Fraction:    \n",
    "    \"\"\"\n",
    "    Represent fraction and its operetions\n",
    "    \"\"\"\n",
    "    def __init__(self, num, denom):\n",
    "        \"\"\"\n",
    "        Constructor building the class\n",
    "        :param num: numerator \n",
    "        :param den: denominator\n",
    "        \"\"\"\n",
    "        if denom == 0:\n",
    "            raise ZeroDivisionError(\"Dividing by zero is not defined!\")\n",
    "        else:\n",
    "            if isinstance(num, int) and isinstance(denom, int):\n",
    "                common = gcd(abs(num), abs(denom))\n",
    "                \n",
    "                self.numerator = num // common\n",
    "                self.denominator = denom // common  \n",
    "                \n",
    "            elif isinstance(num, float) and isinstance(denom, int):\n",
    "                tmp_fr = dec_to_fr(num)\n",
    "                \n",
    "                numerator = tmp_fr[0]\n",
    "                denominator =  tmp_fr[1] * denom\n",
    "                \n",
    "                common = gcd(abs(numerator), abs(denominator))\n",
    "                \n",
    "                self.numerator = numerator // common\n",
    "                self.denominator = denominator // common\n",
    "                \n",
    "            elif isinstance(num, int) and isinstance(denom, float):\n",
    "                tmp_fr = dec_to_fr(denom)\n",
    "                \n",
    "                numerator = num * tmp_fr[1]\n",
    "                denominator =  tmp_fr[0]\n",
    "                \n",
    "                common = gcd(abs(numerator), abs(denominator))\n",
    "                \n",
    "                self.numerator = numerator // common\n",
    "                self.denominator = denominator // common\n",
    "                \n",
    "            elif isinstance(num, float) and isinstance(denom, float):\n",
    "                tmp_fr_num = dec_to_fr(num)\n",
    "                tmp_fr_den = dec_to_fr(denom)\n",
    "                \n",
    "                numerator = tmp_fr_num[0] * tmp_fr_den[1]\n",
    "                denominator =  tmp_fr_num[1] * tmp_fr_den[0]\n",
    "                \n",
    "                common = gcd(abs(numerator), abs(denominator))\n",
    "                \n",
    "                self.numerator = numerator // common\n",
    "                self.denominator = denominator // common\n",
    "\n",
    "            else:\n",
    "                raise ValueError(\"Numerator and denominator should be an integer or floating point!\")\n",
    "                \n",
    "            if self.denominator < 0:\n",
    "                    self.numerator = -1 * self.numerator\n",
    "                    self.denominator = abs(self.denominator)\n",
    "\n",
    "        \n",
    "    def __str__(self):\n",
    "        \"\"\"\n",
    "        Informal representation of the fraction \n",
    "        \"\"\"\n",
    "        if self.denominator == 1:\n",
    "            return str(self.numerator)\n",
    "        elif self.numerator > self.denominator:\n",
    "            return str(self.numerator//self.denominator) + \" \" + str(Fraction(self.numerator%self.denominator, self.denominator))\n",
    "        else:\n",
    "            return str(self.numerator)+ \"/\" +str(self.denominator)\n",
    "    \n",
    "    def __add__(self, other):\n",
    "        \"\"\"\n",
    "        Add fraction to number or to the other fraction\n",
    "        :param other: integer or other fraction\n",
    "        \"\"\"\n",
    "        other=change_to_frac(other)\n",
    "            \n",
    "        top = self.numerator * other.denominator + self.denominator * other.numerator\n",
    "        bottom = self.denominator * other.denominator\n",
    "\n",
    "        return Fraction(top, bottom)\n",
    "    \n",
    "    def __radd__(self,other):\n",
    "        \"\"\"\n",
    "        Add fraction to number or to the other fraction\n",
    "        :param other: integer or other fraction\n",
    "        \"\"\"\n",
    "        other=change_to_frac(other)\n",
    "            \n",
    "        top = self.numerator * other.denominator + self.denominator * other.numerator\n",
    "        bottom = self.denominator * other.denominator\n",
    "\n",
    "        return Fraction(top, bottom)\n",
    "        \n",
    "    def __sub__(self, other):\n",
    "        \"\"\"\n",
    "        Substract fraction from other fraction or number\n",
    "        :param other: integer of other fraction\n",
    "        \"\"\"        \n",
    "        other=change_to_frac(other)\n",
    "        top = self.numerator * other.denominator - self.denominator * other.numerator\n",
    "        bottom = self.denominator * other.denominator\n",
    "\n",
    "        return Fraction(top, bottom)\n",
    "    \n",
    "    def __rsub__(self, other):\n",
    "        \"\"\"\n",
    "        Substract fraction from other fraction or number\n",
    "        :param other: integer of other fraction\n",
    "        \"\"\"        \n",
    "        other=change_to_frac(other)\n",
    "        top = self.numerator * other.denominator - self.denominator * other.numerator\n",
    "        bottom = self.denominator * other.denominator\n",
    "\n",
    "        return Fraction(top, bottom)\n",
    "    \n",
    "    def __mul__(self, other):\n",
    "        \"\"\"\n",
    "        Multiply fraction with other fraction or number\n",
    "        :param other: integer of other fraction\n",
    "        \"\"\"\n",
    "        other=change_to_frac(other)\n",
    "        top = self.numerator * other.numerator\n",
    "        bottom = self.denominator * other.denominator\n",
    "        \n",
    "        return Fraction(top, bottom)\n",
    "    \n",
    "    def __rmul__(self, other):\n",
    "        \"\"\"\n",
    "        Multiply fraction with other fraction or number\n",
    "        :param other: integer of other fraction\n",
    "        \"\"\"\n",
    "        other=change_to_frac(other)\n",
    "        top = self.numerator * other.numerator\n",
    "        bottom = self.denominator * other.denominator\n",
    "        \n",
    "        return Fraction(top, bottom)\n",
    "    \n",
    "    def __truediv__(self, other):\n",
    "        \"\"\"\n",
    "        Divide fraction by other fraction or number\n",
    "        :param other: integer of other fraction\n",
    "        \"\"\"\n",
    "        other=change_to_frac(other)\n",
    "        top = self.numerator * other.denominator\n",
    "        bottom = self.denominator * other.numerator\n",
    "        \n",
    "        return Fraction(top, bottom)\n",
    "    \n",
    "    def __rtruediv__(self, other):\n",
    "        \"\"\"\n",
    "        Divide fraction by other fraction or number\n",
    "        :param other: integer of other fraction\n",
    "        \"\"\"\n",
    "        other=change_to_frac(other)\n",
    "        top = self.numerator * other.denominator\n",
    "        bottom = self.denominator * other.numerator\n",
    "        \n",
    "        return Fraction(top, bottom)\n",
    "    \n",
    "    def __lt__(self, other): \n",
    "        \"\"\"\n",
    "        Overload \"<\" operator for fractions\n",
    "        \"\"\"\n",
    "        other=change_to_frac(other)\n",
    "        \n",
    "        return(self.numerator*other.denominator < other.numerator*self.denominator)\n",
    "\n",
    "    def __gt__(self, other):\n",
    "        \"\"\"\n",
    "        Overload \">\" operator for fractions\n",
    "        \"\"\"\n",
    "        other=change_to_frac(other)\n",
    "        \n",
    "        return(self.numerator*other.denominator > other.numerator*self.denominator)\n",
    "\n",
    "    def __eq__(self, other):\n",
    "        \"\"\"\n",
    "        Overload \"==\" operator for fractions\n",
    "        \"\"\"\n",
    "        other=change_to_frac(other)\n",
    "        \n",
    "        return(self.numerator*other.denominator == other.numerator*self.denominator)\n",
    "\n",
    "    def __ne__(self, other):\n",
    "        \"\"\"\n",
    "        Overload \"!=\" operator for fractions\n",
    "        \"\"\"\n",
    "        other=change_to_frac(other)\n",
    "        \n",
    "        return(self.numerator*other.denominator != other.numerator*self.denominator)\n",
    "\n",
    "    def __le__(self, other):\n",
    "        \"\"\"\n",
    "        Overload \"<=\" operator for fractions\n",
    "        \"\"\"\n",
    "        other=change_to_frac(other)\n",
    "        \n",
    "        return(self<other or self==other)\n",
    "\n",
    "    def __ge__(self, other):\n",
    "        \"\"\"\n",
    "        Overload \">=\" operator for fractions\n",
    "        \"\"\"\n",
    "        other=change_to_frac(other)\n",
    "        \n",
    "        return(self>other or self==other)\n",
    "    \n",
    "    def get_num(self):\n",
    "        \"\"\"\n",
    "        Get numerator from the fraction\n",
    "        \"\"\"\n",
    "        return self.numerator\n",
    "    \n",
    "    def get_den(self):\n",
    "        \"\"\"\n",
    "        Get denominator from the fraction\n",
    "        \"\"\"\n",
    "        return self.denominator\n",
    "    \n",
    "        "
   ]
  },
  {
   "cell_type": "markdown",
   "metadata": {},
   "source": [
    "### <span style=\"color:#D47FAC;\"> <center> Creating fractions </center> </span>"
   ]
  },
  {
   "cell_type": "code",
   "execution_count": 9,
   "metadata": {},
   "outputs": [
    {
     "name": "stdout",
     "output_type": "stream",
     "text": [
      "2/3\n",
      "3/4\n",
      "1 2/3\n",
      "1\n"
     ]
    }
   ],
   "source": [
    "int_int = Fraction(2,3)\n",
    "print(int_int)\n",
    "\n",
    "fl_int = Fraction(1.5, 2)\n",
    "print(fl_int)\n",
    "\n",
    "int_fl = Fraction(2, 1.2)\n",
    "print(int_fl)\n",
    "\n",
    "fl_fl = Fraction(1.5, 1.5)\n",
    "print(fl_fl)"
   ]
  },
  {
   "cell_type": "markdown",
   "metadata": {},
   "source": [
    "### <span style=\"color:#D47FAC;\"> <center> Attempt to create the fraction with 0 in denominator </center> </span>"
   ]
  },
  {
   "cell_type": "code",
   "execution_count": 10,
   "metadata": {},
   "outputs": [
    {
     "ename": "ZeroDivisionError",
     "evalue": "Dividing by zero is not defined!",
     "output_type": "error",
     "traceback": [
      "\u001b[1;31m---------------------------------------------------------------------------\u001b[0m",
      "\u001b[1;31mZeroDivisionError\u001b[0m                         Traceback (most recent call last)",
      "\u001b[1;32m<ipython-input-10-cf1e0a77d0cb>\u001b[0m in \u001b[0;36m<module>\u001b[1;34m\u001b[0m\n\u001b[1;32m----> 1\u001b[1;33m \u001b[0mzero_fr\u001b[0m\u001b[1;33m=\u001b[0m \u001b[0mFraction\u001b[0m\u001b[1;33m(\u001b[0m\u001b[1;36m3\u001b[0m\u001b[1;33m,\u001b[0m\u001b[1;36m0\u001b[0m\u001b[1;33m)\u001b[0m\u001b[1;33m\u001b[0m\u001b[1;33m\u001b[0m\u001b[0m\n\u001b[0m\u001b[0;32m      2\u001b[0m \u001b[0mprint\u001b[0m\u001b[1;33m(\u001b[0m\u001b[0mzero_fr\u001b[0m\u001b[1;33m)\u001b[0m\u001b[1;33m\u001b[0m\u001b[1;33m\u001b[0m\u001b[0m\n",
      "\u001b[1;32m<ipython-input-8-3d3651729df3>\u001b[0m in \u001b[0;36m__init__\u001b[1;34m(self, num, denom)\u001b[0m\n\u001b[0;32m     10\u001b[0m         \"\"\"\n\u001b[0;32m     11\u001b[0m         \u001b[1;32mif\u001b[0m \u001b[0mdenom\u001b[0m \u001b[1;33m==\u001b[0m \u001b[1;36m0\u001b[0m\u001b[1;33m:\u001b[0m\u001b[1;33m\u001b[0m\u001b[1;33m\u001b[0m\u001b[0m\n\u001b[1;32m---> 12\u001b[1;33m             \u001b[1;32mraise\u001b[0m \u001b[0mZeroDivisionError\u001b[0m\u001b[1;33m(\u001b[0m\u001b[1;34m\"Dividing by zero is not defined!\"\u001b[0m\u001b[1;33m)\u001b[0m\u001b[1;33m\u001b[0m\u001b[1;33m\u001b[0m\u001b[0m\n\u001b[0m\u001b[0;32m     13\u001b[0m         \u001b[1;32melse\u001b[0m\u001b[1;33m:\u001b[0m\u001b[1;33m\u001b[0m\u001b[1;33m\u001b[0m\u001b[0m\n\u001b[0;32m     14\u001b[0m             \u001b[1;32mif\u001b[0m \u001b[0misinstance\u001b[0m\u001b[1;33m(\u001b[0m\u001b[0mnum\u001b[0m\u001b[1;33m,\u001b[0m \u001b[0mint\u001b[0m\u001b[1;33m)\u001b[0m \u001b[1;32mand\u001b[0m \u001b[0misinstance\u001b[0m\u001b[1;33m(\u001b[0m\u001b[0mdenom\u001b[0m\u001b[1;33m,\u001b[0m \u001b[0mint\u001b[0m\u001b[1;33m)\u001b[0m\u001b[1;33m:\u001b[0m\u001b[1;33m\u001b[0m\u001b[1;33m\u001b[0m\u001b[0m\n",
      "\u001b[1;31mZeroDivisionError\u001b[0m: Dividing by zero is not defined!"
     ]
    }
   ],
   "source": [
    "zero_fr= Fraction(3,0)\n",
    "print(zero_fr)"
   ]
  },
  {
   "cell_type": "markdown",
   "metadata": {},
   "source": [
    "### <span style=\"color:#D47FAC;\"> <center> Comparing fractions </center> </span>"
   ]
  },
  {
   "cell_type": "code",
   "execution_count": 11,
   "metadata": {},
   "outputs": [
    {
     "name": "stdout",
     "output_type": "stream",
     "text": [
      "3/4 -1/6\n",
      "3/4 < -1/6 False\n",
      "3/4 > -1/6 True\n",
      "3/4 == -1/6 False\n",
      "3/4 != -1/6 True\n",
      "3/4 <= -1/6 False\n",
      "3/4 >= -1/6 True\n"
     ]
    }
   ],
   "source": [
    "x = Fraction(3, 4)\n",
    "y = Fraction(1, -6)\n",
    "\n",
    "print(x, y)\n",
    "\n",
    "print(x, \"<\", y, x < y)\n",
    "print(x, \">\", y, x > y)\n",
    "print(x, \"==\", y, x == y)\n",
    "print(x, \"!=\", y, x != y)\n",
    "print(x, \"<=\", y, x <= y)\n",
    "print(x, \">=\", y, x >= y)"
   ]
  },
  {
   "cell_type": "code",
   "execution_count": 12,
   "metadata": {},
   "outputs": [
    {
     "data": {
      "text/plain": [
       "True"
      ]
     },
     "execution_count": 12,
     "metadata": {},
     "output_type": "execute_result"
    }
   ],
   "source": [
    "f2 = Fraction(3.5, 4)\n",
    "f2 < 1.5"
   ]
  },
  {
   "cell_type": "code",
   "execution_count": 13,
   "metadata": {},
   "outputs": [
    {
     "data": {
      "text/plain": [
       "True"
      ]
     },
     "execution_count": 13,
     "metadata": {},
     "output_type": "execute_result"
    }
   ],
   "source": [
    "fr=Fraction(1,2)\n",
    "fr > 1/3"
   ]
  },
  {
   "cell_type": "code",
   "execution_count": 14,
   "metadata": {},
   "outputs": [
    {
     "data": {
      "text/plain": [
       "False"
      ]
     },
     "execution_count": 14,
     "metadata": {},
     "output_type": "execute_result"
    }
   ],
   "source": [
    "fr1=Fraction(1,2)\n",
    "1/3 >  fr1"
   ]
  },
  {
   "cell_type": "markdown",
   "metadata": {},
   "source": [
    "### <span style=\"color:#D47FAC;\"> <center> Negative denominator </center> </span>"
   ]
  },
  {
   "cell_type": "code",
   "execution_count": 15,
   "metadata": {},
   "outputs": [
    {
     "name": "stdout",
     "output_type": "stream",
     "text": [
      "-10/3\n"
     ]
    }
   ],
   "source": [
    "test = Fraction(20, -6)\n",
    "print(test)"
   ]
  },
  {
   "cell_type": "code",
   "execution_count": 16,
   "metadata": {},
   "outputs": [
    {
     "name": "stdout",
     "output_type": "stream",
     "text": [
      "-1\n",
      "2\n"
     ]
    }
   ],
   "source": [
    "a = Fraction(1, -2)\n",
    "\n",
    "print(Fraction.get_num(a))\n",
    "print(Fraction.get_den(a))"
   ]
  },
  {
   "cell_type": "code",
   "execution_count": 17,
   "metadata": {},
   "outputs": [
    {
     "data": {
      "text/plain": [
       "True"
      ]
     },
     "execution_count": 17,
     "metadata": {},
     "output_type": "execute_result"
    }
   ],
   "source": [
    "u3 = Fraction(1, 2)\n",
    "u4 = Fraction(1, -4)\n",
    "\n",
    "u3 > u4"
   ]
  },
  {
   "cell_type": "code",
   "execution_count": 18,
   "metadata": {},
   "outputs": [
    {
     "data": {
      "text/plain": [
       "True"
      ]
     },
     "execution_count": 18,
     "metadata": {},
     "output_type": "execute_result"
    }
   ],
   "source": [
    "u1 = Fraction(1, -2)\n",
    "u2 = Fraction(1, -4)\n",
    "\n",
    "u1 < u2"
   ]
  },
  {
   "cell_type": "markdown",
   "metadata": {},
   "source": [
    "### <span style=\"color:#D47FAC;\"> <center> Irreducible form </center> </span>"
   ]
  },
  {
   "cell_type": "code",
   "execution_count": 19,
   "metadata": {},
   "outputs": [
    {
     "name": "stdout",
     "output_type": "stream",
     "text": [
      "1\n"
     ]
    }
   ],
   "source": [
    "a = Fraction(2.0, 2)\n",
    "print(a)"
   ]
  },
  {
   "cell_type": "code",
   "execution_count": 20,
   "metadata": {},
   "outputs": [
    {
     "name": "stdout",
     "output_type": "stream",
     "text": [
      "2 1/2\n"
     ]
    }
   ],
   "source": [
    "test2 = Fraction(5, 2)\n",
    "print(test2)"
   ]
  },
  {
   "cell_type": "code",
   "execution_count": 21,
   "metadata": {},
   "outputs": [
    {
     "name": "stdout",
     "output_type": "stream",
     "text": [
      "39/50\n"
     ]
    }
   ],
   "source": [
    "test3 = Fraction(1.56, 2)\n",
    "print(test3)"
   ]
  },
  {
   "cell_type": "code",
   "execution_count": 22,
   "metadata": {},
   "outputs": [
    {
     "name": "stdout",
     "output_type": "stream",
     "text": [
      "4/21\n"
     ]
    }
   ],
   "source": [
    "test4 = Fraction(2, 10.5)\n",
    "print(test4)"
   ]
  },
  {
   "cell_type": "code",
   "execution_count": 23,
   "metadata": {},
   "outputs": [
    {
     "name": "stdout",
     "output_type": "stream",
     "text": [
      "5/21\n"
     ]
    }
   ],
   "source": [
    "test4 = Fraction(2.5, 10.5)\n",
    "print(test4)"
   ]
  },
  {
   "cell_type": "code",
   "execution_count": 24,
   "metadata": {},
   "outputs": [
    {
     "name": "stdout",
     "output_type": "stream",
     "text": [
      "1\n"
     ]
    }
   ],
   "source": [
    "f = Fraction(1, 2)\n",
    "f2 = Fraction(2, 4)\n",
    "same = f + f2\n",
    "print(same)"
   ]
  },
  {
   "cell_type": "markdown",
   "metadata": {},
   "source": [
    "### <span style=\"color:#D47FAC;\"> <center> Elementary arithmetic </center> </span>"
   ]
  },
  {
   "cell_type": "code",
   "execution_count": 25,
   "metadata": {},
   "outputs": [
    {
     "name": "stdout",
     "output_type": "stream",
     "text": [
      "1 1/4\n"
     ]
    }
   ],
   "source": [
    "f = Fraction(1, 2)\n",
    "f2 = Fraction(3, 4)\n",
    "new = f + f2\n",
    "print(new)"
   ]
  },
  {
   "cell_type": "code",
   "execution_count": 26,
   "metadata": {},
   "outputs": [
    {
     "name": "stdout",
     "output_type": "stream",
     "text": [
      "-1/4\n"
     ]
    }
   ],
   "source": [
    "f3 = Fraction(1, 2)\n",
    "f4 = Fraction(3, 4)\n",
    "new2 = f3 - f4\n",
    "print(new2)"
   ]
  },
  {
   "cell_type": "code",
   "execution_count": 27,
   "metadata": {},
   "outputs": [
    {
     "name": "stdout",
     "output_type": "stream",
     "text": [
      "3/8\n"
     ]
    }
   ],
   "source": [
    "f5 = Fraction(1, 2)\n",
    "f6 = Fraction(3, 4)\n",
    "new3 = f5 * f6\n",
    "print(new3)"
   ]
  },
  {
   "cell_type": "code",
   "execution_count": 28,
   "metadata": {},
   "outputs": [
    {
     "name": "stdout",
     "output_type": "stream",
     "text": [
      "2/3\n"
     ]
    }
   ],
   "source": [
    "f7 = Fraction(1, 2)\n",
    "f8 = Fraction(3, 4)\n",
    "new4 = f7 / f8\n",
    "print(new4)"
   ]
  },
  {
   "cell_type": "code",
   "execution_count": 29,
   "metadata": {},
   "outputs": [
    {
     "name": "stdout",
     "output_type": "stream",
     "text": [
      "4 1/2\n",
      "-9/4\n",
      "1\n"
     ]
    }
   ],
   "source": [
    "f9 = Fraction(1, 2)\n",
    "f10 = Fraction(3, 4)\n",
    "new5 = f9 + 4\n",
    "new6 = f10 - 3\n",
    "print(new5)\n",
    "print(new6)\n",
    "print(2*f9)"
   ]
  },
  {
   "cell_type": "markdown",
   "metadata": {},
   "source": [
    "### <span style=\"color:#D47FAC;\"> <center> Link to our code: https://github.com/maggszy/date_algorithm/tree/main/list1  </center> </span>"
   ]
  }
 ],
 "metadata": {
  "@webio": {
   "lastCommId": null,
   "lastKernelId": null
  },
  "kernelspec": {
   "display_name": "Python 3",
   "language": "python",
   "name": "python3"
  },
  "language_info": {
   "codemirror_mode": {
    "name": "ipython",
    "version": 3
   },
   "file_extension": ".py",
   "mimetype": "text/x-python",
   "name": "python",
   "nbconvert_exporter": "python",
   "pygments_lexer": "ipython3",
   "version": "3.8.5"
  }
 },
 "nbformat": 4,
 "nbformat_minor": 5
}
