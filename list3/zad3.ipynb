{
 "cells": [
  {
   "cell_type": "code",
   "execution_count": 15,
   "id": "28a11719",
   "metadata": {},
   "outputs": [],
   "source": [
    "def counting_chars_without_ifs(filename):\n",
    "    file_ref = open(filename, 'r')\n",
    "    text = file_ref.read()\n",
    "    # uzupełnij ciało tej funkcji kodem realizującym cel zadania;\n",
    "    # w zmiennej 'char_count' zwróć słownik zawierający wszystkie znaki tekstu \n",
    "    # jako klucze i ich liczebnoć jako wartości np. {'a': 6, 'b': 2 ...};\n",
    "    # jeli potrzebujesz, możesz dopisać również inne funkcje (pomocnicze), \n",
    "    # jednak główny cel zadania musi być realizowany w tej funkcji;\n",
    "    low_text = text.lower()\n",
    "    striped_text = ''.join(low_text.split())\n",
    "    char_count = {i:striped_text.count(i) for i in set(striped_text)}  \n",
    "    return char_count\n"
   ]
  },
  {
   "cell_type": "code",
   "execution_count": 16,
   "id": "305204d0",
   "metadata": {},
   "outputs": [
    {
     "data": {
      "text/plain": [
       "{'a': 74,\n",
       " 'g': 16,\n",
       " ',': 10,\n",
       " 'j': 1,\n",
       " 'n': 79,\n",
       " 'f': 26,\n",
       " 'l': 34,\n",
       " '.': 7,\n",
       " 'o': 72,\n",
       " 'b': 14,\n",
       " 'r': 48,\n",
       " 'h': 83,\n",
       " 'm': 21,\n",
       " 'q': 1,\n",
       " \"'\": 1,\n",
       " 'i': 62,\n",
       " '-': 2,\n",
       " ';': 4,\n",
       " 'd': 39,\n",
       " 'w': 21,\n",
       " 'y': 23,\n",
       " 'e': 115,\n",
       " 's': 51,\n",
       " 'k': 9,\n",
       " 'c': 16,\n",
       " 'v': 12,\n",
       " 'p': 12,\n",
       " 'u': 25,\n",
       " 't': 74}"
      ]
     },
     "execution_count": 16,
     "metadata": {},
     "output_type": "execute_result"
    }
   ],
   "source": [
    "counting_chars_without_ifs('L3_ZAD3_sample_text.txt')"
   ]
  }
 ],
 "metadata": {
  "kernelspec": {
   "display_name": "Python 3 (ipykernel)",
   "language": "python",
   "name": "python3"
  },
  "language_info": {
   "codemirror_mode": {
    "name": "ipython",
    "version": 3
   },
   "file_extension": ".py",
   "mimetype": "text/x-python",
   "name": "python",
   "nbconvert_exporter": "python",
   "pygments_lexer": "ipython3",
   "version": "3.9.7"
  }
 },
 "nbformat": 4,
 "nbformat_minor": 5
}
