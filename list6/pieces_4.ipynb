{
 "cells": [
  {
   "cell_type": "code",
   "execution_count": 2,
   "metadata": {},
   "outputs": [],
   "source": [
    "import operator\n",
    "import string\n",
    "import time\n",
    "from typing import Any, List, Optional, Tuple, Union"
   ]
  },
  {
   "cell_type": "code",
   "execution_count": 9,
   "metadata": {},
   "outputs": [],
   "source": [
    "basic_operators = {\"+\": 3, \"-\": 3, \"*\": 2, \"/\": 2, \"^\": 1}\n",
    "one_arg_fncts = {\"sqrt\": 0,\"ln\": 0,\"exp\": 0,\"sin\": 0,\"cos\": 0,\"tan\": 0,\"ctan\": 0,}\n",
    "brackets = {\"(\": 4, \")\": 4}\n",
    "\n",
    "letters = set(string.ascii_lowercase).union(set(string.ascii_uppercase)).union({\"pi\"})\n",
    "digits = set(string.digits).union({\".\", \"-\"})"
   ]
  },
  {
   "cell_type": "code",
   "execution_count": 10,
   "metadata": {},
   "outputs": [
    {
     "data": {
      "text/plain": [
       "['m', 'a']"
      ]
     },
     "execution_count": 10,
     "metadata": {},
     "output_type": "execute_result"
    }
   ],
   "source": [
    "def parsing(experssion):\n",
    "    expr_list = list(expression)\n",
    "    elems = []\n",
    "    funcs = set({**basic_operators, **one_arg_fncts, **brackets}.keys())\n",
    "    for chars in sorted(funcs.union(letters), key=len, reverse=True):\n",
    "        find = True\n",
    "        chars_len = len(chars)\n",
    "        while find:\n",
    "            try:\n",
    "                occur_ind = \"\".join(expr_list).index(chars)\n",
    "                expr_list[occur_ind : occur_ind + chars_len] = [\" \"] * chars_len\n",
    "                elems.append([occur_ind, chars])\n",
    "            except ValueError:\n",
    "                find = False\n",
    "\n",
    "    nums = \"\".join(expr_list).split()\n",
    "\n",
    "    for num in nums:\n",
    "        occur_ind = \"\".join(expr_list).index(num)\n",
    "        expr_list[occur_ind : occur_ind + chars_len] = [\" \"] * chars_len\n",
    "        elems.append([occur_ind, num])\n",
    "\n",
    "    result = []\n",
    "    elems_dict = dict(elems)\n",
    "    for ind in sorted(elems_dict):\n",
    "        result.append(elems_dict[ind])\n",
    "    \n",
    "    if len(result)==0:\n",
    "        raise Exception(\"There is no given expression\")\n",
    "    else:\n",
    "        return result\n",
    "\n",
    "expression = \"ma\"\n",
    "parsing(expression)   "
   ]
  },
  {
   "cell_type": "code",
   "execution_count": null,
   "metadata": {},
   "outputs": [],
   "source": []
  }
 ],
 "metadata": {
  "kernelspec": {
   "display_name": "Python 3",
   "language": "python",
   "name": "python3"
  },
  "language_info": {
   "codemirror_mode": {
    "name": "ipython",
    "version": 3
   },
   "file_extension": ".py",
   "mimetype": "text/x-python",
   "name": "python",
   "nbconvert_exporter": "python",
   "pygments_lexer": "ipython3",
   "version": "3.8.5"
  }
 },
 "nbformat": 4,
 "nbformat_minor": 4
}
