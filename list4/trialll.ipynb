{
 "cells": [
  {
   "cell_type": "markdown",
   "metadata": {},
   "source": [
    "\n",
    " #  <span style=\"color:#D47FAC;\"> <center>LIST 4 </center> </span>\n",
    "\n",
    "Authors: _Jakubik Małgorzata, Szymkowiak Magdalena_"
   ]
  },
  {
   "cell_type": "markdown",
   "metadata": {},
   "source": [
    "## <span style=\"color:#D47FAC;\">TASK 1</span> "
   ]
  },
  {
   "cell_type": "code",
   "execution_count": 38,
   "metadata": {},
   "outputs": [],
   "source": [
    "class QueueBaB(object): #first in, first out\n",
    "    #check if dodawanie i usuwanie z listy jest poprawne\n",
    "    \n",
    "    def __init__(self):\n",
    "        self.list_of_items = []\n",
    "    \n",
    "    def enqueue(self, item):\n",
    "        self.list_of_items.append(item)\n",
    "    \n",
    "    def dequeue(self):\n",
    "        return self.list_of_items.pop(0)\n",
    "  \n",
    "    def is_empty(self):\n",
    "        return self.list_of_items==[]\n",
    "    \n",
    "    def size(self):\n",
    "        return len(self.list_of_items)\n",
    "    \n",
    "    def __str__(self):\n",
    "        return str(self.list_of_items)\n",
    "        "
   ]
  },
  {
   "cell_type": "code",
   "execution_count": 39,
   "metadata": {},
   "outputs": [],
   "source": [
    "first=QueueBaB()"
   ]
  },
  {
   "cell_type": "code",
   "execution_count": 40,
   "metadata": {},
   "outputs": [
    {
     "data": {
      "text/plain": [
       "True"
      ]
     },
     "execution_count": 40,
     "metadata": {},
     "output_type": "execute_result"
    }
   ],
   "source": [
    "first.is_empty()"
   ]
  },
  {
   "cell_type": "code",
   "execution_count": 41,
   "metadata": {},
   "outputs": [
    {
     "data": {
      "text/plain": [
       "3"
      ]
     },
     "execution_count": 41,
     "metadata": {},
     "output_type": "execute_result"
    }
   ],
   "source": [
    "first.enqueue('4')\n",
    "first.enqueue(5)\n",
    "first.enqueue(\"'a','a'\")\n",
    "first.size()"
   ]
  },
  {
   "cell_type": "code",
   "execution_count": 42,
   "metadata": {},
   "outputs": [
    {
     "data": {
      "text/plain": [
       "'4'"
      ]
     },
     "execution_count": 42,
     "metadata": {},
     "output_type": "execute_result"
    }
   ],
   "source": [
    "first.dequeue()"
   ]
  },
  {
   "cell_type": "code",
   "execution_count": 43,
   "metadata": {},
   "outputs": [
    {
     "name": "stdout",
     "output_type": "stream",
     "text": [
      "[5, \"'a','a'\"]\n"
     ]
    }
   ],
   "source": [
    "print(first)"
   ]
  },
  {
   "cell_type": "code",
   "execution_count": 13,
   "metadata": {},
   "outputs": [],
   "source": [
    "class QueueBaE(object):\n",
    "\n",
    "    def __init__(self):\n",
    "        self.list_of_items = []\n",
    "    \n",
    "    def enqueue(self, item):\n",
    "        self.list_of_items.insert(0,item)\n",
    "    \n",
    "    def dequeue(self):\n",
    "        return self.list_of_items.pop()\n",
    "  \n",
    "    def is_empty(self):\n",
    "        return self.list_of_items==[]\n",
    "    \n",
    "    def size(self):\n",
    "        return len(self.list_of_items) \n",
    "    \n",
    "    def perform(self):\n",
    "        print(self.list_of_items)"
   ]
  },
  {
   "cell_type": "code",
   "execution_count": 14,
   "metadata": {},
   "outputs": [],
   "source": [
    "second=QueueBaE()"
   ]
  },
  {
   "cell_type": "code",
   "execution_count": 15,
   "metadata": {},
   "outputs": [],
   "source": [
    "second.enqueue(4)\n",
    "second.enqueue(6)\n",
    "second.enqueue(8)"
   ]
  },
  {
   "cell_type": "code",
   "execution_count": 16,
   "metadata": {},
   "outputs": [
    {
     "data": {
      "text/plain": [
       "4"
      ]
     },
     "execution_count": 16,
     "metadata": {},
     "output_type": "execute_result"
    }
   ],
   "source": [
    "second.dequeue()"
   ]
  },
  {
   "cell_type": "code",
   "execution_count": 17,
   "metadata": {},
   "outputs": [
    {
     "name": "stdout",
     "output_type": "stream",
     "text": [
      "[8, 6]\n"
     ]
    }
   ],
   "source": [
    "second.perform()"
   ]
  },
  {
   "cell_type": "code",
   "execution_count": 18,
   "metadata": {},
   "outputs": [
    {
     "data": {
      "text/plain": [
       "False"
      ]
     },
     "execution_count": 18,
     "metadata": {},
     "output_type": "execute_result"
    }
   ],
   "source": [
    "second.is_empty()"
   ]
  },
  {
   "cell_type": "markdown",
   "metadata": {},
   "source": [
    "## <span style=\"color:#D47FAC;\">TASK 2</span> "
   ]
  },
  {
   "cell_type": "code",
   "execution_count": 19,
   "metadata": {},
   "outputs": [],
   "source": [
    "import time\n",
    "import matplotlib.pyplot as plt\n",
    "import numpy as np"
   ]
  },
  {
   "cell_type": "markdown",
   "metadata": {},
   "source": [
    "Porównujemy czas dodawania i ściągania elementów z kolejki.\n",
    "\n",
    "`czy rodzaj dodawanych elementów ma znaczenie?`\n",
    "- wykresy --> not sure czy to tak powinno działać, czy wartości czasu są dobrze zdefiniowane\n",
    "- wychodzą ujemne czasy\n",
    "- poprawić ich wygląd"
   ]
  },
  {
   "cell_type": "code",
   "execution_count": 23,
   "metadata": {},
   "outputs": [],
   "source": [
    "def time_measure(n):\n",
    "    BaB=QueueBaB()\n",
    "    BaE=QueueBaE()\n",
    "    \n",
    "    startB1=time.time()\n",
    "    for i in range(n):\n",
    "        BaB.enqueue(i)\n",
    "    endB1= time.time()\n",
    "        \n",
    "    startE1=time.time()\n",
    "    for i in range(n):\n",
    "        BaE.enqueue(i)\n",
    "    endE1=time.time()\n",
    "    \n",
    "    startB2=time.time()\n",
    "    for _ in range(n):\n",
    "        BaB.dequeue()\n",
    "    endB2= time.time()\n",
    "    \n",
    "    startE2=time.time()\n",
    "    for _ in range(n):\n",
    "        BaE.dequeue()\n",
    "    endE2=time.time()\n",
    "    \n",
    "    return endB1-startB1, endB2-startB2,endE1-startE1,endE2-startE2"
   ]
  },
  {
   "cell_type": "code",
   "execution_count": 24,
   "metadata": {},
   "outputs": [
    {
     "data": {
      "text/plain": [
       "(0.0019943714141845703,\n",
       " 0.00899958610534668,\n",
       " 0.04789876937866211,\n",
       " 0.002042055130004883)"
      ]
     },
     "execution_count": 24,
     "metadata": {},
     "output_type": "execute_result"
    }
   ],
   "source": [
    "time_measure(10000)"
   ]
  },
  {
   "cell_type": "code",
   "execution_count": 44,
   "metadata": {},
   "outputs": [
    {
     "name": "stdout",
     "output_type": "stream",
     "text": [
      "BaB.enqueue 0 sekund, BaE.enqueue 469.392699 sekund. \n",
      " BaB.dequeue 298 sekund, BaE.dequeue 1.247499e-01 sekund. \n",
      "\n",
      "BaB.enqueue 0 sekund, BaE.enqueue 436.032123 sekund. \n",
      " BaB.dequeue 308 sekund, BaE.dequeue 1.167347e-01 sekund. \n",
      "\n"
     ]
    },
    {
     "ename": "KeyboardInterrupt",
     "evalue": "",
     "output_type": "error",
     "traceback": [
      "\u001b[1;31m---------------------------------------------------------------------------\u001b[0m",
      "\u001b[1;31mKeyboardInterrupt\u001b[0m                         Traceback (most recent call last)",
      "\u001b[1;32m~\\AppData\\Local\\Temp/ipykernel_21284/931681792.py\u001b[0m in \u001b[0;36m<module>\u001b[1;34m\u001b[0m\n\u001b[0;32m      1\u001b[0m \u001b[1;32mfor\u001b[0m \u001b[0mi\u001b[0m \u001b[1;32min\u001b[0m \u001b[0mrange\u001b[0m\u001b[1;33m(\u001b[0m\u001b[1;36m5\u001b[0m\u001b[1;33m)\u001b[0m\u001b[1;33m:\u001b[0m\u001b[1;33m\u001b[0m\u001b[1;33m\u001b[0m\u001b[0m\n\u001b[1;32m----> 2\u001b[1;33m     \u001b[0mprint\u001b[0m\u001b[1;33m(\u001b[0m\u001b[1;34m\"BaB.enqueue %d sekund, BaE.enqueue %f sekund. \\n BaB.dequeue %d sekund, BaE.dequeue %e sekund. \\n\"\u001b[0m\u001b[1;33m%\u001b[0m\u001b[0mtime_measure\u001b[0m\u001b[1;33m(\u001b[0m\u001b[1;36m1000000\u001b[0m\u001b[1;33m)\u001b[0m\u001b[1;33m)\u001b[0m\u001b[1;33m\u001b[0m\u001b[1;33m\u001b[0m\u001b[0m\n\u001b[0m",
      "\u001b[1;32m~\\AppData\\Local\\Temp/ipykernel_21284/916920064.py\u001b[0m in \u001b[0;36mtime_measure\u001b[1;34m(n)\u001b[0m\n\u001b[0;32m     10\u001b[0m     \u001b[0mstartE1\u001b[0m\u001b[1;33m=\u001b[0m\u001b[0mtime\u001b[0m\u001b[1;33m.\u001b[0m\u001b[0mtime\u001b[0m\u001b[1;33m(\u001b[0m\u001b[1;33m)\u001b[0m\u001b[1;33m\u001b[0m\u001b[1;33m\u001b[0m\u001b[0m\n\u001b[0;32m     11\u001b[0m     \u001b[1;32mfor\u001b[0m \u001b[0mi\u001b[0m \u001b[1;32min\u001b[0m \u001b[0mrange\u001b[0m\u001b[1;33m(\u001b[0m\u001b[0mn\u001b[0m\u001b[1;33m)\u001b[0m\u001b[1;33m:\u001b[0m\u001b[1;33m\u001b[0m\u001b[1;33m\u001b[0m\u001b[0m\n\u001b[1;32m---> 12\u001b[1;33m         \u001b[0mBaE\u001b[0m\u001b[1;33m.\u001b[0m\u001b[0menqueue\u001b[0m\u001b[1;33m(\u001b[0m\u001b[0mi\u001b[0m\u001b[1;33m)\u001b[0m\u001b[1;33m\u001b[0m\u001b[1;33m\u001b[0m\u001b[0m\n\u001b[0m\u001b[0;32m     13\u001b[0m     \u001b[0mendE1\u001b[0m\u001b[1;33m=\u001b[0m\u001b[0mtime\u001b[0m\u001b[1;33m.\u001b[0m\u001b[0mtime\u001b[0m\u001b[1;33m(\u001b[0m\u001b[1;33m)\u001b[0m\u001b[1;33m\u001b[0m\u001b[1;33m\u001b[0m\u001b[0m\n\u001b[0;32m     14\u001b[0m \u001b[1;33m\u001b[0m\u001b[0m\n",
      "\u001b[1;31mKeyboardInterrupt\u001b[0m: "
     ]
    }
   ],
   "source": [
    "for i in range(5):\n",
    "    print(\"BaB.enqueue %d sekund, BaE.enqueue %f sekund. \\n BaB.dequeue %d sekund, BaE.dequeue %e sekund. \\n\"%time_measure(1000000))"
   ]
  },
  {
   "cell_type": "code",
   "execution_count": 46,
   "metadata": {},
   "outputs": [
    {
     "name": "stdout",
     "output_type": "stream",
     "text": [
      "BaB.enqueue 0 sekund, BaE.enqueue 4.913766 sekund. \n",
      " BaB.dequeue 10 sekund, BaE.dequeue 3.191376e-02 sekund. \n",
      "\n",
      "BaB.enqueue 0 sekund, BaE.enqueue 4.193618 sekund. \n",
      " BaB.dequeue 10 sekund, BaE.dequeue 3.191519e-02 sekund. \n",
      "\n",
      "BaB.enqueue 0 sekund, BaE.enqueue 4.191873 sekund. \n",
      " BaB.dequeue 10 sekund, BaE.dequeue 2.992010e-02 sekund. \n",
      "\n",
      "BaB.enqueue 0 sekund, BaE.enqueue 4.233064 sekund. \n",
      " BaB.dequeue 10 sekund, BaE.dequeue 2.298665e-02 sekund. \n",
      "\n",
      "BaB.enqueue 0 sekund, BaE.enqueue 4.296929 sekund. \n",
      " BaB.dequeue 10 sekund, BaE.dequeue 2.398443e-02 sekund. \n",
      "\n"
     ]
    }
   ],
   "source": [
    "for i in range(5):\n",
    "    print(\"BaB.enqueue %d sekund, BaE.enqueue %f sekund. \\n BaB.dequeue %d sekund, BaE.dequeue %e sekund. \\n\"%time_measure(200000))"
   ]
  },
  {
   "cell_type": "code",
   "execution_count": 29,
   "metadata": {},
   "outputs": [],
   "source": [
    "def compare_enqueue(n): #number of elements\n",
    "    \n",
    "    xb=np.linspace(0,n)\n",
    "    timeb=np.linspace(0,time_measure(n)[0])\n",
    "    xe=np.linspace(0,n)\n",
    "    timee=np.linspace(0,time_measure(n)[1])\n",
    "    \n",
    "\n",
    "    plt.plot(xb,timeb, 'C1.',label='QueueBaB')\n",
    "    plt.xlabel('Number of elements')\n",
    "    plt.ylabel('Time')\n",
    "    plt.title(\"Enqueue\")\n",
    "    \n",
    "    plt.plot(xe,timee, 'C2.', label='QueueBaE')\n",
    "    plt.xlabel('Number of elements')\n",
    "    plt.ylabel('Time')\n",
    "    plt.title(\"Enqueue\")\n",
    "    \n",
    "    \n",
    "    plt.legend()\n",
    "    plt.grid()\n",
    "    plt.show()"
   ]
  },
  {
   "cell_type": "code",
   "execution_count": 30,
   "metadata": {},
   "outputs": [
    {
     "data": {
      "image/png": "[encoded data removed]",
      "text/plain": [
       "<Figure size 432x288 with 1 Axes>"
      ]
     },
     "metadata": {
      "needs_background": "light"
     },
     "output_type": "display_data"
    }
   ],
   "source": [
    "compare_enqueue(100000)"
   ]
  },
  {
   "cell_type": "code",
   "execution_count": 136,
   "metadata": {},
   "outputs": [],
   "source": [
    "def compare_dequeue(n): #number of elements\n",
    "    \n",
    "    xb=np.linspace(0,n)\n",
    "    timeb=np.linspace(0,np.abs(time_measure(n)[2]))\n",
    "    xe=np.linspace(0,n)\n",
    "    timee=np.linspace(0,np.abs(time_measure(n)[3]))\n",
    "    \n",
    "\n",
    "    plt.plot(xb,timeb, 'C1.',label='QueueBaB')\n",
    "    plt.xlabel('Number of elements')\n",
    "    plt.ylabel('Time')\n",
    "    plt.title(\"Dequeue\")\n",
    "    \n",
    "    plt.plot(xe,timee, 'C2.', label='QueueBaE')\n",
    "    plt.xlabel('Number of elements')\n",
    "    plt.ylabel('Time')\n",
    "    plt.title(\"Dequeue\")\n",
    "    \n",
    "    plt.legend()\n",
    "    plt.grid()\n",
    "    plt.show()"
   ]
  },
  {
   "cell_type": "code",
   "execution_count": 137,
   "metadata": {},
   "outputs": [
    {
     "data": {
      "image/png": "[encoded data removed]",
      "text/plain": [
       "<Figure size 432x288 with 1 Axes>"
      ]
     },
     "metadata": {
      "needs_background": "light"
     },
     "output_type": "display_data"
    }
   ],
   "source": [
    "compare_dequeue(100000)"
   ]
  },
  {
   "cell_type": "code",
   "execution_count": 138,
   "metadata": {},
   "outputs": [
    {
     "data": {
      "image/png": "[encoded data removed]",
      "text/plain": [
       "<Figure size 432x288 with 1 Axes>"
      ]
     },
     "metadata": {
      "needs_background": "light"
     },
     "output_type": "display_data"
    }
   ],
   "source": [
    "#compare_dequeue(100000)\n",
    "compare_dequeue(100)"
   ]
  },
  {
   "cell_type": "code",
   "execution_count": 159,
   "metadata": {},
   "outputs": [],
   "source": [
    "def open_txt(filename):\n",
    "    f=open(filename,\"r\", encoding=\"utf-8\")\n",
    "    file=f.read()\n",
    "    file=file.split()\n",
    "    return file"
   ]
  },
  {
   "cell_type": "code",
   "execution_count": 160,
   "metadata": {
    "scrolled": true
   },
   "outputs": [
    {
     "data": {
      "text/plain": [
       "list"
      ]
     },
     "execution_count": 160,
     "metadata": {},
     "output_type": "execute_result"
    }
   ],
   "source": [
    "type(open_txt('historyjka.txt'))"
   ]
  },
  {
   "cell_type": "code",
   "execution_count": 161,
   "metadata": {},
   "outputs": [],
   "source": [
    "def measure_time_str(filename):\n",
    "    list_of_str=open_txt(filename)\n",
    "    BaB=QueueBaB()\n",
    "    BaE=QueueBaE()\n",
    "    \n",
    "    startB1=time.time()\n",
    "    for i in range(0,len(list_of_str)):\n",
    "        BaB.enqueue(list_of_str[i])\n",
    "    endB1=time.time()\n",
    "    \n",
    "    startE1=time.time()\n",
    "    for i in range(0,len(list_of_str)):\n",
    "        BaE.enqueue(list_of_str[i])\n",
    "    endE1=time.time()\n",
    "    \n",
    "    startB2=time.time()\n",
    "    for _ in range(0,len(list_of_str)):\n",
    "        BaB.dequeue()\n",
    "    endB2= time.time()\n",
    "    \n",
    "    startE2=time.time()\n",
    "    for _ in range(0,len(list_of_str)):\n",
    "        BaE.dequeue()\n",
    "    endE2=time.time()\n",
    "    \n",
    "    return [endB1-startB1, endB2-startB2,endE1-startE1,endE2-startE2]"
   ]
  },
  {
   "cell_type": "code",
   "execution_count": 162,
   "metadata": {},
   "outputs": [
    {
     "data": {
      "text/plain": [
       "[0.0006866455078125, 0.0, 0.0003008842468261719, 0.0]"
      ]
     },
     "execution_count": 162,
     "metadata": {},
     "output_type": "execute_result"
    }
   ],
   "source": [
    "measure_time_str('historyjka.txt')"
   ]
  },
  {
   "cell_type": "code",
   "execution_count": 169,
   "metadata": {},
   "outputs": [],
   "source": [
    "def compare_enqueue_str(filename):\n",
    "    file_txt=open_txt(filename)\n",
    "    \n",
    "    xb=np.linspace(0,len(file_txt))\n",
    "    timeb=np.linspace(0,measure_time_str(filename)[0])\n",
    "    \n",
    "    xe=np.linspace(0,len(file_txt))\n",
    "    timee=np.linspace(0,measure_time_str(filename)[1])\n",
    "    \n",
    "    plt.plot(xb,timeb, 'C1.',label='QueueBaB')\n",
    "    plt.xlabel('Number of words')\n",
    "    plt.ylabel('Time')\n",
    "    plt.title(\"Enqueue\")\n",
    "    \n",
    "    #plt.plot(xe,timee, 'C2.', label='QueueBaE')\n",
    "    plt.xlabel('Number of words')\n",
    "    plt.ylabel('Time')\n",
    "    plt.title(\"Enqueue\")\n",
    "    \n",
    "    plt.legend()\n",
    "    plt.grid()\n",
    "    plt.show()\n",
    "    "
   ]
  },
  {
   "cell_type": "code",
   "execution_count": 170,
   "metadata": {},
   "outputs": [
    {
     "data": {
      "image/png": "[encoded data removed]",
      "text/plain": [
       "<Figure size 432x288 with 1 Axes>"
      ]
     },
     "metadata": {
      "needs_background": "light"
     },
     "output_type": "display_data"
    }
   ],
   "source": [
    "compare_enqueue_str('historyjka.txt')"
   ]
  },
  {
   "cell_type": "markdown",
   "metadata": {},
   "source": [
    "### Wnioski:\n",
    "- typ dodawanych agrumentów do kolejek nie ma znaczenia, wyniki są takie same na tych samych rzędach "
   ]
  },
  {
   "cell_type": "markdown",
   "metadata": {},
   "source": [
    "## <span style=\"color:#D47FAC;\">TASK 5</span> "
   ]
  },
  {
   "cell_type": "code",
   "execution_count": 48,
   "metadata": {},
   "outputs": [],
   "source": [
    "class Node:\n",
    "\n",
    "    def __init__(self, init_data):\n",
    "        self.data = init_data\n",
    "        self.next = None\n",
    "\n",
    "    def get_data(self):\n",
    "        return self.data\n",
    "\n",
    "    def get_next(self):\n",
    "        return self.next\n",
    "\n",
    "    def set_data(self, new_data):\n",
    "        self.data = new_data\n",
    "\n",
    "    def set_next(self, new_next):\n",
    "        self.next = new_next\n",
    "\n",
    "\n",
    "class UnorderedList(object):\n",
    "\n",
    "    def __init__(self):\n",
    "        self.head = None\n",
    "\n",
    "    def is_empty(self):\n",
    "        return self.head == None\n",
    "\n",
    "    def __str__(self):\n",
    "        current = self.head\n",
    "        li = []\n",
    "        while current != None:\n",
    "            li.append(current.get_data())\n",
    "            current = current.get_next()\n",
    "        s = (\"elements in the list are [\" + ', '.join(['{}'] * len(li)) + \"]\")\n",
    "        return s.format(*li)\n",
    "\n",
    "    def add(self, item):\n",
    "        temp = Node(item)\n",
    "        temp.set_next(self.head)\n",
    "        self.head = temp\n",
    "\n",
    "    def size(self):\n",
    "        current = self.head\n",
    "        count = 0\n",
    "        while current != None:\n",
    "            count = count + 1\n",
    "            current = current.get_next()\n",
    "        return count\n",
    "\n",
    "    def search(self, item):\n",
    "        current = self.head\n",
    "        found = False\n",
    "        while current != None and not found:\n",
    "            if current.get_data() == item:\n",
    "                found = True\n",
    "            else:\n",
    "                current = current.get_next()\n",
    "        return found\n",
    "\n",
    "    def remove(self, item):\n",
    "        current = self.head\n",
    "        previous = None\n",
    "        found = False\n",
    "        if self.is_empty():\n",
    "            print(\"List already empty\")\n",
    "            return\n",
    "        while not found:\n",
    "            if current.getData() == item:\n",
    "                found = True\n",
    "            else:\n",
    "                previous = current\n",
    "                current = current.getNext()\n",
    "                if current == None:\n",
    "                    print(\"Item not found\")\n",
    "                    return\n",
    "\n",
    "        if previous == None:  # jeśli usuwamy pierwszy element\n",
    "            self.head = current.getNext()\n",
    "        else:\n",
    "            previous.setNext(current.getNext())\n",
    "\n",
    "    def append(self, item):\n",
    "        \"\"\"\n",
    "        Metoda dodająca element na koniec listy.\n",
    "        Przyjmuje jako argument obiekt, który ma zostać dodany.\n",
    "        Niczego nie zwraca.\n",
    "        \"\"\"\n",
    "        current = self.head\n",
    "        previous = None\n",
    "        temp = Node(item)\n",
    "\n",
    "        if not self.is_empty():\n",
    "\n",
    "            while current != None:\n",
    "                previous = current\n",
    "                current = current.get_next()\n",
    "\n",
    "            previous.set_next(temp)\n",
    "\n",
    "        else:\n",
    "            self.add(item)\n",
    "\n",
    "    def index(self, item):\n",
    "        \"\"\"\n",
    "        Metoda podaje miejsce na liście,\n",
    "        na którym znajduje się określony element -\n",
    "        element pod self.head ma indeks 0.\n",
    "        Przyjmuje jako argument element,\n",
    "        którego pozycja ma zostać określona.\n",
    "        Zwraca pozycję elementu na liście lub None w przypadku,\n",
    "        gdy wskazanego elementu na liście nie ma.\n",
    "        \"\"\"\n",
    "        index = 0\n",
    "        current = self.head\n",
    "        found = False\n",
    "\n",
    "        while current != None and not found:\n",
    "            if current.get_data() == item:\n",
    "                found = True\n",
    "                return index\n",
    "            else:\n",
    "                current = current.get_next()\n",
    "                index += 1\n",
    "\n",
    "    def insert(self, pos, item):\n",
    "        \"\"\"\n",
    "        Metoda umieszcza na wskazanej pozycji zadany element.\n",
    "        Przyjmuje jako argumenty pozycję,\n",
    "        na której ma umiescić element oraz ten element.\n",
    "        Niczego nie zwraca.\n",
    "        Rzuca wyjątkiem IndexError w przypadku,\n",
    "        gdy nie jest możliwe umieszczenie elementu\n",
    "        na zadanej pozycji (np. na 5. miejsce w 3-elementowej liście).\n",
    "        \"\"\"\n",
    "        current = self.head\n",
    "        previous = None\n",
    "        temp = Node(item)\n",
    "        index = 0\n",
    "\n",
    "        if pos > self.size() or pos < -self.size() - 1:\n",
    "            raise IndexError(\"Wrong position!\")\n",
    "\n",
    "        else:\n",
    "            if pos < 0:\n",
    "                pos += self.size() + 1\n",
    "\n",
    "            if pos == 0:\n",
    "                self.add(item)\n",
    "\n",
    "            else:\n",
    "                while current != None and index < pos:\n",
    "                    previous = current\n",
    "                    current = current.get_next()\n",
    "                    index += 1\n",
    "\n",
    "                previous.set_next(temp)\n",
    "                temp.set_next(current)\n",
    "\n",
    "    def pop(self, pos=-1):\n",
    "        \"\"\"\n",
    "        Metoda usuwa z listy element na zadaniej pozycji.\n",
    "        Przyjmuje jako opcjonalny argument pozycję,\n",
    "        z której ma zostać usunięty element.\n",
    "        Jeśli pozycja nie zostanie podana,\n",
    "        metoda usuwa (odłącza) ostatni element z listy.\n",
    "        Zwraca wartość usuniętego elementu.\n",
    "        Rzuca wyjątkiem IndexError w przypadku,\n",
    "        gdy usunięcie elementu z danej pozycji jest niemożliwe.\n",
    "        \"\"\"\n",
    "        current = self.head\n",
    "        previous = None\n",
    "        index = 0\n",
    "\n",
    "        if self.is_empty():\n",
    "            raise IndexError(\"Data structure already empty!\")\n",
    "        elif pos >= self.size() or pos < -self.size():\n",
    "            raise IndexError(\"Wrong position!\")\n",
    "\n",
    "        else:\n",
    "            if pos < 0:\n",
    "                pos += self.size()\n",
    "\n",
    "            if self.size() == 1:\n",
    "                self.head = None\n",
    "                return current.get_data()\n",
    "            else:\n",
    "                while current != None and index < pos:\n",
    "                    previous = current\n",
    "                    current = current.get_next()\n",
    "                    index += 1\n",
    "\n",
    "                if previous == None:  # jeśli usuwamy pierwszy element\n",
    "                    self.head = current.get_next()\n",
    "                    return current.get_data()\n",
    "                else:\n",
    "                    previous.set_next(current.get_next())\n",
    "                    return current.get_data()\n",
    "\n",
    "    def peek(self):\n",
    "        \"\"\"\n",
    "        Metoda podaje wartość elementu na końcu listy\n",
    "        nie ściągajac go.\n",
    "        Nie pobiera argumentów.\n",
    "        Jeśli lsta jest pusta, rzuca wyjątkiem IndexError.\n",
    "        \"\"\"\n",
    "        current = self.head\n",
    "        previous = None\n",
    "\n",
    "        if not self.is_empty():\n",
    "\n",
    "            while current != None:\n",
    "                previous = current\n",
    "                current = current.get_next()\n",
    "\n",
    "            return previous.get_data()\n",
    "\n",
    "        else:\n",
    "            raise IndexError(\"Data structure is empty!\")\n"
   ]
  },
  {
   "cell_type": "code",
   "execution_count": null,
   "metadata": {},
   "outputs": [],
   "source": []
  },
  {
   "cell_type": "markdown",
   "metadata": {},
   "source": [
    "## <span style=\"color:#D47FAC;\">TASK 8</span> "
   ]
  },
  {
   "cell_type": "code",
   "execution_count": 49,
   "metadata": {},
   "outputs": [],
   "source": [
    "mylist = UnorderedList()\n",
    "pylist = []"
   ]
  },
  {
   "cell_type": "markdown",
   "metadata": {},
   "source": [
    "#### Dodawanie elementów do listy na początku i na końcu"
   ]
  },
  {
   "cell_type": "code",
   "execution_count": 50,
   "metadata": {},
   "outputs": [],
   "source": [
    "def list_analysis(n):\n",
    "   \n",
    "    startml_1=time.time()\n",
    "    for i in range(n):\n",
    "        mylist.add(i)\n",
    "    endml_1= time.time()\n",
    "        \n",
    "    startpy_1=time.time()\n",
    "    for i in range(n):\n",
    "        pylist.insert(0, i)\n",
    "    endpy_1=time.time()\n",
    "    \n",
    "    startml_n=time.time()\n",
    "    for _ in range(n):\n",
    "        mylist.append(i)\n",
    "    endml_n= time.time()\n",
    "    \n",
    "    startpy_n=time.time()\n",
    "    for _ in range(n):\n",
    "        pylist.append(i)\n",
    "    endpy_n=time.time()\n",
    "    \n",
    "    return endml_1-startml_1, endpy_1-startpy_1,endml_n-startml_n,endpy_n-startpy_n"
   ]
  },
  {
   "cell_type": "code",
   "execution_count": 57,
   "metadata": {},
   "outputs": [],
   "source": [
    "def add_first(n): #number of elements\n",
    "    \n",
    "    xb=np.linspace(0,n)\n",
    "    timeb=np.linspace(0,list_analysis(n)[0])\n",
    "    xe=np.linspace(0,n)\n",
    "    timee=np.linspace(0,list_analysis(n)[1])\n",
    "    \n",
    "\n",
    "    plt.plot(xb,timeb, 'C1.',label='UnorderedList')\n",
    "    plt.xlabel('Number of elements')\n",
    "    plt.ylabel('Time')\n",
    "    plt.title(\"Adding to the first position\")\n",
    "    \n",
    "    plt.plot(xe,timee, 'C2.', label='Python list')\n",
    "    plt.xlabel('Number of elements')\n",
    "    plt.ylabel('Time')\n",
    "    plt.title(\"Adding to the first position\")\n",
    "    \n",
    "    \n",
    "    plt.legend()\n",
    "    plt.grid()\n",
    "    plt.show()"
   ]
  },
  {
   "cell_type": "code",
   "execution_count": 61,
   "metadata": {},
   "outputs": [
    {
     "data": {
      "image/png": "[encoded data removed]",
      "text/plain": [
       "<Figure size 432x288 with 1 Axes>"
      ]
     },
     "metadata": {
      "needs_background": "light"
     },
     "output_type": "display_data"
    }
   ],
   "source": [
    "add_first(10000)"
   ]
  },
  {
   "cell_type": "code",
   "execution_count": 65,
   "metadata": {},
   "outputs": [],
   "source": [
    "def add_last(n): #number of elements\n",
    "    \n",
    "    xb=np.linspace(0,n)\n",
    "    timeb=np.linspace(0,list_analysis(n)[2])\n",
    "    xe=np.linspace(0,n)\n",
    "    timee=np.linspace(0,list_analysis(n)[3])\n",
    "    \n",
    "\n",
    "    plt.plot(xb,timeb, 'C1.',label='UnorderedList')\n",
    "    plt.xlabel('Number of elements')\n",
    "    plt.ylabel('Time')\n",
    "    plt.title(\"Adding to the last position\")\n",
    "    \n",
    "    plt.plot(xe,timee, 'C2.', label='Python list')\n",
    "    plt.xlabel('Number of elements')\n",
    "    plt.ylabel('Time')\n",
    "    plt.title(\"Adding to the last position\")\n",
    "    \n",
    "    \n",
    "    plt.legend()\n",
    "    plt.grid()\n",
    "    plt.show()"
   ]
  },
  {
   "cell_type": "code",
   "execution_count": 60,
   "metadata": {},
   "outputs": [
    {
     "data": {
      "image/png": "[encoded data removed]",
      "text/plain": [
       "<Figure size 432x288 with 1 Axes>"
      ]
     },
     "metadata": {
      "needs_background": "light"
     },
     "output_type": "display_data"
    }
   ],
   "source": [
    "add_last(10000)"
   ]
  },
  {
   "cell_type": "markdown",
   "metadata": {},
   "source": [
    "#### Analiza metody pop"
   ]
  },
  {
   "cell_type": "code",
   "execution_count": 74,
   "metadata": {},
   "outputs": [],
   "source": [
    "def pop_analysis(n):\n",
    "    \n",
    "    startml=time.time()\n",
    "    for i in range(n):\n",
    "        mylist.pop()\n",
    "    endml= time.time()\n",
    "        \n",
    "    startpy=time.time()\n",
    "    for i in range(n):\n",
    "        pylist.pop()\n",
    "    endpy=time.time()\n",
    "    \n",
    "    return endml-startml, endpy-startpy"
   ]
  },
  {
   "cell_type": "code",
   "execution_count": 75,
   "metadata": {},
   "outputs": [],
   "source": [
    "def pop_method(n): #number of elements\n",
    "    \n",
    "    xb=np.linspace(0,n)\n",
    "    timeb=np.linspace(0,pop_analysis(n)[0])\n",
    "    xe=np.linspace(0,n)\n",
    "    timee=np.linspace(0,pop_analysis(n)[1])\n",
    "    \n",
    "\n",
    "    plt.plot(xb,timeb, 'C1.',label='UnorderedList')\n",
    "    plt.xlabel('Number of elements')\n",
    "    plt.ylabel('Time')\n",
    "    plt.title(\"Using pop method\")\n",
    "    \n",
    "    plt.plot(xe,timee, 'C2.', label='Python list')\n",
    "    plt.xlabel('Number of elements')\n",
    "    plt.ylabel('Time')\n",
    "    plt.title(\"Using pop method\")\n",
    "    \n",
    "    \n",
    "    plt.legend()\n",
    "    plt.grid()\n",
    "    plt.show()"
   ]
  },
  {
   "cell_type": "code",
   "execution_count": 77,
   "metadata": {},
   "outputs": [
    {
     "data": {
      "image/png": "[encoded data removed]",
      "text/plain": [
       "<Figure size 432x288 with 1 Axes>"
      ]
     },
     "metadata": {
      "needs_background": "light"
     },
     "output_type": "display_data"
    }
   ],
   "source": [
    "pop_method(10)"
   ]
  }
 ],
 "metadata": {
  "kernelspec": {
   "display_name": "Python 3 (ipykernel)",
   "language": "python",
   "name": "python3"
  },
  "language_info": {
   "codemirror_mode": {
    "name": "ipython",
    "version": 3
   },
   "file_extension": ".py",
   "mimetype": "text/x-python",
   "name": "python",
   "nbconvert_exporter": "python",
   "pygments_lexer": "ipython3",
   "version": "3.9.7"
  }
 },
 "nbformat": 4,
 "nbformat_minor": 4
}
